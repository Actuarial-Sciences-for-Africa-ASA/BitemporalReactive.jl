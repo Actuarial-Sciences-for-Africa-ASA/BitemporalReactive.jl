{
 "cells": [
  {
   "cell_type": "code",
   "execution_count": null,
   "metadata": {},
   "outputs": [],
   "source": [
    "#loading packages\n",
    "push!(LOAD_PATH, \"src\");\n",
    "import Base: @kwdef\n",
    "using Pkg\n",
    "Pkg.activate(\".\")\n",
    "using Test\n",
    "using LifeInsuranceDataModel\n",
    "using BitemporalPostgres\n",
    "using SearchLight\n",
    "using SearchLightPostgreSQL\n",
    "using TimeZones\n",
    "using ToStruct\n",
    "using JSON\n"
   ]
  },
  {
   "cell_type": "code",
   "execution_count": null,
   "metadata": {},
   "outputs": [],
   "source": [
    "if (haskey(ENV, \"GITPOD_REPO_ROOT\"))\n",
    "    run(```psql -f sqlsnippets/droptables.sql```)\n",
    "else\n",
    "    ENV[\"SEARCHLIGHT_USERNAME\"] = \"bitemporalpostgres\"\n",
    "    ENV[\"SEARCHLIGHT_PASSWORD\"] = \"jw8s0F49KL\"\n",
    "    println(\"execute this in Your REPL\")\n",
    "    println(\"\"\"run(```sudo -u postgres psql -f sqlsnippets/droptables.sql```)\"\"\")\n",
    "end\n",
    "\n",
    "LifeInsuranceDataModel.connect()"
   ]
  },
  {
   "cell_type": "code",
   "execution_count": null,
   "metadata": {},
   "outputs": [],
   "source": [
    "c = find(Contract, SQLWhereExpression(\"id=?\", 1))[1]\n",
    "crOld = find(ContractRevision, SQLWhereExpression(\"ref_component=? and ref_invalidfrom=?\", 1,9223372036854775807))[1]\n",
    "\n",
    "cr =  ContractRevision(ref_component=c.id, description=\"mutation for testing active transactions\")\n",
    "w0 = Workflow(\n",
    "    ref_history=c.ref_history,\n",
    "    tsw_validfrom=ZonedDateTime(2022, 5, 30, 21, 0, 1, 1, tz\"Africa/Porto-Novo\"),\n",
    ")\n",
    "update_entity!(w0)\n",
    "update_component!(crOld, cr, w0)\n",
    "# commit_workflow!(w2)"
   ]
  },
  {
   "cell_type": "code",
   "execution_count": null,
   "metadata": {},
   "outputs": [],
   "source": [
    "w=find(Workflow,SQLWhereExpression(\"id=?\", 13))[1]\n",
    "rollback_workflow!(w)"
   ]
  },
  {
   "cell_type": "code",
   "execution_count": null,
   "metadata": {},
   "outputs": [],
   "source": [
    "function findversion(ref_history::DbId, tsdb::ZonedDateTime, tsw::ZonedDateTime)\n",
    "    find(\n",
    "        ValidityInterval,\n",
    "        SQLWhereExpression(\n",
    "            \"ref_history=? and tsrworld @> TIMESTAMPTZ ? AND tsrdb @> TIMESTAMPTZ ?\",\n",
    "            ref_history,\n",
    "            SQLInput(tsw),\n",
    "            SQLInput(tsdb),\n",
    "        ),\n",
    "    )\n",
    "end\n",
    "\n",
    "findversion(DbId(9), now(tz\"UTC\"), now(tz\"UTC\"))"
   ]
  }
 ],
 "metadata": {
  "kernelspec": {
   "display_name": "Julia 1.8.0",
   "language": "julia",
   "name": "julia-1.8"
  },
  "language_info": {
   "file_extension": ".jl",
   "mimetype": "application/julia",
   "name": "julia",
   "version": "1.8.0"
  },
  "orig_nbformat": 4
 },
 "nbformat": 4,
 "nbformat_minor": 2
}
