{
 "cells": [
  {
   "cell_type": "code",
   "execution_count": null,
   "metadata": {},
   "outputs": [
    {
     "ename": "",
     "evalue": "",
     "output_type": "error",
     "traceback": [
      "\u001b[1;31mFailed to start the Kernel. \n",
      "\u001b[1;31mView Jupyter <a href='command:jupyter.viewOutput'>log</a> for further details."
     ]
    }
   ],
   "source": [
    "#loading packages\n",
    "push!(LOAD_PATH, \"src\");\n",
    "import Base: @kwdef\n",
    "using Pkg\n",
    "Pkg.activate(\".\")\n",
    "using Test\n",
    "using LifeInsuranceDataModel\n",
    "using BitemporalPostgres\n",
    "using SearchLight\n",
    "using SearchLightPostgreSQL\n",
    "using TimeZones\n",
    "using ToStruct\n",
    "using JSON\n"
   ]
  },
  {
   "cell_type": "code",
   "execution_count": null,
   "metadata": {},
   "outputs": [
    {
     "ename": "",
     "evalue": "",
     "output_type": "error",
     "traceback": [
      "\u001b[1;31mFailed to start the Kernel. \n",
      "\u001b[1;31mView Jupyter <a href='command:jupyter.viewOutput'>log</a> for further details."
     ]
    }
   ],
   "source": [
    "println(ENV[\"SEARCHLIGHT_USERNAME\"])\n",
    "println(ENV[\"SEARCHLIGHT_PASSWORD\"])\n",
    "\n",
    "LifeInsuranceDataModel.connect()"
   ]
  }
 ],
 "metadata": {
  "kernelspec": {
   "display_name": "Julia 1.8.0",
   "language": "julia",
   "name": "julia-1.8"
  },
  "language_info": {
   "file_extension": ".jl",
   "mimetype": "application/julia",
   "name": "julia",
   "version": "1.8.0"
  },
  "orig_nbformat": 4
 },
 "nbformat": 4,
 "nbformat_minor": 2
}
