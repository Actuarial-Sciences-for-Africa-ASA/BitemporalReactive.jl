{
 "cells": [
  {
   "cell_type": "markdown",
   "metadata": {},
   "source": [
    "Event                           Effect\n",
    "update of revision attribute    sync\n",
    "save cmd                        compare revisions |> persist delta revisions, replace modelview w section, sync\n",
    "add partner_ref with id         create partner_ref,partner_ref_revision with id, persist, replace modelview w section, sync\n",
    "delete partner_ref              delete/invalidate in db, replace modelview w section, sync\n",
    "add product_item                create Product_item, persist, replace modelview, synchronize with client\n",
    "delete product_item             delete/invalidate in db, replace modelview, synchronize with client\n",
    "                "
   ]
  },
  {
   "cell_type": "code",
   "execution_count": null,
   "metadata": {},
   "outputs": [],
   "source": [
    "push!(LOAD_PATH, \"src\")\n",
    "using BitemporalPostgres, BitemporalReactive, JSON, LifeInsuranceDataModel, SearchLight, Test, TimeZones, ToStruct\n",
    "ENV[\"SEARCHLIGHT_USERNAME\"] = \"bitemporalpostgres\"\n",
    "ENV[\"SEARCHLIGHT_PASSWORD\"] = \"jw8s0F49KL\"\n",
    "\n",
    "LifeInsuranceDataModel.connect()\n",
    "\n",
    "c = find(Contract)[1]\n",
    "h = c.ref_history\n",
    "w = Workflow(type_of_entity=\"Contract\",\n",
    "    ref_history=h,\n",
    "    tsw_validfrom=ZonedDateTime(2022, 11, 01, 12, 0, 1, 1, tz\"UTC\"),\n",
    ")\n",
    "update_entity!(w)\n",
    "\n",
    "committed = JSON.parse(JSON.json(csection(c.id.value, now(tz\"UTC\"), ZonedDateTime(2022, 11, 01, 12, 0, 1, 1, tz\"UTC\"))))\n",
    "changed = JSON.parse(JSON.json(csection(c.id.value, now(tz\"UTC\"), ZonedDateTime(2022, 11, 01, 12, 0, 1, 1, tz\"UTC\"))))\n"
   ]
  },
  {
   "cell_type": "code",
   "execution_count": null,
   "metadata": {},
   "outputs": [],
   "source": [
    "\n",
    "changed[\"revision\"][\"description\"] = \"CR first mutation by GUI model\"\n",
    "changed[\"partner_refs\"][1][\"rev\"][\"description\"] = \"CPR first mutation by GUI model\"\n",
    "changed[\"product_items\"][1][\"revision\"][\"description\"] = \"PIR first mutation by GUI model\"\n",
    "changed[\"product_items\"][1][\"tariff_items\"][1][\"tariff_ref\"][\"rev\"][\"deferment\"] = 9\n",
    "changed[\"product_items\"][1][\"tariff_items\"][1][\"tariff_ref\"][\"rev\"][\"description\"] = \"TIR first mutation by GUI model\"\n",
    "changed[\"product_items\"][1][\"tariff_items\"][1][\"partner_refs\"][1][\"rev\"][\"description\"] = \"bubu|\"\n",
    "\n",
    "deltas = BitemporalReactive.compareModelStateContract(committed, changed)\n",
    "for delta in deltas\n",
    "    println(delta)\n",
    "    prev = delta[1]\n",
    "    curr = delta[2]\n",
    "    update_component!(prev, curr, w)\n",
    "end"
   ]
  },
  {
   "cell_type": "code",
   "execution_count": null,
   "metadata": {},
   "outputs": [],
   "source": [
    "\n",
    "pending = csection(c.id.value, now(tz\"UTC\"), ZonedDateTime(2022, 11, 01, 12, 0, 1, 1, tz\"UTC\"),1)\n",
    "\n",
    "@test(pending.revision.description == \"CR first mutation by GUI model\")\n",
    "@test(pending.partner_refs[1].rev.description == \"CPR first mutation by GUI model\")\n",
    "@test(pending.product_items[1].revision.description == \"PIR first mutation by GUI model\")\n",
    "@test(pending.product_items[1].tariff_items[1].tariff_ref.rev.deferment == 9)\n",
    "@test(pending.product_items[1].tariff_items[1].tariff_ref.rev.description == \"TIR first mutation by GUI model\")\n",
    "@test(pending.product_items[1].tariff_items[1].partner_refs[1].rev.description == \"bubu|\")"
   ]
  }
 ],
 "metadata": {
  "kernelspec": {
   "display_name": "Julia 1.8.0",
   "language": "julia",
   "name": "julia-1.8"
  },
  "language_info": {
   "file_extension": ".jl",
   "mimetype": "application/julia",
   "name": "julia",
   "version": "1.8.0"
  },
  "orig_nbformat": 4
 },
 "nbformat": 4,
 "nbformat_minor": 2
}
