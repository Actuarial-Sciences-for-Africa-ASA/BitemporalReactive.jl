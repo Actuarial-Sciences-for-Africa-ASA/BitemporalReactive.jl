{
 "cells": [
  {
   "cell_type": "markdown",
   "metadata": {},
   "source": [
    "Event                           Effect\n",
    "update of revision attribute    sync\n",
    "save cmd                        compare revisions |> persist delta revisions, replace modelview w section, sync\n",
    "add partner_ref with id         create partner_ref,partner_ref_revision with id, persist, replace modelview w section, sync\n",
    "delete partner_ref              delete/invalidate in db, replace modelview w section, sync\n",
    "add product_item                create Product_item, persist, replace modelview, synchronize with client\n",
    "delete product_item             delete/invalidate in db, replace modelview, synchronize with client\n",
    "                "
   ]
  },
  {
   "cell_type": "code",
   "execution_count": null,
   "metadata": {},
   "outputs": [],
   "source": [
    "push!(LOAD_PATH, \"src\")\n",
    "using BitemporalPostgres, BitemporalReactive, JSON, LifeInsuranceDataModel, SearchLight, TimeZones, ToStruct\n",
    "ENV[\"SEARCHLIGHT_USERNAME\"] = \"bitemporalpostgres\"\n",
    "ENV[\"SEARCHLIGHT_PASSWORD\"] = \"jw8s0F49KL\"\n",
    "\n",
    "model0 = JSON.parse(JSON.json(csection(1, now(tz\"UTC\"), now(tz\"UTC\"))))\n",
    "model1 = JSON.parse(JSON.json(csection(1, now(tz\"UTC\"), now(tz\"UTC\"))))\n",
    "\n"
   ]
  },
  {
   "cell_type": "code",
   "execution_count": null,
   "metadata": {},
   "outputs": [],
   "source": [
    "model1[\"revision\"][\"description\"] = \"first mutation by GUI model\"\n",
    "model1[\"revision\"][\"id\"][\"value\"] = nothing\n",
    "model1[\"revision\"][\"description\"] = \"CR first mutation by GUI model\"\n",
    "model1[\"partner_refs\"][1][\"rev\"][\"description\"] = \"CPR first mutation by GUI model\"\n",
    "model1[\"product_items\"][1][\"revision\"][\"description\"] = \"PIR first mutation by GUI model\"\n",
    "model1[\"product_items\"][1][\"tariff_items\"][1][\"tariff_ref\"][\"rev\"][\"defement\"] = 9\n",
    "model1[\"product_items\"][1][\"tariff_items\"][1][\"tariff_ref\"][\"rev\"][\"description\"] = \"TIR first mutation by GUI model\"\n",
    "model1[\"product_items\"][1][\"tariff_items\"][1][\"partner_refs\"][1][\"rev\"][\"description\"] = \"bubu|\"\n",
    "\n",
    "ToStruct.tostruct(ContractRevision, model1[\"revision\"])\n"
   ]
  },
  {
   "cell_type": "code",
   "execution_count": null,
   "metadata": {},
   "outputs": [],
   "source": [
    "\n",
    "changed = ToStruct.tostruct(ContractSection, model1)\n",
    "@test(changed.revision.description == \"CR first mutation by GUI model\")\n",
    "@test(changed.partner_refs[1].rev.description == \"CPR first mutation by GUI model\")\n",
    "@test(changed.product_items[1].revision.description == \"PIR first mutation by GUI model\")\n",
    "@test(changed.product_items[1].tariff_items[1].tariff_ref.rev.deferment == 9)\n",
    "@test(changed.product_items[1].tariff_items[1].tariff_ref.rev.description == \"TIR first mutation by GUI model\")\n",
    "@test(changed.product_items[1].tariff_items[1].partner_refs[1].rev.description == \"bubu|\")\n",
    "BitemporalReactive.compareModelStateContract(model0, model1)"
   ]
  }
 ],
 "metadata": {
  "kernelspec": {
   "display_name": "Julia 1.8.0",
   "language": "julia",
   "name": "julia-1.8"
  },
  "language_info": {
   "file_extension": ".jl",
   "mimetype": "application/julia",
   "name": "julia",
   "version": "1.8.0"
  },
  "orig_nbformat": 4
 },
 "nbformat": 4,
 "nbformat_minor": 2
}
