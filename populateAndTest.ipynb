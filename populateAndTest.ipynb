{
 "cells": [
  {
   "cell_type": "markdown",
   "metadata": {},
   "source": [
    "Load packages"
   ]
  },
  {
   "cell_type": "code",
   "execution_count": 1,
   "metadata": {},
   "outputs": [],
   "source": [
    "#loading packages\n",
    "push!(LOAD_PATH, \"src\");\n",
    "import Base: @kwdef\n",
    "using Test\n",
    "using LifeInsuranceDataModel\n",
    "\n",
    "using BitemporalPostgres\n",
    "using SearchLight\n",
    "using SearchLightPostgreSQL\n",
    "using TimeZones\n",
    "using ToStruct\n",
    "using JSON"
   ]
  },
  {
   "cell_type": "code",
   "execution_count": null,
   "metadata": {},
   "outputs": [],
   "source": [
    "purging the data model entirely - empty the schema"
   ]
  },
  {
   "cell_type": "code",
   "execution_count": null,
   "metadata": {},
   "outputs": [],
   "source": [
    "if (haskey(ENV, \"GENIE_ENV\") && ENV[\"GENIE_ENV\"] == \"dev\")\n",
    "    if (haskey(ENV, \"GITPOD_REPO_ROOT\"))\n",
    "        run(```psql -f sqlsnippets/droptables.sql```)\n",
    "    else\n",
    "        println(\"execute this in Your REPL\")run(```sudo -u postgres psql -f sqlsnippets/droptables.sql```)\n",
    "        println(\"\"\"\"\"\")\n",
    "    end\n",
    "end"
   ]
  },
  {
   "cell_type": "markdown",
   "metadata": {},
   "source": [
    "Loading the data model- Create tables, constraints etc. and load Roles\n",
    "\n",
    "loading inverses of the role tables to provide role descriptions in object creation,  for instance like in: \"ref_role=cpRole[\"Policy Holder\"]"
   ]
  },
  {
   "cell_type": "code",
   "execution_count": null,
   "metadata": {},
   "outputs": [],
   "source": [
    "LifeInsuranceDataModel.load_model()\n",
    "\n",
    "cpRole = Dict{String,Int64}()\n",
    "map(find(LifeInsuranceDataModel.ContractPartnerRole)) do entry\n",
    "    cpRole[entry.value] = entry.id.value\n",
    "end\n",
    "tiprRole = Dict{String,Int64}()\n",
    "map(find(LifeInsuranceDataModel.TariffItemPartnerRole)) do entry\n",
    "    tiprRole[entry.value] = entry.id.value\n",
    "end\n",
    "titrRole = Dict{String,Int64}()\n",
    "map(find(LifeInsuranceDataModel.TariffItemRole)) do entry\n",
    "    titrRole[entry.value] = entry.id.value\n",
    "end\n",
    "\n",
    "ppRole = Dict{String,Int64}()\n",
    "map(find(LifeInsuranceDataModel.ProductPartRole)) do entry\n",
    "    ppRole[entry.value] = entry.id.value\n",
    "end\n"
   ]
  },
  {
   "cell_type": "markdown",
   "metadata": {},
   "source": [
    "Or just connect to an existing model"
   ]
  },
  {
   "cell_type": "code",
   "execution_count": 3,
   "metadata": {},
   "outputs": [
    {
     "data": {
      "text/plain": [
       "PostgreSQL connection (CONNECTION_OK) with parameters:\n",
       "  user = postgres\n",
       "  password = ********************\n",
       "  channel_binding = prefer\n",
       "  dbname = postgres\n",
       "  host = 127.0.0.1\n",
       "  port = 5432\n",
       "  client_encoding = UTF8\n",
       "  options = -c DateStyle=ISO,YMD -c IntervalStyle=iso_8601 -c TimeZone=UTC\n",
       "  application_name = LibPQ.jl\n",
       "  sslmode = prefer\n",
       "  sslcompression = 0\n",
       "  sslsni = 1\n",
       "  ssl_min_protocol_version = TLSv1.2\n",
       "  gssencmode = prefer\n",
       "  krbsrvname = postgres\n",
       "  target_session_attrs = any"
      ]
     },
     "metadata": {},
     "output_type": "display_data"
    }
   ],
   "source": [
    "LifeInsuranceDataModel.connect()"
   ]
  },
  {
   "cell_type": "markdown",
   "metadata": {},
   "source": [
    "Create a Partner"
   ]
  },
  {
   "cell_type": "code",
   "execution_count": 4,
   "metadata": {},
   "outputs": [
    {
     "name": "stderr",
     "output_type": "stream",
     "text": [
      "┌ Info: BEGIN\n",
      "└ @ SearchLightPostgreSQL /home/mf/.julia/packages/SearchLightPostgreSQL/TgpHy/src/SearchLightPostgreSQL.jl:134\n",
      "┌ Info: INSERT INTO histories ( \"dummy\" ) VALUES ( 0 ) RETURNING id\n",
      "└ @ SearchLightPostgreSQL /home/mf/.julia/packages/SearchLightPostgreSQL/TgpHy/src/SearchLightPostgreSQL.jl:134\n"
     ]
    },
    {
     "name": "stderr",
     "output_type": "stream",
     "text": [
      "┌ Info: SELECT \"histories\".\"id\" AS \"histories_id\", \"histories\".\"dummy\" AS \"histories_dummy\" FROM \"histories\" WHERE \"id\" = 4 ORDER BY histories.id ASC\n",
      "└ @ SearchLightPostgreSQL /home/mf/.julia/packages/SearchLightPostgreSQL/TgpHy/src/SearchLightPostgreSQL.jl:134\n"
     ]
    },
    {
     "name": "stderr",
     "output_type": "stream",
     "text": [
      "┌ Info: INSERT INTO versions ( \"ref_history\" ) VALUES ( E'4' ) RETURNING id\n",
      "└ @ SearchLightPostgreSQL /home/mf/.julia/packages/SearchLightPostgreSQL/TgpHy/src/SearchLightPostgreSQL.jl:134\n",
      "┌ Info: SELECT \"versions\".\"id\" AS \"versions_id\", \"versions\".\"ref_history\" AS \"versions_ref_history\" FROM \"versions\" WHERE \"id\" = 4 ORDER BY versions.id ASC\n",
      "└ @ SearchLightPostgreSQL /home/mf/.julia/packages/SearchLightPostgreSQL/TgpHy/src/SearchLightPostgreSQL.jl:134\n"
     ]
    },
    {
     "name": "stderr",
     "output_type": "stream",
     "text": [
      "┌ Info: INSERT INTO workflows ( \"ref_history\", \"ref_version\", \"tsdb_validfrom\", \"tsw_validfrom\", \"is_committed\" ) VALUES ( E'4', E'4', E'2038-01-19T03:14:06.999+00:00', E'2014-05-30T21:00:01.001+01:00', 0 ) RETURNING id\n",
      "└ @ SearchLightPostgreSQL /home/mf/.julia/packages/SearchLightPostgreSQL/TgpHy/src/SearchLightPostgreSQL.jl:134\n",
      "┌ Info: SELECT \"workflows\".\"id\" AS \"workflows_id\", \"workflows\".\"ref_history\" AS \"workflows_ref_history\", \"workflows\".\"ref_version\" AS \"workflows_ref_version\", \"workflows\".\"tsdb_validfrom\" AS \"workflows_tsdb_validfrom\", \"workflows\".\"tsw_validfrom\" AS \"workflows_tsw_validfrom\", \"workflows\".\"is_committed\" AS \"workflows_is_committed\" FROM \"workflows\" WHERE \"id\" = 4 ORDER BY workflows.id ASC\n",
      "└ @ SearchLightPostgreSQL /home/mf/.julia/packages/SearchLightPostgreSQL/TgpHy/src/SearchLightPostgreSQL.jl:134\n"
     ]
    },
    {
     "name": "stderr",
     "output_type": "stream",
     "text": [
      "┌ Info: INSERT INTO validityintervals ( \"ref_history\", \"ref_version\", \"tsdb_validfrom\", \"tsworld_validfrom\", \"tsdb_invalidfrom\", \"tsworld_invalidfrom\", \"is_committed\" ) VALUES ( E'4', E'4', E'2022-07-08T07:32:25.038+01:00', E'2014-05-30T20:00:01.001+00:00', E'2038-01-19T03:14:06.999+00:00', E'2038-01-19T03:14:06.999+00:00', 0 ) RETURNING id\n",
      "└ @ SearchLightPostgreSQL /home/mf/.julia/packages/SearchLightPostgreSQL/TgpHy/src/SearchLightPostgreSQL.jl:134\n",
      "NOTICE:  NEW: (4,4,4,\"2014-05-30 20:00:01.001+00\",\"2038-01-19 03:14:06.999+00\",\"2022-07-08 06:32:25.038+00\",\"2038-01-19 03:14:06.999+00\",,,0)\n",
      "┌ Info: SELECT \"validityintervals\".\"id\" AS \"validityintervals_id\", \"validityintervals\".\"ref_history\" AS \"validityintervals_ref_history\", \"validityintervals\".\"ref_version\" AS \"validityintervals_ref_version\", \"validityintervals\".\"tsdb_validfrom\" AS \"validityintervals_tsdb_validfrom\", \"validityintervals\".\"tsworld_validfrom\" AS \"validityintervals_tsworld_validfrom\", \"validityintervals\".\"tsdb_invalidfrom\" AS \"validityintervals_tsdb_invalidfrom\", \"validityintervals\".\"tsworld_invalidfrom\" AS \"validityintervals_tsworld_invalidfrom\", \"validityintervals\".\"is_committed\" AS \"validityintervals_is_committed\" FROM \"validityintervals\" WHERE \"id\" = 4 ORDER BY validityintervals.id ASC\n",
      "└ @ SearchLightPostgreSQL /home/mf/.julia/packages/SearchLightPostgreSQL/TgpHy/src/SearchLightPostgreSQL.jl:134\n"
     ]
    },
    {
     "name": "stderr",
     "output_type": "stream",
     "text": [
      "┌ Info: COMMIT\n",
      "└ @ SearchLightPostgreSQL /home/mf/.julia/packages/SearchLightPostgreSQL/TgpHy/src/SearchLightPostgreSQL.jl:134\n",
      "┌ Info: BEGIN\n",
      "└ @ SearchLightPostgreSQL /home/mf/.julia/packages/SearchLightPostgreSQL/TgpHy/src/SearchLightPostgreSQL.jl:134\n"
     ]
    },
    {
     "name": "stderr",
     "output_type": "stream",
     "text": [
      "┌ Info: INSERT INTO partners ( \"ref_history\", \"ref_version\" ) VALUES ( E'4', E'4' ) RETURNING id\n",
      "└ @ SearchLightPostgreSQL /home/mf/.julia/packages/SearchLightPostgreSQL/TgpHy/src/SearchLightPostgreSQL.jl:134\n",
      "┌ Info: SELECT \"partners\".\"id\" AS \"partners_id\", \"partners\".\"ref_history\" AS \"partners_ref_history\", \"partners\".\"ref_version\" AS \"partners_ref_version\" FROM \"partners\" WHERE \"id\" = 2 ORDER BY partners.id ASC\n",
      "└ @ SearchLightPostgreSQL /home/mf/.julia/packages/SearchLightPostgreSQL/TgpHy/src/SearchLightPostgreSQL.jl:134\n"
     ]
    },
    {
     "name": "stderr",
     "output_type": "stream",
     "text": [
      "┌ Info: INSERT INTO partnerrevisions ( \"ref_component\", \"ref_validfrom\", \"ref_invalidfrom\", \"description\" ) VALUES ( E'2', E'4', E'9223372036854775807', E'Partner 1' ) RETURNING id\n",
      "└ @ SearchLightPostgreSQL /home/mf/.julia/packages/SearchLightPostgreSQL/TgpHy/src/SearchLightPostgreSQL.jl:134\n",
      "NOTICE:  NEW: (2,2,4,9223372036854775807,,\"Partner 1\")\n",
      "┌ Info: SELECT \"partnerrevisions\".\"id\" AS \"partnerrevisions_id\", \"partnerrevisions\".\"ref_component\" AS \"partnerrevisions_ref_component\", \"partnerrevisions\".\"ref_validfrom\" AS \"partnerrevisions_ref_validfrom\", \"partnerrevisions\".\"ref_invalidfrom\" AS \"partnerrevisions_ref_invalidfrom\", \"partnerrevisions\".\"description\" AS \"partnerrevisions_description\" FROM \"partnerrevisions\" WHERE \"id\" = 2 ORDER BY partnerrevisions.id ASC\n",
      "└ @ SearchLightPostgreSQL /home/mf/.julia/packages/SearchLightPostgreSQL/TgpHy/src/SearchLightPostgreSQL.jl:134\n"
     ]
    },
    {
     "name": "stderr",
     "output_type": "stream",
     "text": [
      "┌ Info: COMMIT\n",
      "└ @ SearchLightPostgreSQL /home/mf/.julia/packages/SearchLightPostgreSQL/TgpHy/src/SearchLightPostgreSQL.jl:134\n",
      "┌ Info: BEGIN\n",
      "└ @ SearchLightPostgreSQL /home/mf/.julia/packages/SearchLightPostgreSQL/TgpHy/src/SearchLightPostgreSQL.jl:134\n"
     ]
    },
    {
     "name": "stderr",
     "output_type": "stream",
     "text": [
      "┌ Info: SELECT \"validityintervals\".\"id\" AS \"validityintervals_id\", \"validityintervals\".\"ref_history\" AS \"validityintervals_ref_history\", \"validityintervals\".\"ref_version\" AS \"validityintervals_ref_version\", \"validityintervals\".\"tsdb_validfrom\" AS \"validityintervals_tsdb_validfrom\", \"validityintervals\".\"tsworld_validfrom\" AS \"validityintervals_tsworld_validfrom\", \"validityintervals\".\"tsdb_invalidfrom\" AS \"validityintervals_tsdb_invalidfrom\", \"validityintervals\".\"tsworld_invalidfrom\" AS \"validityintervals_tsworld_invalidfrom\", \"validityintervals\".\"is_committed\" AS \"validityintervals_is_committed\" FROM \"validityintervals\" WHERE ref_version = E'4' AND is_committed = 0 ORDER BY validityintervals.id ASC\n",
      "└ @ SearchLightPostgreSQL /home/mf/.julia/packages/SearchLightPostgreSQL/TgpHy/src/SearchLightPostgreSQL.jl:134\n",
      "┌ Info: SELECT \"validityintervals\".\"id\" AS \"validityintervals_id\", \"validityintervals\".\"ref_history\" AS \"validityintervals_ref_history\", \"validityintervals\".\"ref_version\" AS \"validityintervals_ref_version\", \"validityintervals\".\"tsdb_validfrom\" AS \"validityintervals_tsdb_validfrom\", \"validityintervals\".\"tsworld_validfrom\" AS \"validityintervals_tsworld_validfrom\", \"validityintervals\".\"tsdb_invalidfrom\" AS \"validityintervals_tsdb_invalidfrom\", \"validityintervals\".\"tsworld_invalidfrom\" AS \"validityintervals_tsworld_invalidfrom\", \"validityintervals\".\"is_committed\" AS \"validityintervals_is_committed\" FROM \"validityintervals\" WHERE ref_history = E'4' AND tsrdb @> TIMESTAMPTZ E'2038-01-18T03:14:06.999+00:00' AND tsrworld <@ tstzrange(E'2014-05-31T20:00:01.001+00:00',E'2038-01-19T03:14:06.999+00:00') AND is_committed=1 ORDER BY validityintervals.id ASC\n",
      "└ @ SearchLightPostgreSQL /home/mf/.julia/packages/SearchLightPostgreSQL/TgpHy/src/SearchLightPostgreSQL.jl:134\n"
     ]
    },
    {
     "name": "stderr",
     "output_type": "stream",
     "text": [
      "┌ Info: SELECT \"validityintervals\".\"id\" AS \"validityintervals_id\", \"validityintervals\".\"ref_history\" AS \"validityintervals_ref_history\", \"validityintervals\".\"ref_version\" AS \"validityintervals_ref_version\", \"validityintervals\".\"tsdb_validfrom\" AS \"validityintervals_tsdb_validfrom\", \"validityintervals\".\"tsworld_validfrom\" AS \"validityintervals_tsworld_validfrom\", \"validityintervals\".\"tsdb_invalidfrom\" AS \"validityintervals_tsdb_invalidfrom\", \"validityintervals\".\"tsworld_invalidfrom\" AS \"validityintervals_tsworld_invalidfrom\", \"validityintervals\".\"is_committed\" AS \"validityintervals_is_committed\" FROM \"validityintervals\" WHERE ref_history = E'4' AND tsrdb @> TIMESTAMPTZ E'2038-01-18T03:14:06.999+00:00' AND tsrworld && tstzrange(E'2014-05-31T20:00:01.001+00:00',E'2038-01-19T03:14:06.999+00:00') AND is_committed=1 ORDER BY validityintervals.id ASC\n",
      "└ @ SearchLightPostgreSQL /home/mf/.julia/packages/SearchLightPostgreSQL/TgpHy/src/SearchLightPostgreSQL.jl:134\n",
      "┌ Info: UPDATE validityintervals SET  \"id\" = E'4', \"ref_history\" = E'4', \"ref_version\" = E'4', \"tsdb_validfrom\" = E'2022-07-08T07:32:28.793+01:00', \"tsworld_validfrom\" = E'2014-05-30T20:00:01.001+00:00', \"tsdb_invalidfrom\" = E'2038-01-19T03:14:06.999+00:00', \"tsworld_invalidfrom\" = E'2038-01-19T03:14:06.999+00:00', \"is_committed\" = 1 WHERE validityintervals.id = '4' RETURNING id\n",
      "└ @ SearchLightPostgreSQL /home/mf/.julia/packages/SearchLightPostgreSQL/TgpHy/src/SearchLightPostgreSQL.jl:134\n",
      "NOTICE:  NEW: (4,4,4,\"2014-05-30 20:00:01.001+00\",\"2038-01-19 03:14:06.999+00\",\"2022-07-08 06:32:28.793+00\",\"2038-01-19 03:14:06.999+00\",\"[\"\"2014-05-30 20:00:01.001+00\"\",\"\"2038-01-19 03:14:06.999+00\"\")\",\"[\"\"2022-07-08 06:32:25.038+00\"\",\"\"2038-01-19 03:14:06.999+00\"\")\",1)\n",
      "┌ Info: SELECT \"validityintervals\".\"id\" AS \"validityintervals_id\", \"validityintervals\".\"ref_history\" AS \"validityintervals_ref_history\", \"validityintervals\".\"ref_version\" AS \"validityintervals_ref_version\", \"validityintervals\".\"tsdb_validfrom\" AS \"validityintervals_tsdb_validfrom\", \"validityintervals\".\"tsworld_validfrom\" AS \"validityintervals_tsworld_validfrom\", \"validityintervals\".\"tsdb_invalidfrom\" AS \"validityintervals_tsdb_invalidfrom\", \"validityintervals\".\"tsworld_invalidfrom\" AS \"validityintervals_tsworld_invalidfrom\", \"validityintervals\".\"is_committed\" AS \"validityintervals_is_committed\" FROM \"validityintervals\" WHERE \"id\" = 4 ORDER BY validityintervals.id ASC\n",
      "└ @ SearchLightPostgreSQL /home/mf/.julia/packages/SearchLightPostgreSQL/TgpHy/src/SearchLightPostgreSQL.jl:134\n",
      "┌ Info: UPDATE workflows SET  \"id\" = E'4', \"ref_history\" = E'4', \"ref_version\" = E'4', \"tsdb_validfrom\" = E'2022-07-08T07:32:28.793+01:00', \"tsw_validfrom\" = E'2014-05-30T20:00:01.001+00:00', \"is_committed\" = 1 WHERE workflows.id = '4' RETURNING id\n",
      "└ @ SearchLightPostgreSQL /home/mf/.julia/packages/SearchLightPostgreSQL/TgpHy/src/SearchLightPostgreSQL.jl:134\n",
      "┌ Info: SELECT \"workflows\".\"id\" AS \"workflows_id\", \"workflows\".\"ref_history\" AS \"workflows_ref_history\", \"workflows\".\"ref_version\" AS \"workflows_ref_version\", \"workflows\".\"tsdb_validfrom\" AS \"workflows_tsdb_validfrom\", \"workflows\".\"tsw_validfrom\" AS \"workflows_tsw_validfrom\", \"workflows\".\"is_committed\" AS \"workflows_is_committed\" FROM \"workflows\" WHERE \"id\" = 4 ORDER BY workflows.id ASC\n",
      "└ @ SearchLightPostgreSQL /home/mf/.julia/packages/SearchLightPostgreSQL/TgpHy/src/SearchLightPostgreSQL.jl:134\n",
      "┌ Info: COMMIT\n",
      "└ @ SearchLightPostgreSQL /home/mf/.julia/packages/SearchLightPostgreSQL/TgpHy/src/SearchLightPostgreSQL.jl:134\n"
     ]
    }
   ],
   "source": [
    "# create Partner\n",
    "p = LifeInsuranceDataModel.Partner()\n",
    "pr = LifeInsuranceDataModel.PartnerRevision(description=\"Partner 1\")\n",
    "w = Workflow(\n",
    "    tsw_validfrom=ZonedDateTime(2014, 5, 30, 21, 0, 1, 1, tz\"Africa/Porto-Novo\"),\n",
    ")\n",
    "create_entity!(w)\n",
    "create_component!(p, pr, w)\n",
    "commit_workflow!(w)"
   ]
  },
  {
   "cell_type": "code",
   "execution_count": 5,
   "metadata": {},
   "outputs": [
    {
     "name": "stderr",
     "output_type": "stream",
     "text": [
      "┌ Info: SELECT \"partners\".\"id\" AS \"partners_id\", \"partners\".\"ref_history\" AS \"partners_ref_history\", \"partners\".\"ref_version\" AS \"partners_ref_version\" FROM \"partners\" ORDER BY partners.id ASC\n",
      "└ @ SearchLightPostgreSQL /home/mf/.julia/packages/SearchLightPostgreSQL/TgpHy/src/SearchLightPostgreSQL.jl:134\n"
     ]
    },
    {
     "data": {
      "text/plain": [
       "2-element Vector{Partner}:\n",
       " Partner\n",
       "| KEY               | VALUE |\n",
       "|-------------------|-------|\n",
       "| id::DbId          | 1     |\n",
       "| ref_history::DbId | 1     |\n",
       "| ref_version::DbId | 1     |\n",
       "\n",
       " Partner\n",
       "| KEY               | VALUE |\n",
       "|-------------------|-------|\n",
       "| id::DbId          | 2     |\n",
       "| ref_history::DbId | 4     |\n",
       "| ref_version::DbId | 4     |\n"
      ]
     },
     "metadata": {},
     "output_type": "display_data"
    }
   ],
   "source": [
    "find(Partner)"
   ]
  },
  {
   "cell_type": "markdown",
   "metadata": {},
   "source": [
    "Create tariffs"
   ]
  },
  {
   "cell_type": "code",
   "execution_count": 9,
   "metadata": {},
   "outputs": [
    {
     "name": "stderr",
     "output_type": "stream",
     "text": [
      "┌ Info: BEGIN\n",
      "└ @ SearchLightPostgreSQL /home/mf/.julia/packages/SearchLightPostgreSQL/TgpHy/src/SearchLightPostgreSQL.jl:134\n",
      "┌ Info: INSERT INTO histories ( \"dummy\" ) VALUES ( 0 ) RETURNING id\n",
      "└ @ SearchLightPostgreSQL /home/mf/.julia/packages/SearchLightPostgreSQL/TgpHy/src/SearchLightPostgreSQL.jl:134\n",
      "┌ Info: SELECT \"histories\".\"id\" AS \"histories_id\", \"histories\".\"dummy\" AS \"histories_dummy\" FROM \"histories\" WHERE \"id\" = 9 ORDER BY histories.id ASC\n",
      "└ @ SearchLightPostgreSQL /home/mf/.julia/packages/SearchLightPostgreSQL/TgpHy/src/SearchLightPostgreSQL.jl:134\n",
      "┌ Info: INSERT INTO versions ( \"ref_history\" ) VALUES ( E'9' ) RETURNING id\n",
      "└ @ SearchLightPostgreSQL /home/mf/.julia/packages/SearchLightPostgreSQL/TgpHy/src/SearchLightPostgreSQL.jl:134\n",
      "┌ Info: SELECT \"versions\".\"id\" AS \"versions_id\", \"versions\".\"ref_history\" AS \"versions_ref_history\" FROM \"versions\" WHERE \"id\" = 9 ORDER BY versions.id ASC\n",
      "└ @ SearchLightPostgreSQL /home/mf/.julia/packages/SearchLightPostgreSQL/TgpHy/src/SearchLightPostgreSQL.jl:134\n",
      "┌ Info: INSERT INTO workflows ( \"ref_history\", \"ref_version\", \"tsdb_validfrom\", \"tsw_validfrom\", \"is_committed\" ) VALUES ( E'9', E'9', E'2038-01-19T03:14:06.999+00:00', E'2014-05-30T21:00:01.001+01:00', 0 ) RETURNING id\n",
      "└ @ SearchLightPostgreSQL /home/mf/.julia/packages/SearchLightPostgreSQL/TgpHy/src/SearchLightPostgreSQL.jl:134\n",
      "┌ Info: SELECT \"workflows\".\"id\" AS \"workflows_id\", \"workflows\".\"ref_history\" AS \"workflows_ref_history\", \"workflows\".\"ref_version\" AS \"workflows_ref_version\", \"workflows\".\"tsdb_validfrom\" AS \"workflows_tsdb_validfrom\", \"workflows\".\"tsw_validfrom\" AS \"workflows_tsw_validfrom\", \"workflows\".\"is_committed\" AS \"workflows_is_committed\" FROM \"workflows\" WHERE \"id\" = 9 ORDER BY workflows.id ASC\n",
      "└ @ SearchLightPostgreSQL /home/mf/.julia/packages/SearchLightPostgreSQL/TgpHy/src/SearchLightPostgreSQL.jl:134\n",
      "┌ Info: INSERT INTO validityintervals ( \"ref_history\", \"ref_version\", \"tsdb_validfrom\", \"tsworld_validfrom\", \"tsdb_invalidfrom\", \"tsworld_invalidfrom\", \"is_committed\" ) VALUES ( E'9', E'9', E'2022-07-08T07:33:49.684+01:00', E'2014-05-30T20:00:01.001+00:00', E'2038-01-19T03:14:06.999+00:00', E'2038-01-19T03:14:06.999+00:00', 0 ) RETURNING id\n",
      "└ @ SearchLightPostgreSQL /home/mf/.julia/packages/SearchLightPostgreSQL/TgpHy/src/SearchLightPostgreSQL.jl:134\n",
      "NOTICE:  NEW: (9,9,9,\"2014-05-30 20:00:01.001+00\",\"2038-01-19 03:14:06.999+00\",\"2022-07-08 06:33:49.684+00\",\"2038-01-19 03:14:06.999+00\",,,0)\n",
      "┌ Info: SELECT \"validityintervals\".\"id\" AS \"validityintervals_id\", \"validityintervals\".\"ref_history\" AS \"validityintervals_ref_history\", \"validityintervals\".\"ref_version\" AS \"validityintervals_ref_version\", \"validityintervals\".\"tsdb_validfrom\" AS \"validityintervals_tsdb_validfrom\", \"validityintervals\".\"tsworld_validfrom\" AS \"validityintervals_tsworld_validfrom\", \"validityintervals\".\"tsdb_invalidfrom\" AS \"validityintervals_tsdb_invalidfrom\", \"validityintervals\".\"tsworld_invalidfrom\" AS \"validityintervals_tsworld_invalidfrom\", \"validityintervals\".\"is_committed\" AS \"validityintervals_is_committed\" FROM \"validityintervals\" WHERE \"id\" = 9 ORDER BY validityintervals.id ASC\n",
      "└ @ SearchLightPostgreSQL /home/mf/.julia/packages/SearchLightPostgreSQL/TgpHy/src/SearchLightPostgreSQL.jl:134\n",
      "┌ Info: COMMIT\n",
      "└ @ SearchLightPostgreSQL /home/mf/.julia/packages/SearchLightPostgreSQL/TgpHy/src/SearchLightPostgreSQL.jl:134\n",
      "┌ Info: BEGIN\n",
      "└ @ SearchLightPostgreSQL /home/mf/.julia/packages/SearchLightPostgreSQL/TgpHy/src/SearchLightPostgreSQL.jl:134\n",
      "┌ Info: INSERT INTO tariffs ( \"ref_history\", \"ref_version\" ) VALUES ( E'9', E'9' ) RETURNING id\n",
      "└ @ SearchLightPostgreSQL /home/mf/.julia/packages/SearchLightPostgreSQL/TgpHy/src/SearchLightPostgreSQL.jl:134\n",
      "┌ Info: SELECT \"tariffs\".\"id\" AS \"tariffs_id\", \"tariffs\".\"ref_history\" AS \"tariffs_ref_history\", \"tariffs\".\"ref_version\" AS \"tariffs_ref_version\" FROM \"tariffs\" WHERE \"id\" = 7 ORDER BY tariffs.id ASC\n",
      "└ @ SearchLightPostgreSQL /home/mf/.julia/packages/SearchLightPostgreSQL/TgpHy/src/SearchLightPostgreSQL.jl:134\n",
      "┌ Info: INSERT INTO tariffrevisions ( \"ref_component\", \"ref_validfrom\", \"ref_invalidfrom\", \"description\" ) VALUES ( E'7', E'9', E'9223372036854775807', E'Life Risk Insurance' ) RETURNING id\n",
      "└ @ SearchLightPostgreSQL /home/mf/.julia/packages/SearchLightPostgreSQL/TgpHy/src/SearchLightPostgreSQL.jl:134\n",
      "NOTICE:  NEW: (7,7,9,9223372036854775807,,\"Life Risk Insurance\")\n",
      "┌ Info: SELECT \"tariffrevisions\".\"id\" AS \"tariffrevisions_id\", \"tariffrevisions\".\"ref_component\" AS \"tariffrevisions_ref_component\", \"tariffrevisions\".\"ref_validfrom\" AS \"tariffrevisions_ref_validfrom\", \"tariffrevisions\".\"ref_invalidfrom\" AS \"tariffrevisions_ref_invalidfrom\", \"tariffrevisions\".\"description\" AS \"tariffrevisions_description\" FROM \"tariffrevisions\" WHERE \"id\" = 7 ORDER BY tariffrevisions.id ASC\n",
      "└ @ SearchLightPostgreSQL /home/mf/.julia/packages/SearchLightPostgreSQL/TgpHy/src/SearchLightPostgreSQL.jl:134\n",
      "┌ Info: COMMIT\n",
      "└ @ SearchLightPostgreSQL /home/mf/.julia/packages/SearchLightPostgreSQL/TgpHy/src/SearchLightPostgreSQL.jl:134\n",
      "┌ Info: BEGIN\n",
      "└ @ SearchLightPostgreSQL /home/mf/.julia/packages/SearchLightPostgreSQL/TgpHy/src/SearchLightPostgreSQL.jl:134\n",
      "┌ Info: SELECT \"validityintervals\".\"id\" AS \"validityintervals_id\", \"validityintervals\".\"ref_history\" AS \"validityintervals_ref_history\", \"validityintervals\".\"ref_version\" AS \"validityintervals_ref_version\", \"validityintervals\".\"tsdb_validfrom\" AS \"validityintervals_tsdb_validfrom\", \"validityintervals\".\"tsworld_validfrom\" AS \"validityintervals_tsworld_validfrom\", \"validityintervals\".\"tsdb_invalidfrom\" AS \"validityintervals_tsdb_invalidfrom\", \"validityintervals\".\"tsworld_invalidfrom\" AS \"validityintervals_tsworld_invalidfrom\", \"validityintervals\".\"is_committed\" AS \"validityintervals_is_committed\" FROM \"validityintervals\" WHERE ref_version = E'9' AND is_committed = 0 ORDER BY validityintervals.id ASC\n",
      "└ @ SearchLightPostgreSQL /home/mf/.julia/packages/SearchLightPostgreSQL/TgpHy/src/SearchLightPostgreSQL.jl:134\n",
      "┌ Info: SELECT \"validityintervals\".\"id\" AS \"validityintervals_id\", \"validityintervals\".\"ref_history\" AS \"validityintervals_ref_history\", \"validityintervals\".\"ref_version\" AS \"validityintervals_ref_version\", \"validityintervals\".\"tsdb_validfrom\" AS \"validityintervals_tsdb_validfrom\", \"validityintervals\".\"tsworld_validfrom\" AS \"validityintervals_tsworld_validfrom\", \"validityintervals\".\"tsdb_invalidfrom\" AS \"validityintervals_tsdb_invalidfrom\", \"validityintervals\".\"tsworld_invalidfrom\" AS \"validityintervals_tsworld_invalidfrom\", \"validityintervals\".\"is_committed\" AS \"validityintervals_is_committed\" FROM \"validityintervals\" WHERE ref_history = E'9' AND tsrdb @> TIMESTAMPTZ E'2038-01-18T03:14:06.999+00:00' AND tsrworld <@ tstzrange(E'2014-05-31T20:00:01.001+00:00',E'2038-01-19T03:14:06.999+00:00') AND is_committed=1 ORDER BY validityintervals.id ASC\n",
      "└ @ SearchLightPostgreSQL /home/mf/.julia/packages/SearchLightPostgreSQL/TgpHy/src/SearchLightPostgreSQL.jl:134\n",
      "┌ Info: SELECT \"validityintervals\".\"id\" AS \"validityintervals_id\", \"validityintervals\".\"ref_history\" AS \"validityintervals_ref_history\", \"validityintervals\".\"ref_version\" AS \"validityintervals_ref_version\", \"validityintervals\".\"tsdb_validfrom\" AS \"validityintervals_tsdb_validfrom\", \"validityintervals\".\"tsworld_validfrom\" AS \"validityintervals_tsworld_validfrom\", \"validityintervals\".\"tsdb_invalidfrom\" AS \"validityintervals_tsdb_invalidfrom\", \"validityintervals\".\"tsworld_invalidfrom\" AS \"validityintervals_tsworld_invalidfrom\", \"validityintervals\".\"is_committed\" AS \"validityintervals_is_committed\" FROM \"validityintervals\" WHERE ref_history = E'9' AND tsrdb @> TIMESTAMPTZ E'2038-01-18T03:14:06.999+00:00' AND tsrworld && tstzrange(E'2014-05-31T20:00:01.001+00:00',E'2038-01-19T03:14:06.999+00:00') AND is_committed=1 ORDER BY validityintervals.id ASC\n",
      "└ @ SearchLightPostgreSQL /home/mf/.julia/packages/SearchLightPostgreSQL/TgpHy/src/SearchLightPostgreSQL.jl:134\n",
      "┌ Info: UPDATE validityintervals SET  \"id\" = E'9', \"ref_history\" = E'9', \"ref_version\" = E'9', \"tsdb_validfrom\" = E'2022-07-08T07:33:49.699+01:00', \"tsworld_validfrom\" = E'2014-05-30T20:00:01.001+00:00', \"tsdb_invalidfrom\" = E'2038-01-19T03:14:06.999+00:00', \"tsworld_invalidfrom\" = E'2038-01-19T03:14:06.999+00:00', \"is_committed\" = 1 WHERE validityintervals.id = '9' RETURNING id\n",
      "└ @ SearchLightPostgreSQL /home/mf/.julia/packages/SearchLightPostgreSQL/TgpHy/src/SearchLightPostgreSQL.jl:134\n",
      "NOTICE:  NEW: (9,9,9,\"2014-05-30 20:00:01.001+00\",\"2038-01-19 03:14:06.999+00\",\"2022-07-08 06:33:49.699+00\",\"2038-01-19 03:14:06.999+00\",\"[\"\"2014-05-30 20:00:01.001+00\"\",\"\"2038-01-19 03:14:06.999+00\"\")\",\"[\"\"2022-07-08 06:33:49.684+00\"\",\"\"2038-01-19 03:14:06.999+00\"\")\",1)\n",
      "┌ Info: SELECT \"validityintervals\".\"id\" AS \"validityintervals_id\", \"validityintervals\".\"ref_history\" AS \"validityintervals_ref_history\", \"validityintervals\".\"ref_version\" AS \"validityintervals_ref_version\", \"validityintervals\".\"tsdb_validfrom\" AS \"validityintervals_tsdb_validfrom\", \"validityintervals\".\"tsworld_validfrom\" AS \"validityintervals_tsworld_validfrom\", \"validityintervals\".\"tsdb_invalidfrom\" AS \"validityintervals_tsdb_invalidfrom\", \"validityintervals\".\"tsworld_invalidfrom\" AS \"validityintervals_tsworld_invalidfrom\", \"validityintervals\".\"is_committed\" AS \"validityintervals_is_committed\" FROM \"validityintervals\" WHERE \"id\" = 9 ORDER BY validityintervals.id ASC\n",
      "└ @ SearchLightPostgreSQL /home/mf/.julia/packages/SearchLightPostgreSQL/TgpHy/src/SearchLightPostgreSQL.jl:134\n"
     ]
    },
    {
     "name": "stderr",
     "output_type": "stream",
     "text": [
      "┌ Info: UPDATE workflows SET  \"id\" = E'9', \"ref_history\" = E'9', \"ref_version\" = E'9', \"tsdb_validfrom\" = E'2022-07-08T07:33:49.699+01:00', \"tsw_validfrom\" = E'2014-05-30T20:00:01.001+00:00', \"is_committed\" = 1 WHERE workflows.id = '9' RETURNING id\n",
      "└ @ SearchLightPostgreSQL /home/mf/.julia/packages/SearchLightPostgreSQL/TgpHy/src/SearchLightPostgreSQL.jl:134\n",
      "┌ Info: SELECT \"workflows\".\"id\" AS \"workflows_id\", \"workflows\".\"ref_history\" AS \"workflows_ref_history\", \"workflows\".\"ref_version\" AS \"workflows_ref_version\", \"workflows\".\"tsdb_validfrom\" AS \"workflows_tsdb_validfrom\", \"workflows\".\"tsw_validfrom\" AS \"workflows_tsw_validfrom\", \"workflows\".\"is_committed\" AS \"workflows_is_committed\" FROM \"workflows\" WHERE \"id\" = 9 ORDER BY workflows.id ASC\n",
      "└ @ SearchLightPostgreSQL /home/mf/.julia/packages/SearchLightPostgreSQL/TgpHy/src/SearchLightPostgreSQL.jl:134\n",
      "┌ Info: COMMIT\n",
      "└ @ SearchLightPostgreSQL /home/mf/.julia/packages/SearchLightPostgreSQL/TgpHy/src/SearchLightPostgreSQL.jl:134\n",
      "┌ Info: BEGIN\n",
      "└ @ SearchLightPostgreSQL /home/mf/.julia/packages/SearchLightPostgreSQL/TgpHy/src/SearchLightPostgreSQL.jl:134\n",
      "┌ Info: INSERT INTO histories ( \"dummy\" ) VALUES ( 0 ) RETURNING id\n",
      "└ @ SearchLightPostgreSQL /home/mf/.julia/packages/SearchLightPostgreSQL/TgpHy/src/SearchLightPostgreSQL.jl:134\n",
      "┌ Info: SELECT \"histories\".\"id\" AS \"histories_id\", \"histories\".\"dummy\" AS \"histories_dummy\" FROM \"histories\" WHERE \"id\" = 10 ORDER BY histories.id ASC\n",
      "└ @ SearchLightPostgreSQL /home/mf/.julia/packages/SearchLightPostgreSQL/TgpHy/src/SearchLightPostgreSQL.jl:134\n",
      "┌ Info: INSERT INTO versions ( \"ref_history\" ) VALUES ( E'10' ) RETURNING id\n",
      "└ @ SearchLightPostgreSQL /home/mf/.julia/packages/SearchLightPostgreSQL/TgpHy/src/SearchLightPostgreSQL.jl:134\n",
      "┌ Info: SELECT \"versions\".\"id\" AS \"versions_id\", \"versions\".\"ref_history\" AS \"versions_ref_history\" FROM \"versions\" WHERE \"id\" = 10 ORDER BY versions.id ASC\n",
      "└ @ SearchLightPostgreSQL /home/mf/.julia/packages/SearchLightPostgreSQL/TgpHy/src/SearchLightPostgreSQL.jl:134\n",
      "┌ Info: INSERT INTO workflows ( \"ref_history\", \"ref_version\", \"tsdb_validfrom\", \"tsw_validfrom\", \"is_committed\" ) VALUES ( E'10', E'10', E'2038-01-19T03:14:06.999+00:00', E'2014-05-30T21:00:01.001+01:00', 0 ) RETURNING id\n",
      "└ @ SearchLightPostgreSQL /home/mf/.julia/packages/SearchLightPostgreSQL/TgpHy/src/SearchLightPostgreSQL.jl:134\n",
      "┌ Info: SELECT \"workflows\".\"id\" AS \"workflows_id\", \"workflows\".\"ref_history\" AS \"workflows_ref_history\", \"workflows\".\"ref_version\" AS \"workflows_ref_version\", \"workflows\".\"tsdb_validfrom\" AS \"workflows_tsdb_validfrom\", \"workflows\".\"tsw_validfrom\" AS \"workflows_tsw_validfrom\", \"workflows\".\"is_committed\" AS \"workflows_is_committed\" FROM \"workflows\" WHERE \"id\" = 10 ORDER BY workflows.id ASC\n",
      "└ @ SearchLightPostgreSQL /home/mf/.julia/packages/SearchLightPostgreSQL/TgpHy/src/SearchLightPostgreSQL.jl:134\n",
      "┌ Info: INSERT INTO validityintervals ( \"ref_history\", \"ref_version\", \"tsdb_validfrom\", \"tsworld_validfrom\", \"tsdb_invalidfrom\", \"tsworld_invalidfrom\", \"is_committed\" ) VALUES ( E'10', E'10', E'2022-07-08T07:33:49.719+01:00', E'2014-05-30T20:00:01.001+00:00', E'2038-01-19T03:14:06.999+00:00', E'2038-01-19T03:14:06.999+00:00', 0 ) RETURNING id\n",
      "└ @ SearchLightPostgreSQL /home/mf/.julia/packages/SearchLightPostgreSQL/TgpHy/src/SearchLightPostgreSQL.jl:134\n",
      "NOTICE:  NEW: (10,10,10,\"2014-05-30 20:00:01.001+00\",\"2038-01-19 03:14:06.999+00\",\"2022-07-08 06:33:49.719+00\",\"2038-01-19 03:14:06.999+00\",,,0)\n",
      "┌ Info: SELECT \"validityintervals\".\"id\" AS \"validityintervals_id\", \"validityintervals\".\"ref_history\" AS \"validityintervals_ref_history\", \"validityintervals\".\"ref_version\" AS \"validityintervals_ref_version\", \"validityintervals\".\"tsdb_validfrom\" AS \"validityintervals_tsdb_validfrom\", \"validityintervals\".\"tsworld_validfrom\" AS \"validityintervals_tsworld_validfrom\", \"validityintervals\".\"tsdb_invalidfrom\" AS \"validityintervals_tsdb_invalidfrom\", \"validityintervals\".\"tsworld_invalidfrom\" AS \"validityintervals_tsworld_invalidfrom\", \"validityintervals\".\"is_committed\" AS \"validityintervals_is_committed\" FROM \"validityintervals\" WHERE \"id\" = 10 ORDER BY validityintervals.id ASC\n",
      "└ @ SearchLightPostgreSQL /home/mf/.julia/packages/SearchLightPostgreSQL/TgpHy/src/SearchLightPostgreSQL.jl:134\n",
      "┌ Info: COMMIT\n",
      "└ @ SearchLightPostgreSQL /home/mf/.julia/packages/SearchLightPostgreSQL/TgpHy/src/SearchLightPostgreSQL.jl:134\n",
      "┌ Info: BEGIN\n",
      "└ @ SearchLightPostgreSQL /home/mf/.julia/packages/SearchLightPostgreSQL/TgpHy/src/SearchLightPostgreSQL.jl:134\n",
      "┌ Info: INSERT INTO tariffs ( \"ref_history\", \"ref_version\" ) VALUES ( E'10', E'10' ) RETURNING id\n",
      "└ @ SearchLightPostgreSQL /home/mf/.julia/packages/SearchLightPostgreSQL/TgpHy/src/SearchLightPostgreSQL.jl:134\n",
      "┌ Info: SELECT \"tariffs\".\"id\" AS \"tariffs_id\", \"tariffs\".\"ref_history\" AS \"tariffs_ref_history\", \"tariffs\".\"ref_version\" AS \"tariffs_ref_version\" FROM \"tariffs\" WHERE \"id\" = 8 ORDER BY tariffs.id ASC\n",
      "└ @ SearchLightPostgreSQL /home/mf/.julia/packages/SearchLightPostgreSQL/TgpHy/src/SearchLightPostgreSQL.jl:134\n",
      "┌ Info: INSERT INTO tariffrevisions ( \"ref_component\", \"ref_validfrom\", \"ref_invalidfrom\", \"description\" ) VALUES ( E'8', E'10', E'9223372036854775807', E'Terminal Illness' ) RETURNING id\n",
      "└ @ SearchLightPostgreSQL /home/mf/.julia/packages/SearchLightPostgreSQL/TgpHy/src/SearchLightPostgreSQL.jl:134\n",
      "NOTICE:  NEW: (8,8,10,9223372036854775807,,\"Terminal Illness\")\n",
      "┌ Info: SELECT \"tariffrevisions\".\"id\" AS \"tariffrevisions_id\", \"tariffrevisions\".\"ref_component\" AS \"tariffrevisions_ref_component\", \"tariffrevisions\".\"ref_validfrom\" AS \"tariffrevisions_ref_validfrom\", \"tariffrevisions\".\"ref_invalidfrom\" AS \"tariffrevisions_ref_invalidfrom\", \"tariffrevisions\".\"description\" AS \"tariffrevisions_description\" FROM \"tariffrevisions\" WHERE \"id\" = 8 ORDER BY tariffrevisions.id ASC\n",
      "└ @ SearchLightPostgreSQL /home/mf/.julia/packages/SearchLightPostgreSQL/TgpHy/src/SearchLightPostgreSQL.jl:134\n",
      "┌ Info: COMMIT\n",
      "└ @ SearchLightPostgreSQL /home/mf/.julia/packages/SearchLightPostgreSQL/TgpHy/src/SearchLightPostgreSQL.jl:134\n",
      "┌ Info: BEGIN\n",
      "└ @ SearchLightPostgreSQL /home/mf/.julia/packages/SearchLightPostgreSQL/TgpHy/src/SearchLightPostgreSQL.jl:134\n",
      "┌ Info: SELECT \"validityintervals\".\"id\" AS \"validityintervals_id\", \"validityintervals\".\"ref_history\" AS \"validityintervals_ref_history\", \"validityintervals\".\"ref_version\" AS \"validityintervals_ref_version\", \"validityintervals\".\"tsdb_validfrom\" AS \"validityintervals_tsdb_validfrom\", \"validityintervals\".\"tsworld_validfrom\" AS \"validityintervals_tsworld_validfrom\", \"validityintervals\".\"tsdb_invalidfrom\" AS \"validityintervals_tsdb_invalidfrom\", \"validityintervals\".\"tsworld_invalidfrom\" AS \"validityintervals_tsworld_invalidfrom\", \"validityintervals\".\"is_committed\" AS \"validityintervals_is_committed\" FROM \"validityintervals\" WHERE ref_version = E'10' AND is_committed = 0 ORDER BY validityintervals.id ASC\n",
      "└ @ SearchLightPostgreSQL /home/mf/.julia/packages/SearchLightPostgreSQL/TgpHy/src/SearchLightPostgreSQL.jl:134\n",
      "┌ Info: SELECT \"validityintervals\".\"id\" AS \"validityintervals_id\", \"validityintervals\".\"ref_history\" AS \"validityintervals_ref_history\", \"validityintervals\".\"ref_version\" AS \"validityintervals_ref_version\", \"validityintervals\".\"tsdb_validfrom\" AS \"validityintervals_tsdb_validfrom\", \"validityintervals\".\"tsworld_validfrom\" AS \"validityintervals_tsworld_validfrom\", \"validityintervals\".\"tsdb_invalidfrom\" AS \"validityintervals_tsdb_invalidfrom\", \"validityintervals\".\"tsworld_invalidfrom\" AS \"validityintervals_tsworld_invalidfrom\", \"validityintervals\".\"is_committed\" AS \"validityintervals_is_committed\" FROM \"validityintervals\" WHERE ref_history = E'10' AND tsrdb @> TIMESTAMPTZ E'2038-01-18T03:14:06.999+00:00' AND tsrworld <@ tstzrange(E'2014-05-31T20:00:01.001+00:00',E'2038-01-19T03:14:06.999+00:00') AND is_committed=1 ORDER BY validityintervals.id ASC\n",
      "└ @ SearchLightPostgreSQL /home/mf/.julia/packages/SearchLightPostgreSQL/TgpHy/src/SearchLightPostgreSQL.jl:134\n",
      "┌ Info: SELECT \"validityintervals\".\"id\" AS \"validityintervals_id\", \"validityintervals\".\"ref_history\" AS \"validityintervals_ref_history\", \"validityintervals\".\"ref_version\" AS \"validityintervals_ref_version\", \"validityintervals\".\"tsdb_validfrom\" AS \"validityintervals_tsdb_validfrom\", \"validityintervals\".\"tsworld_validfrom\" AS \"validityintervals_tsworld_validfrom\", \"validityintervals\".\"tsdb_invalidfrom\" AS \"validityintervals_tsdb_invalidfrom\", \"validityintervals\".\"tsworld_invalidfrom\" AS \"validityintervals_tsworld_invalidfrom\", \"validityintervals\".\"is_committed\" AS \"validityintervals_is_committed\" FROM \"validityintervals\" WHERE ref_history = E'10' AND tsrdb @> TIMESTAMPTZ E'2038-01-18T03:14:06.999+00:00' AND tsrworld && tstzrange(E'2014-05-31T20:00:01.001+00:00',E'2038-01-19T03:14:06.999+00:00') AND is_committed=1 ORDER BY validityintervals.id ASC\n",
      "└ @ SearchLightPostgreSQL /home/mf/.julia/packages/SearchLightPostgreSQL/TgpHy/src/SearchLightPostgreSQL.jl:134\n",
      "┌ Info: UPDATE validityintervals SET  \"id\" = E'10', \"ref_history\" = E'10', \"ref_version\" = E'10', \"tsdb_validfrom\" = E'2022-07-08T07:33:49.736+01:00', \"tsworld_validfrom\" = E'2014-05-30T20:00:01.001+00:00', \"tsdb_invalidfrom\" = E'2038-01-19T03:14:06.999+00:00', \"tsworld_invalidfrom\" = E'2038-01-19T03:14:06.999+00:00', \"is_committed\" = 1 WHERE validityintervals.id = '10' RETURNING id\n",
      "└ @ SearchLightPostgreSQL /home/mf/.julia/packages/SearchLightPostgreSQL/TgpHy/src/SearchLightPostgreSQL.jl:134\n",
      "NOTICE:  NEW: (10,10,10,\"2014-05-30 20:00:01.001+00\",\"2038-01-19 03:14:06.999+00\",\"2022-07-08 06:33:49.736+00\",\"2038-01-19 03:14:06.999+00\",\"[\"\"2014-05-30 20:00:01.001+00\"\",\"\"2038-01-19 03:14:06.999+00\"\")\",\"[\"\"2022-07-08 06:33:49.719+00\"\",\"\"2038-01-19 03:14:06.999+00\"\")\",1)\n",
      "┌ Info: SELECT \"validityintervals\".\"id\" AS \"validityintervals_id\", \"validityintervals\".\"ref_history\" AS \"validityintervals_ref_history\", \"validityintervals\".\"ref_version\" AS \"validityintervals_ref_version\", \"validityintervals\".\"tsdb_validfrom\" AS \"validityintervals_tsdb_validfrom\", \"validityintervals\".\"tsworld_validfrom\" AS \"validityintervals_tsworld_validfrom\", \"validityintervals\".\"tsdb_invalidfrom\" AS \"validityintervals_tsdb_invalidfrom\", \"validityintervals\".\"tsworld_invalidfrom\" AS \"validityintervals_tsworld_invalidfrom\", \"validityintervals\".\"is_committed\" AS \"validityintervals_is_committed\" FROM \"validityintervals\" WHERE \"id\" = 10 ORDER BY validityintervals.id ASC\n",
      "└ @ SearchLightPostgreSQL /home/mf/.julia/packages/SearchLightPostgreSQL/TgpHy/src/SearchLightPostgreSQL.jl:134\n"
     ]
    },
    {
     "name": "stderr",
     "output_type": "stream",
     "text": [
      "┌ Info: UPDATE workflows SET  \"id\" = E'10', \"ref_history\" = E'10', \"ref_version\" = E'10', \"tsdb_validfrom\" = E'2022-07-08T07:33:49.736+01:00', \"tsw_validfrom\" = E'2014-05-30T20:00:01.001+00:00', \"is_committed\" = 1 WHERE workflows.id = '10' RETURNING id\n",
      "└ @ SearchLightPostgreSQL /home/mf/.julia/packages/SearchLightPostgreSQL/TgpHy/src/SearchLightPostgreSQL.jl:134\n",
      "┌ Info: SELECT \"workflows\".\"id\" AS \"workflows_id\", \"workflows\".\"ref_history\" AS \"workflows_ref_history\", \"workflows\".\"ref_version\" AS \"workflows_ref_version\", \"workflows\".\"tsdb_validfrom\" AS \"workflows_tsdb_validfrom\", \"workflows\".\"tsw_validfrom\" AS \"workflows_tsw_validfrom\", \"workflows\".\"is_committed\" AS \"workflows_is_committed\" FROM \"workflows\" WHERE \"id\" = 10 ORDER BY workflows.id ASC\n",
      "└ @ SearchLightPostgreSQL /home/mf/.julia/packages/SearchLightPostgreSQL/TgpHy/src/SearchLightPostgreSQL.jl:134\n",
      "┌ Info: COMMIT\n",
      "└ @ SearchLightPostgreSQL /home/mf/.julia/packages/SearchLightPostgreSQL/TgpHy/src/SearchLightPostgreSQL.jl:134\n",
      "┌ Info: BEGIN\n",
      "└ @ SearchLightPostgreSQL /home/mf/.julia/packages/SearchLightPostgreSQL/TgpHy/src/SearchLightPostgreSQL.jl:134\n",
      "┌ Info: INSERT INTO histories ( \"dummy\" ) VALUES ( 0 ) RETURNING id\n",
      "└ @ SearchLightPostgreSQL /home/mf/.julia/packages/SearchLightPostgreSQL/TgpHy/src/SearchLightPostgreSQL.jl:134\n",
      "┌ Info: SELECT \"histories\".\"id\" AS \"histories_id\", \"histories\".\"dummy\" AS \"histories_dummy\" FROM \"histories\" WHERE \"id\" = 11 ORDER BY histories.id ASC\n",
      "└ @ SearchLightPostgreSQL /home/mf/.julia/packages/SearchLightPostgreSQL/TgpHy/src/SearchLightPostgreSQL.jl:134\n",
      "┌ Info: INSERT INTO versions ( \"ref_history\" ) VALUES ( E'11' ) RETURNING id\n",
      "└ @ SearchLightPostgreSQL /home/mf/.julia/packages/SearchLightPostgreSQL/TgpHy/src/SearchLightPostgreSQL.jl:134\n",
      "┌ Info: SELECT \"versions\".\"id\" AS \"versions_id\", \"versions\".\"ref_history\" AS \"versions_ref_history\" FROM \"versions\" WHERE \"id\" = 11 ORDER BY versions.id ASC\n",
      "└ @ SearchLightPostgreSQL /home/mf/.julia/packages/SearchLightPostgreSQL/TgpHy/src/SearchLightPostgreSQL.jl:134\n",
      "┌ Info: INSERT INTO workflows ( \"ref_history\", \"ref_version\", \"tsdb_validfrom\", \"tsw_validfrom\", \"is_committed\" ) VALUES ( E'11', E'11', E'2038-01-19T03:14:06.999+00:00', E'2014-05-30T21:00:01.001+01:00', 0 ) RETURNING id\n",
      "└ @ SearchLightPostgreSQL /home/mf/.julia/packages/SearchLightPostgreSQL/TgpHy/src/SearchLightPostgreSQL.jl:134\n",
      "┌ Info: SELECT \"workflows\".\"id\" AS \"workflows_id\", \"workflows\".\"ref_history\" AS \"workflows_ref_history\", \"workflows\".\"ref_version\" AS \"workflows_ref_version\", \"workflows\".\"tsdb_validfrom\" AS \"workflows_tsdb_validfrom\", \"workflows\".\"tsw_validfrom\" AS \"workflows_tsw_validfrom\", \"workflows\".\"is_committed\" AS \"workflows_is_committed\" FROM \"workflows\" WHERE \"id\" = 11 ORDER BY workflows.id ASC\n",
      "└ @ SearchLightPostgreSQL /home/mf/.julia/packages/SearchLightPostgreSQL/TgpHy/src/SearchLightPostgreSQL.jl:134\n",
      "┌ Info: INSERT INTO validityintervals ( \"ref_history\", \"ref_version\", \"tsdb_validfrom\", \"tsworld_validfrom\", \"tsdb_invalidfrom\", \"tsworld_invalidfrom\", \"is_committed\" ) VALUES ( E'11', E'11', E'2022-07-08T07:33:49.751+01:00', E'2014-05-30T20:00:01.001+00:00', E'2038-01-19T03:14:06.999+00:00', E'2038-01-19T03:14:06.999+00:00', 0 ) RETURNING id\n",
      "└ @ SearchLightPostgreSQL /home/mf/.julia/packages/SearchLightPostgreSQL/TgpHy/src/SearchLightPostgreSQL.jl:134\n",
      "NOTICE:  NEW: (11,11,11,\"2014-05-30 20:00:01.001+00\",\"2038-01-19 03:14:06.999+00\",\"2022-07-08 06:33:49.751+00\",\"2038-01-19 03:14:06.999+00\",,,0)\n",
      "┌ Info: SELECT \"validityintervals\".\"id\" AS \"validityintervals_id\", \"validityintervals\".\"ref_history\" AS \"validityintervals_ref_history\", \"validityintervals\".\"ref_version\" AS \"validityintervals_ref_version\", \"validityintervals\".\"tsdb_validfrom\" AS \"validityintervals_tsdb_validfrom\", \"validityintervals\".\"tsworld_validfrom\" AS \"validityintervals_tsworld_validfrom\", \"validityintervals\".\"tsdb_invalidfrom\" AS \"validityintervals_tsdb_invalidfrom\", \"validityintervals\".\"tsworld_invalidfrom\" AS \"validityintervals_tsworld_invalidfrom\", \"validityintervals\".\"is_committed\" AS \"validityintervals_is_committed\" FROM \"validityintervals\" WHERE \"id\" = 11 ORDER BY validityintervals.id ASC\n",
      "└ @ SearchLightPostgreSQL /home/mf/.julia/packages/SearchLightPostgreSQL/TgpHy/src/SearchLightPostgreSQL.jl:134\n",
      "┌ Info: COMMIT\n",
      "└ @ SearchLightPostgreSQL /home/mf/.julia/packages/SearchLightPostgreSQL/TgpHy/src/SearchLightPostgreSQL.jl:134\n",
      "┌ Info: BEGIN\n",
      "└ @ SearchLightPostgreSQL /home/mf/.julia/packages/SearchLightPostgreSQL/TgpHy/src/SearchLightPostgreSQL.jl:134\n",
      "┌ Info: INSERT INTO tariffs ( \"ref_history\", \"ref_version\" ) VALUES ( E'11', E'11' ) RETURNING id\n",
      "└ @ SearchLightPostgreSQL /home/mf/.julia/packages/SearchLightPostgreSQL/TgpHy/src/SearchLightPostgreSQL.jl:134\n",
      "┌ Info: SELECT \"tariffs\".\"id\" AS \"tariffs_id\", \"tariffs\".\"ref_history\" AS \"tariffs_ref_history\", \"tariffs\".\"ref_version\" AS \"tariffs_ref_version\" FROM \"tariffs\" WHERE \"id\" = 9 ORDER BY tariffs.id ASC\n",
      "└ @ SearchLightPostgreSQL /home/mf/.julia/packages/SearchLightPostgreSQL/TgpHy/src/SearchLightPostgreSQL.jl:134\n",
      "┌ Info: INSERT INTO tariffrevisions ( \"ref_component\", \"ref_validfrom\", \"ref_invalidfrom\", \"description\" ) VALUES ( E'9', E'11', E'9223372036854775807', E'Occupational Disability' ) RETURNING id\n",
      "└ @ SearchLightPostgreSQL /home/mf/.julia/packages/SearchLightPostgreSQL/TgpHy/src/SearchLightPostgreSQL.jl:134\n",
      "NOTICE:  NEW: (9,9,11,9223372036854775807,,\"Occupational Disability\")\n",
      "┌ Info: SELECT \"tariffrevisions\".\"id\" AS \"tariffrevisions_id\", \"tariffrevisions\".\"ref_component\" AS \"tariffrevisions_ref_component\", \"tariffrevisions\".\"ref_validfrom\" AS \"tariffrevisions_ref_validfrom\", \"tariffrevisions\".\"ref_invalidfrom\" AS \"tariffrevisions_ref_invalidfrom\", \"tariffrevisions\".\"description\" AS \"tariffrevisions_description\" FROM \"tariffrevisions\" WHERE \"id\" = 9 ORDER BY tariffrevisions.id ASC\n",
      "└ @ SearchLightPostgreSQL /home/mf/.julia/packages/SearchLightPostgreSQL/TgpHy/src/SearchLightPostgreSQL.jl:134\n",
      "┌ Info: COMMIT\n",
      "└ @ SearchLightPostgreSQL /home/mf/.julia/packages/SearchLightPostgreSQL/TgpHy/src/SearchLightPostgreSQL.jl:134\n",
      "┌ Info: BEGIN\n",
      "└ @ SearchLightPostgreSQL /home/mf/.julia/packages/SearchLightPostgreSQL/TgpHy/src/SearchLightPostgreSQL.jl:134\n",
      "┌ Info: SELECT \"validityintervals\".\"id\" AS \"validityintervals_id\", \"validityintervals\".\"ref_history\" AS \"validityintervals_ref_history\", \"validityintervals\".\"ref_version\" AS \"validityintervals_ref_version\", \"validityintervals\".\"tsdb_validfrom\" AS \"validityintervals_tsdb_validfrom\", \"validityintervals\".\"tsworld_validfrom\" AS \"validityintervals_tsworld_validfrom\", \"validityintervals\".\"tsdb_invalidfrom\" AS \"validityintervals_tsdb_invalidfrom\", \"validityintervals\".\"tsworld_invalidfrom\" AS \"validityintervals_tsworld_invalidfrom\", \"validityintervals\".\"is_committed\" AS \"validityintervals_is_committed\" FROM \"validityintervals\" WHERE ref_version = E'11' AND is_committed = 0 ORDER BY validityintervals.id ASC\n",
      "└ @ SearchLightPostgreSQL /home/mf/.julia/packages/SearchLightPostgreSQL/TgpHy/src/SearchLightPostgreSQL.jl:134\n",
      "┌ Info: SELECT \"validityintervals\".\"id\" AS \"validityintervals_id\", \"validityintervals\".\"ref_history\" AS \"validityintervals_ref_history\", \"validityintervals\".\"ref_version\" AS \"validityintervals_ref_version\", \"validityintervals\".\"tsdb_validfrom\" AS \"validityintervals_tsdb_validfrom\", \"validityintervals\".\"tsworld_validfrom\" AS \"validityintervals_tsworld_validfrom\", \"validityintervals\".\"tsdb_invalidfrom\" AS \"validityintervals_tsdb_invalidfrom\", \"validityintervals\".\"tsworld_invalidfrom\" AS \"validityintervals_tsworld_invalidfrom\", \"validityintervals\".\"is_committed\" AS \"validityintervals_is_committed\" FROM \"validityintervals\" WHERE ref_history = E'11' AND tsrdb @> TIMESTAMPTZ E'2038-01-18T03:14:06.999+00:00' AND tsrworld <@ tstzrange(E'2014-05-31T20:00:01.001+00:00',E'2038-01-19T03:14:06.999+00:00') AND is_committed=1 ORDER BY validityintervals.id ASC\n",
      "└ @ SearchLightPostgreSQL /home/mf/.julia/packages/SearchLightPostgreSQL/TgpHy/src/SearchLightPostgreSQL.jl:134\n",
      "┌ Info: SELECT \"validityintervals\".\"id\" AS \"validityintervals_id\", \"validityintervals\".\"ref_history\" AS \"validityintervals_ref_history\", \"validityintervals\".\"ref_version\" AS \"validityintervals_ref_version\", \"validityintervals\".\"tsdb_validfrom\" AS \"validityintervals_tsdb_validfrom\", \"validityintervals\".\"tsworld_validfrom\" AS \"validityintervals_tsworld_validfrom\", \"validityintervals\".\"tsdb_invalidfrom\" AS \"validityintervals_tsdb_invalidfrom\", \"validityintervals\".\"tsworld_invalidfrom\" AS \"validityintervals_tsworld_invalidfrom\", \"validityintervals\".\"is_committed\" AS \"validityintervals_is_committed\" FROM \"validityintervals\" WHERE ref_history = E'11' AND tsrdb @> TIMESTAMPTZ E'2038-01-18T03:14:06.999+00:00' AND tsrworld && tstzrange(E'2014-05-31T20:00:01.001+00:00',E'2038-01-19T03:14:06.999+00:00') AND is_committed=1 ORDER BY validityintervals.id ASC\n",
      "└ @ SearchLightPostgreSQL /home/mf/.julia/packages/SearchLightPostgreSQL/TgpHy/src/SearchLightPostgreSQL.jl:134\n",
      "┌ Info: UPDATE validityintervals SET  \"id\" = E'11', \"ref_history\" = E'11', \"ref_version\" = E'11', \"tsdb_validfrom\" = E'2022-07-08T07:33:49.764+01:00', \"tsworld_validfrom\" = E'2014-05-30T20:00:01.001+00:00', \"tsdb_invalidfrom\" = E'2038-01-19T03:14:06.999+00:00', \"tsworld_invalidfrom\" = E'2038-01-19T03:14:06.999+00:00', \"is_committed\" = 1 WHERE validityintervals.id = '11' RETURNING id\n",
      "└ @ SearchLightPostgreSQL /home/mf/.julia/packages/SearchLightPostgreSQL/TgpHy/src/SearchLightPostgreSQL.jl:134\n",
      "NOTICE:  NEW: (11,11,11,\"2014-05-30 20:00:01.001+00\",\"2038-01-19 03:14:06.999+00\",\"2022-07-08 06:33:49.764+00\",\"2038-01-19 03:14:06.999+00\",\"[\"\"2014-05-30 20:00:01.001+00\"\",\"\"2038-01-19 03:14:06.999+00\"\")\",\"[\"\"2022-07-08 06:33:49.751+00\"\",\"\"2038-01-19 03:14:06.999+00\"\")\",1)\n",
      "┌ Info: SELECT \"validityintervals\".\"id\" AS \"validityintervals_id\", \"validityintervals\".\"ref_history\" AS \"validityintervals_ref_history\", \"validityintervals\".\"ref_version\" AS \"validityintervals_ref_version\", \"validityintervals\".\"tsdb_validfrom\" AS \"validityintervals_tsdb_validfrom\", \"validityintervals\".\"tsworld_validfrom\" AS \"validityintervals_tsworld_validfrom\", \"validityintervals\".\"tsdb_invalidfrom\" AS \"validityintervals_tsdb_invalidfrom\", \"validityintervals\".\"tsworld_invalidfrom\" AS \"validityintervals_tsworld_invalidfrom\", \"validityintervals\".\"is_committed\" AS \"validityintervals_is_committed\" FROM \"validityintervals\" WHERE \"id\" = 11 ORDER BY validityintervals.id ASC\n",
      "└ @ SearchLightPostgreSQL /home/mf/.julia/packages/SearchLightPostgreSQL/TgpHy/src/SearchLightPostgreSQL.jl:134\n"
     ]
    },
    {
     "name": "stderr",
     "output_type": "stream",
     "text": [
      "┌ Info: UPDATE workflows SET  \"id\" = E'11', \"ref_history\" = E'11', \"ref_version\" = E'11', \"tsdb_validfrom\" = E'2022-07-08T07:33:49.764+01:00', \"tsw_validfrom\" = E'2014-05-30T20:00:01.001+00:00', \"is_committed\" = 1 WHERE workflows.id = '11' RETURNING id\n",
      "└ @ SearchLightPostgreSQL /home/mf/.julia/packages/SearchLightPostgreSQL/TgpHy/src/SearchLightPostgreSQL.jl:134\n",
      "┌ Info: SELECT \"workflows\".\"id\" AS \"workflows_id\", \"workflows\".\"ref_history\" AS \"workflows_ref_history\", \"workflows\".\"ref_version\" AS \"workflows_ref_version\", \"workflows\".\"tsdb_validfrom\" AS \"workflows_tsdb_validfrom\", \"workflows\".\"tsw_validfrom\" AS \"workflows_tsw_validfrom\", \"workflows\".\"is_committed\" AS \"workflows_is_committed\" FROM \"workflows\" WHERE \"id\" = 11 ORDER BY workflows.id ASC\n",
      "└ @ SearchLightPostgreSQL /home/mf/.julia/packages/SearchLightPostgreSQL/TgpHy/src/SearchLightPostgreSQL.jl:134\n",
      "┌ Info: COMMIT\n",
      "└ @ SearchLightPostgreSQL /home/mf/.julia/packages/SearchLightPostgreSQL/TgpHy/src/SearchLightPostgreSQL.jl:134\n",
      "┌ Info: BEGIN\n",
      "└ @ SearchLightPostgreSQL /home/mf/.julia/packages/SearchLightPostgreSQL/TgpHy/src/SearchLightPostgreSQL.jl:134\n",
      "┌ Info: INSERT INTO histories ( \"dummy\" ) VALUES ( 0 ) RETURNING id\n",
      "└ @ SearchLightPostgreSQL /home/mf/.julia/packages/SearchLightPostgreSQL/TgpHy/src/SearchLightPostgreSQL.jl:134\n",
      "┌ Info: SELECT \"histories\".\"id\" AS \"histories_id\", \"histories\".\"dummy\" AS \"histories_dummy\" FROM \"histories\" WHERE \"id\" = 12 ORDER BY histories.id ASC\n",
      "└ @ SearchLightPostgreSQL /home/mf/.julia/packages/SearchLightPostgreSQL/TgpHy/src/SearchLightPostgreSQL.jl:134\n",
      "┌ Info: INSERT INTO versions ( \"ref_history\" ) VALUES ( E'12' ) RETURNING id\n",
      "└ @ SearchLightPostgreSQL /home/mf/.julia/packages/SearchLightPostgreSQL/TgpHy/src/SearchLightPostgreSQL.jl:134\n",
      "┌ Info: SELECT \"versions\".\"id\" AS \"versions_id\", \"versions\".\"ref_history\" AS \"versions_ref_history\" FROM \"versions\" WHERE \"id\" = 12 ORDER BY versions.id ASC\n",
      "└ @ SearchLightPostgreSQL /home/mf/.julia/packages/SearchLightPostgreSQL/TgpHy/src/SearchLightPostgreSQL.jl:134\n",
      "┌ Info: INSERT INTO workflows ( \"ref_history\", \"ref_version\", \"tsdb_validfrom\", \"tsw_validfrom\", \"is_committed\" ) VALUES ( E'12', E'12', E'2038-01-19T03:14:06.999+00:00', E'2014-05-30T21:00:01.001+01:00', 0 ) RETURNING id\n",
      "└ @ SearchLightPostgreSQL /home/mf/.julia/packages/SearchLightPostgreSQL/TgpHy/src/SearchLightPostgreSQL.jl:134\n",
      "┌ Info: SELECT \"workflows\".\"id\" AS \"workflows_id\", \"workflows\".\"ref_history\" AS \"workflows_ref_history\", \"workflows\".\"ref_version\" AS \"workflows_ref_version\", \"workflows\".\"tsdb_validfrom\" AS \"workflows_tsdb_validfrom\", \"workflows\".\"tsw_validfrom\" AS \"workflows_tsw_validfrom\", \"workflows\".\"is_committed\" AS \"workflows_is_committed\" FROM \"workflows\" WHERE \"id\" = 12 ORDER BY workflows.id ASC\n",
      "└ @ SearchLightPostgreSQL /home/mf/.julia/packages/SearchLightPostgreSQL/TgpHy/src/SearchLightPostgreSQL.jl:134\n",
      "┌ Info: INSERT INTO validityintervals ( \"ref_history\", \"ref_version\", \"tsdb_validfrom\", \"tsworld_validfrom\", \"tsdb_invalidfrom\", \"tsworld_invalidfrom\", \"is_committed\" ) VALUES ( E'12', E'12', E'2022-07-08T07:33:49.780+01:00', E'2014-05-30T20:00:01.001+00:00', E'2038-01-19T03:14:06.999+00:00', E'2038-01-19T03:14:06.999+00:00', 0 ) RETURNING id\n",
      "└ @ SearchLightPostgreSQL /home/mf/.julia/packages/SearchLightPostgreSQL/TgpHy/src/SearchLightPostgreSQL.jl:134\n",
      "NOTICE:  NEW: (12,12,12,\"2014-05-30 20:00:01.001+00\",\"2038-01-19 03:14:06.999+00\",\"2022-07-08 06:33:49.78+00\",\"2038-01-19 03:14:06.999+00\",,,0)\n",
      "┌ Info: SELECT \"validityintervals\".\"id\" AS \"validityintervals_id\", \"validityintervals\".\"ref_history\" AS \"validityintervals_ref_history\", \"validityintervals\".\"ref_version\" AS \"validityintervals_ref_version\", \"validityintervals\".\"tsdb_validfrom\" AS \"validityintervals_tsdb_validfrom\", \"validityintervals\".\"tsworld_validfrom\" AS \"validityintervals_tsworld_validfrom\", \"validityintervals\".\"tsdb_invalidfrom\" AS \"validityintervals_tsdb_invalidfrom\", \"validityintervals\".\"tsworld_invalidfrom\" AS \"validityintervals_tsworld_invalidfrom\", \"validityintervals\".\"is_committed\" AS \"validityintervals_is_committed\" FROM \"validityintervals\" WHERE \"id\" = 12 ORDER BY validityintervals.id ASC\n",
      "└ @ SearchLightPostgreSQL /home/mf/.julia/packages/SearchLightPostgreSQL/TgpHy/src/SearchLightPostgreSQL.jl:134\n",
      "┌ Info: COMMIT\n",
      "└ @ SearchLightPostgreSQL /home/mf/.julia/packages/SearchLightPostgreSQL/TgpHy/src/SearchLightPostgreSQL.jl:134\n",
      "┌ Info: BEGIN\n",
      "└ @ SearchLightPostgreSQL /home/mf/.julia/packages/SearchLightPostgreSQL/TgpHy/src/SearchLightPostgreSQL.jl:134\n",
      "┌ Info: INSERT INTO tariffs ( \"ref_history\", \"ref_version\" ) VALUES ( E'12', E'12' ) RETURNING id\n",
      "└ @ SearchLightPostgreSQL /home/mf/.julia/packages/SearchLightPostgreSQL/TgpHy/src/SearchLightPostgreSQL.jl:134\n",
      "┌ Info: SELECT \"tariffs\".\"id\" AS \"tariffs_id\", \"tariffs\".\"ref_history\" AS \"tariffs_ref_history\", \"tariffs\".\"ref_version\" AS \"tariffs_ref_version\" FROM \"tariffs\" WHERE \"id\" = 10 ORDER BY tariffs.id ASC\n",
      "└ @ SearchLightPostgreSQL /home/mf/.julia/packages/SearchLightPostgreSQL/TgpHy/src/SearchLightPostgreSQL.jl:134\n",
      "┌ Info: INSERT INTO tariffrevisions ( \"ref_component\", \"ref_validfrom\", \"ref_invalidfrom\", \"description\" ) VALUES ( E'10', E'12', E'9223372036854775807', E'Profit participation' ) RETURNING id\n",
      "└ @ SearchLightPostgreSQL /home/mf/.julia/packages/SearchLightPostgreSQL/TgpHy/src/SearchLightPostgreSQL.jl:134\n",
      "NOTICE:  NEW: (10,10,12,9223372036854775807,,\"Profit participation\")\n",
      "┌ Info: SELECT \"tariffrevisions\".\"id\" AS \"tariffrevisions_id\", \"tariffrevisions\".\"ref_component\" AS \"tariffrevisions_ref_component\", \"tariffrevisions\".\"ref_validfrom\" AS \"tariffrevisions_ref_validfrom\", \"tariffrevisions\".\"ref_invalidfrom\" AS \"tariffrevisions_ref_invalidfrom\", \"tariffrevisions\".\"description\" AS \"tariffrevisions_description\" FROM \"tariffrevisions\" WHERE \"id\" = 10 ORDER BY tariffrevisions.id ASC\n",
      "└ @ SearchLightPostgreSQL /home/mf/.julia/packages/SearchLightPostgreSQL/TgpHy/src/SearchLightPostgreSQL.jl:134\n",
      "┌ Info: COMMIT\n",
      "└ @ SearchLightPostgreSQL /home/mf/.julia/packages/SearchLightPostgreSQL/TgpHy/src/SearchLightPostgreSQL.jl:134\n",
      "┌ Info: BEGIN\n",
      "└ @ SearchLightPostgreSQL /home/mf/.julia/packages/SearchLightPostgreSQL/TgpHy/src/SearchLightPostgreSQL.jl:134\n",
      "┌ Info: SELECT \"validityintervals\".\"id\" AS \"validityintervals_id\", \"validityintervals\".\"ref_history\" AS \"validityintervals_ref_history\", \"validityintervals\".\"ref_version\" AS \"validityintervals_ref_version\", \"validityintervals\".\"tsdb_validfrom\" AS \"validityintervals_tsdb_validfrom\", \"validityintervals\".\"tsworld_validfrom\" AS \"validityintervals_tsworld_validfrom\", \"validityintervals\".\"tsdb_invalidfrom\" AS \"validityintervals_tsdb_invalidfrom\", \"validityintervals\".\"tsworld_invalidfrom\" AS \"validityintervals_tsworld_invalidfrom\", \"validityintervals\".\"is_committed\" AS \"validityintervals_is_committed\" FROM \"validityintervals\" WHERE ref_version = E'12' AND is_committed = 0 ORDER BY validityintervals.id ASC\n",
      "└ @ SearchLightPostgreSQL /home/mf/.julia/packages/SearchLightPostgreSQL/TgpHy/src/SearchLightPostgreSQL.jl:134\n",
      "┌ Info: SELECT \"validityintervals\".\"id\" AS \"validityintervals_id\", \"validityintervals\".\"ref_history\" AS \"validityintervals_ref_history\", \"validityintervals\".\"ref_version\" AS \"validityintervals_ref_version\", \"validityintervals\".\"tsdb_validfrom\" AS \"validityintervals_tsdb_validfrom\", \"validityintervals\".\"tsworld_validfrom\" AS \"validityintervals_tsworld_validfrom\", \"validityintervals\".\"tsdb_invalidfrom\" AS \"validityintervals_tsdb_invalidfrom\", \"validityintervals\".\"tsworld_invalidfrom\" AS \"validityintervals_tsworld_invalidfrom\", \"validityintervals\".\"is_committed\" AS \"validityintervals_is_committed\" FROM \"validityintervals\" WHERE ref_history = E'12' AND tsrdb @> TIMESTAMPTZ E'2038-01-18T03:14:06.999+00:00' AND tsrworld <@ tstzrange(E'2014-05-31T20:00:01.001+00:00',E'2038-01-19T03:14:06.999+00:00') AND is_committed=1 ORDER BY validityintervals.id ASC\n",
      "└ @ SearchLightPostgreSQL /home/mf/.julia/packages/SearchLightPostgreSQL/TgpHy/src/SearchLightPostgreSQL.jl:134\n"
     ]
    },
    {
     "name": "stderr",
     "output_type": "stream",
     "text": [
      "┌ Info: SELECT \"validityintervals\".\"id\" AS \"validityintervals_id\", \"validityintervals\".\"ref_history\" AS \"validityintervals_ref_history\", \"validityintervals\".\"ref_version\" AS \"validityintervals_ref_version\", \"validityintervals\".\"tsdb_validfrom\" AS \"validityintervals_tsdb_validfrom\", \"validityintervals\".\"tsworld_validfrom\" AS \"validityintervals_tsworld_validfrom\", \"validityintervals\".\"tsdb_invalidfrom\" AS \"validityintervals_tsdb_invalidfrom\", \"validityintervals\".\"tsworld_invalidfrom\" AS \"validityintervals_tsworld_invalidfrom\", \"validityintervals\".\"is_committed\" AS \"validityintervals_is_committed\" FROM \"validityintervals\" WHERE ref_history = E'12' AND tsrdb @> TIMESTAMPTZ E'2038-01-18T03:14:06.999+00:00' AND tsrworld && tstzrange(E'2014-05-31T20:00:01.001+00:00',E'2038-01-19T03:14:06.999+00:00') AND is_committed=1 ORDER BY validityintervals.id ASC\n",
      "└ @ SearchLightPostgreSQL /home/mf/.julia/packages/SearchLightPostgreSQL/TgpHy/src/SearchLightPostgreSQL.jl:134\n",
      "┌ Info: UPDATE validityintervals SET  \"id\" = E'12', \"ref_history\" = E'12', \"ref_version\" = E'12', \"tsdb_validfrom\" = E'2022-07-08T07:33:49.800+01:00', \"tsworld_validfrom\" = E'2014-05-30T20:00:01.001+00:00', \"tsdb_invalidfrom\" = E'2038-01-19T03:14:06.999+00:00', \"tsworld_invalidfrom\" = E'2038-01-19T03:14:06.999+00:00', \"is_committed\" = 1 WHERE validityintervals.id = '12' RETURNING id\n",
      "└ @ SearchLightPostgreSQL /home/mf/.julia/packages/SearchLightPostgreSQL/TgpHy/src/SearchLightPostgreSQL.jl:134\n",
      "NOTICE:  NEW: (12,12,12,\"2014-05-30 20:00:01.001+00\",\"2038-01-19 03:14:06.999+00\",\"2022-07-08 06:33:49.8+00\",\"2038-01-19 03:14:06.999+00\",\"[\"\"2014-05-30 20:00:01.001+00\"\",\"\"2038-01-19 03:14:06.999+00\"\")\",\"[\"\"2022-07-08 06:33:49.78+00\"\",\"\"2038-01-19 03:14:06.999+00\"\")\",1)\n",
      "┌ Info: SELECT \"validityintervals\".\"id\" AS \"validityintervals_id\", \"validityintervals\".\"ref_history\" AS \"validityintervals_ref_history\", \"validityintervals\".\"ref_version\" AS \"validityintervals_ref_version\", \"validityintervals\".\"tsdb_validfrom\" AS \"validityintervals_tsdb_validfrom\", \"validityintervals\".\"tsworld_validfrom\" AS \"validityintervals_tsworld_validfrom\", \"validityintervals\".\"tsdb_invalidfrom\" AS \"validityintervals_tsdb_invalidfrom\", \"validityintervals\".\"tsworld_invalidfrom\" AS \"validityintervals_tsworld_invalidfrom\", \"validityintervals\".\"is_committed\" AS \"validityintervals_is_committed\" FROM \"validityintervals\" WHERE \"id\" = 12 ORDER BY validityintervals.id ASC\n",
      "└ @ SearchLightPostgreSQL /home/mf/.julia/packages/SearchLightPostgreSQL/TgpHy/src/SearchLightPostgreSQL.jl:134\n",
      "┌ Info: UPDATE workflows SET  \"id\" = E'12', \"ref_history\" = E'12', \"ref_version\" = E'12', \"tsdb_validfrom\" = E'2022-07-08T07:33:49.800+01:00', \"tsw_validfrom\" = E'2014-05-30T20:00:01.001+00:00', \"is_committed\" = 1 WHERE workflows.id = '12' RETURNING id\n",
      "└ @ SearchLightPostgreSQL /home/mf/.julia/packages/SearchLightPostgreSQL/TgpHy/src/SearchLightPostgreSQL.jl:134\n",
      "┌ Info: SELECT \"workflows\".\"id\" AS \"workflows_id\", \"workflows\".\"ref_history\" AS \"workflows_ref_history\", \"workflows\".\"ref_version\" AS \"workflows_ref_version\", \"workflows\".\"tsdb_validfrom\" AS \"workflows_tsdb_validfrom\", \"workflows\".\"tsw_validfrom\" AS \"workflows_tsw_validfrom\", \"workflows\".\"is_committed\" AS \"workflows_is_committed\" FROM \"workflows\" WHERE \"id\" = 12 ORDER BY workflows.id ASC\n",
      "└ @ SearchLightPostgreSQL /home/mf/.julia/packages/SearchLightPostgreSQL/TgpHy/src/SearchLightPostgreSQL.jl:134\n",
      "┌ Info: COMMIT\n",
      "└ @ SearchLightPostgreSQL /home/mf/.julia/packages/SearchLightPostgreSQL/TgpHy/src/SearchLightPostgreSQL.jl:134\n",
      "┌ Info: SELECT \"tariffrevisions\".\"id\" AS \"tariffrevisions_id\", \"tariffrevisions\".\"ref_component\" AS \"tariffrevisions_ref_component\", \"tariffrevisions\".\"ref_validfrom\" AS \"tariffrevisions_ref_validfrom\", \"tariffrevisions\".\"ref_invalidfrom\" AS \"tariffrevisions_ref_invalidfrom\", \"tariffrevisions\".\"description\" AS \"tariffrevisions_description\" FROM \"tariffrevisions\" ORDER BY tariffrevisions.id ASC\n",
      "└ @ SearchLightPostgreSQL /home/mf/.julia/packages/SearchLightPostgreSQL/TgpHy/src/SearchLightPostgreSQL.jl:134\n"
     ]
    },
    {
     "data": {
      "text/plain": [
       "10-element Vector{TariffRevision}:\n",
       " TariffRevision\n",
       "| KEY                   | VALUE               |\n",
       "|-----------------------|---------------------|\n",
       "| description::String   | Life Risk Insurance |\n",
       "| id::DbId              | 1                   |\n",
       "| ref_component::DbId   | 1                   |\n",
       "| ref_invalidfrom::DbId | 9223372036854775807 |\n",
       "| ref_validfrom::DbId   | 2                   |\n",
       "\n",
       " TariffRevision\n",
       "| KEY                   | VALUE               |\n",
       "|-----------------------|---------------------|\n",
       "| description::String   | Terminal Illness    |\n",
       "| id::DbId              | 2                   |\n",
       "| ref_component::DbId   | 2                   |\n",
       "| ref_invalidfrom::DbId | 9223372036854775807 |\n",
       "| ref_validfrom::DbId   | 3                   |\n",
       "\n",
       " TariffRevision\n",
       "| KEY                   | VALUE               |\n",
       "|-----------------------|---------------------|\n",
       "| description::String   | Life Risk Insurance |\n",
       "| id::DbId              | 3                   |\n",
       "| ref_component::DbId   | 3                   |\n",
       "| ref_invalidfrom::DbId | 9223372036854775807 |\n",
       "| ref_validfrom::DbId   | 5                   |\n",
       "\n",
       " TariffRevision\n",
       "| KEY                   | VALUE               |\n",
       "|-----------------------|---------------------|\n",
       "| description::String   | Terminal Illness    |\n",
       "| id::DbId              | 4                   |\n",
       "| ref_component::DbId   | 4                   |\n",
       "| ref_invalidfrom::DbId | 9223372036854775807 |\n",
       "| ref_validfrom::DbId   | 6                   |\n",
       "\n",
       " TariffRevision\n",
       "| KEY                   | VALUE               |\n",
       "|-----------------------|---------------------|\n",
       "| description::String   | Life Risk Insurance |\n",
       "| id::DbId              | 5                   |\n",
       "| ref_component::DbId   | 5                   |\n",
       "| ref_invalidfrom::DbId | 9223372036854775807 |\n",
       "| ref_validfrom::DbId   | 7                   |\n",
       "\n",
       " TariffRevision\n",
       "| KEY                   | VALUE               |\n",
       "|-----------------------|---------------------|\n",
       "| description::String   | Terminal Illness    |\n",
       "| id::DbId              | 6                   |\n",
       "| ref_component::DbId   | 6                   |\n",
       "| ref_invalidfrom::DbId | 9223372036854775807 |\n",
       "| ref_validfrom::DbId   | 8                   |\n",
       "\n",
       " TariffRevision\n",
       "| KEY                   | VALUE               |\n",
       "|-----------------------|---------------------|\n",
       "| description::String   | Life Risk Insurance |\n",
       "| id::DbId              | 7                   |\n",
       "| ref_component::DbId   | 7                   |\n",
       "| ref_invalidfrom::DbId | 9223372036854775807 |\n",
       "| ref_validfrom::DbId   | 9                   |\n",
       "\n",
       " TariffRevision\n",
       "| KEY                   | VALUE               |\n",
       "|-----------------------|---------------------|\n",
       "| description::String   | Terminal Illness    |\n",
       "| id::DbId              | 8                   |\n",
       "| ref_component::DbId   | 8                   |\n",
       "| ref_invalidfrom::DbId | 9223372036854775807 |\n",
       "| ref_validfrom::DbId   | 10                  |\n",
       "\n",
       " TariffRevision\n",
       "| KEY                   | VALUE                   |\n",
       "|-----------------------|-------------------------|\n",
       "| description::String   | Occupational Disability |\n",
       "| id::DbId              | 9                       |\n",
       "| ref_component::DbId   | 9                       |\n",
       "| ref_invalidfrom::DbId | 9223372036854775807     |\n",
       "| ref_validfrom::DbId   | 11                      |\n",
       "\n",
       " TariffRevision\n",
       "| KEY                   | VALUE                |\n",
       "|-----------------------|----------------------|\n",
       "| description::String   | Profit participation |\n",
       "| id::DbId              | 10                   |\n",
       "| ref_component::DbId   | 10                   |\n",
       "| ref_invalidfrom::DbId | 9223372036854775807  |\n",
       "| ref_validfrom::DbId   | 12                   |\n"
      ]
     },
     "metadata": {},
     "output_type": "display_data"
    }
   ],
   "source": [
    "# create Tariffs\n",
    "function create_tariff(dsc)\n",
    "    t = LifeInsuranceDataModel.Tariff()\n",
    "    tr = LifeInsuranceDataModel.TariffRevision(description=dsc)\n",
    "    w = Workflow(\n",
    "        tsw_validfrom=ZonedDateTime(2014, 5, 30, 21, 0, 1, 1, tz\"Africa/Porto-Novo\"),\n",
    "    )\n",
    "    create_entity!(w)\n",
    "    create_component!(t, tr, w)\n",
    "    commit_workflow!(w)\n",
    "    t.id\n",
    "end\n",
    "\n",
    "\n",
    "LifeRiskTariff=create_tariff(\"Life Risk Insurance\")\n",
    "TerminalIllnessTariff=create_tariff(\"Terminal Illness\")\n",
    "OccupationalDisability=create_tariff(\"Occupational Disability\")\n",
    "ProfitParticipationTariff=create_tariff(\"Profit participation\")\n",
    "\n",
    "find(TariffRevision)"
   ]
  },
  {
   "cell_type": "code",
   "execution_count": 11,
   "metadata": {},
   "outputs": [
    {
     "name": "stderr",
     "output_type": "stream",
     "text": [
      "┌ Info: SELECT \"tariffs\".\"id\" AS \"tariffs_id\", \"tariffs\".\"ref_history\" AS \"tariffs_ref_history\", \"tariffs\".\"ref_version\" AS \"tariffs_ref_version\" FROM \"tariffs\" WHERE id=E'10' ORDER BY tariffs.id ASC\n",
      "└ @ SearchLightPostgreSQL /home/mf/.julia/packages/SearchLightPostgreSQL/TgpHy/src/SearchLightPostgreSQL.jl:134\n"
     ]
    },
    {
     "data": {
      "text/plain": [
       "1-element Vector{Tariff}:\n",
       " Tariff\n",
       "| KEY               | VALUE |\n",
       "|-------------------|-------|\n",
       "| id::DbId          | 10    |\n",
       "| ref_history::DbId | 12    |\n",
       "| ref_version::DbId | 12    |\n"
      ]
     },
     "metadata": {},
     "output_type": "display_data"
    }
   ],
   "source": [
    "find(Tariff,SQLWhereExpression(\"id=?\",ProfitParticipationTariff))"
   ]
  },
  {
   "cell_type": "code",
   "execution_count": null,
   "metadata": {},
   "outputs": [],
   "source": [
    "\n",
    "\n",
    "map(find(Tariff)) do t\n",
    "    SearchLight.delete(t)\n",
    "end\n",
    "\n",
    "find(Tariff)\n",
    "\n"
   ]
  }
 ],
 "metadata": {
  "kernelspec": {
   "display_name": "Julia 1.6.6",
   "language": "julia",
   "name": "julia-1.6"
  },
  "language_info": {
   "file_extension": ".jl",
   "mimetype": "application/julia",
   "name": "julia",
   "version": "1.6.6"
  },
  "orig_nbformat": 4
 },
 "nbformat": 4,
 "nbformat_minor": 2
}
