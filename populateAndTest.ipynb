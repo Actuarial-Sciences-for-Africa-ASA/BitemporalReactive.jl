{
 "cells": [
  {
   "cell_type": "markdown",
   "metadata": {},
   "source": [
    "Load packages"
   ]
  },
  {
   "cell_type": "code",
   "execution_count": null,
   "metadata": {},
   "outputs": [],
   "source": [
    "#loading packages\n",
    "push!(LOAD_PATH, \"src\");\n",
    "import Base: @kwdef\n",
    "using Test\n",
    "using LifeInsuranceDataModel\n",
    "\n",
    "using BitemporalPostgres\n",
    "using SearchLight\n",
    "using SearchLightPostgreSQL\n",
    "using TimeZones\n",
    "using ToStruct\n",
    "using JSON"
   ]
  },
  {
   "cell_type": "code",
   "execution_count": null,
   "metadata": {},
   "outputs": [],
   "source": [
    "purging the data model entirely - empty the schema"
   ]
  },
  {
   "cell_type": "code",
   "execution_count": null,
   "metadata": {},
   "outputs": [],
   "source": [
    "if (haskey(ENV, \"GITPOD_REPO_ROOT\"))\n",
    "    run(```psql -f sqlsnippets/droptables.sql```)\n",
    "else\n",
    "    println(\"execute this in Your REPL\")\n",
    "    println(\"\"\"\n",
    "        run(```sudo -u postgres psql -f sqlsnippets/droptables.sql```)\n",
    "        \"\"\")\n",
    "end\n"
   ]
  },
  {
   "cell_type": "markdown",
   "metadata": {},
   "source": [
    "Loading the data model- Create tables, constraints etc. and load Roles\n",
    "\n",
    "loading inverses of the role tables to provide role descriptions in object creation,  for instance like in: \"ref_role=cpRole[\"Policy Holder\"]"
   ]
  },
  {
   "cell_type": "code",
   "execution_count": null,
   "metadata": {},
   "outputs": [],
   "source": [
    "LifeInsuranceDataModel.load_model()\n",
    "\n",
    "cpRole = Dict{String,Int64}()\n",
    "map(find(LifeInsuranceDataModel.ContractPartnerRole)) do entry\n",
    "    cpRole[entry.value] = entry.id.value\n",
    "end\n",
    "tiprRole = Dict{String,Int64}()\n",
    "map(find(LifeInsuranceDataModel.TariffItemPartnerRole)) do entry\n",
    "    tiprRole[entry.value] = entry.id.value\n",
    "end\n",
    "titrRole = Dict{String,Int64}()\n",
    "map(find(LifeInsuranceDataModel.TariffItemRole)) do entry\n",
    "    titrRole[entry.value] = entry.id.value\n",
    "end\n",
    "\n",
    "ppRole = Dict{String,Int64}()\n",
    "map(find(LifeInsuranceDataModel.ProductPartRole)) do entry\n",
    "    ppRole[entry.value] = entry.id.value\n",
    "end\n"
   ]
  },
  {
   "cell_type": "markdown",
   "metadata": {},
   "source": [
    "Or just connect to an existing model"
   ]
  },
  {
   "cell_type": "code",
   "execution_count": null,
   "metadata": {},
   "outputs": [],
   "source": [
    "LifeInsuranceDataModel.connect()"
   ]
  },
  {
   "cell_type": "markdown",
   "metadata": {},
   "source": [
    "Create a Partner"
   ]
  },
  {
   "cell_type": "code",
   "execution_count": null,
   "metadata": {},
   "outputs": [],
   "source": [
    "p = LifeInsuranceDataModel.Partner()\n",
    "pr = LifeInsuranceDataModel.PartnerRevision(description=\"Partner 1\")\n",
    "w = Workflow(\n",
    "    tsw_validfrom=ZonedDateTime(2014, 5, 30, 21, 0, 1, 1, tz\"Africa/Porto-Novo\"),\n",
    ")\n",
    "create_entity!(w)\n",
    "create_component!(p, pr, w)\n",
    "commit_workflow!(w)\n",
    "\n",
    "Partner1 = p.id.value"
   ]
  },
  {
   "cell_type": "markdown",
   "metadata": {},
   "source": [
    "Create tariffs"
   ]
  },
  {
   "cell_type": "code",
   "execution_count": null,
   "metadata": {},
   "outputs": [],
   "source": [
    "# create Tariffs\n",
    "function create_tariff(dsc)\n",
    "    t = LifeInsuranceDataModel.Tariff()\n",
    "    tr = LifeInsuranceDataModel.TariffRevision(description=dsc)\n",
    "    w = Workflow(\n",
    "        tsw_validfrom=ZonedDateTime(2014, 5, 30, 21, 0, 1, 1, tz\"Africa/Porto-Novo\"),\n",
    "    )\n",
    "    create_entity!(w)\n",
    "    create_component!(t, tr, w)\n",
    "    commit_workflow!(w)\n",
    "    t.id.value\n",
    "end\n",
    "\n",
    "\n",
    "LifeRiskTariff=create_tariff(\"Life Risk Insurance\")\n",
    "TerminalIllnessTariff=create_tariff(\"Terminal Illness\")\n",
    "OccupationalDisabilityTariff=create_tariff(\"Occupational Disability\")\n",
    "ProfitParticipationTariff=create_tariff(\"Profit participation\")\n",
    "\n",
    "find(TariffRevision)"
   ]
  },
  {
   "cell_type": "code",
   "execution_count": null,
   "metadata": {},
   "outputs": [],
   "source": [
    "find(Tariff,SQLWhereExpression(\"id=?\",ProfitParticipationTariff))\n",
    "find(Tariff, SQLWhereExpression(\"id=?\", TerminalIllnessTariff))"
   ]
  },
  {
   "cell_type": "markdown",
   "metadata": {},
   "source": [
    "Create Product"
   ]
  },
  {
   "cell_type": "code",
   "execution_count": null,
   "metadata": {},
   "outputs": [],
   "source": [
    "p = Product()\n",
    "pr = ProductRevision(description=\"Life Risk\")\n",
    "\n",
    "pp = ProductPart()\n",
    "ppr = ProductPartRevision(ref_tariff=LifeRiskTariff, ref_role=ppRole[\"Main Coverage - Life\"], description=\"Main Coverage - Life\")\n",
    "\n",
    "pp2 = ProductPart()\n",
    "ppr2 = ProductPartRevision(ref_tariff=ProfitParticipationTariff, ref_role=ppRole[\"Profit participation\"], description=\"Profit participation Lif Risk\")\n",
    "\n",
    "w0 = Workflow(\n",
    "    tsw_validfrom=ZonedDateTime(2014, 5, 30, 21, 0, 1, 1, tz\"Africa/Porto-Novo\"),\n",
    ")\n",
    "create_entity!(w0)\n",
    "create_component!(p, pr, w0)\n",
    "create_subcomponent!(p, pp, ppr, w0)\n",
    "create_subcomponent!(p, pp2, ppr2, w0)\n",
    "commit_workflow!(w0)\n",
    "\n",
    "LifeRiskProduct = p.id.value\n",
    "println(LifeRiskProduct)\n",
    "\n",
    "p = Product()\n",
    "pr = ProductRevision(description=\"Life Risk - Terminal Illness\")\n",
    "\n",
    "pp = ProductPart()\n",
    "ppr = ProductPartRevision(ref_tariff=LifeRiskTariff, ref_role=ppRole[\"Main Coverage - Life\"], description=\"Main Coverage - Life\")\n",
    "\n",
    "pp2 = ProductPart()\n",
    "ppr2 = ProductPartRevision(ref_tariff=ProfitParticipationTariff, ref_role=ppRole[\"Profit participation\"], description=\"Profit participation Life Risk\")\n",
    "\n",
    "pp3 = ProductPart()\n",
    "ppr3 = ProductPartRevision(ref_tariff=TerminalIllnessTariff, ref_role=ppRole[\"Supplementary Coverage - Terminal Illness\"], description=\"additional cover Terminal Illness\")\n",
    "\n",
    "pp4 = ProductPart()\n",
    "ppr4 = ProductPartRevision(ref_tariff=ProfitParticipationTariff, ref_role=ppRole[\"Profit participation\"], description=\"Profit participation Terminal Illness\")\n",
    "\n",
    "pp5 = ProductPart()\n",
    "ppr5 = ProductPartRevision(ref_tariff=OccupationalDisabilityTariff, ref_role=ppRole[\"Supplementary Coverage - Terminal Illness\"], description=\"additional cover Occupational Disablity\")\n",
    "\n",
    "pp6 = ProductPart()\n",
    "ppr6 = ProductPartRevision(ref_tariff=ProfitParticipationTariff, ref_role=ppRole[\"Profit participation\"], description=\"Profit participation Occ.Disablity\")\n",
    "\n",
    "\n",
    "\n",
    "w0 = Workflow(\n",
    "    tsw_validfrom=ZonedDateTime(2014, 5, 30, 21, 0, 1, 1, tz\"Africa/Porto-Novo\"),\n",
    ")\n",
    "create_entity!(w0)\n",
    "create_component!(p, pr, w0)\n",
    "create_subcomponent!(p, pp, ppr, w0)\n",
    "create_subcomponent!(p, pp2, ppr2, w0)\n",
    "create_subcomponent!(p, pp3, ppr3, w0)\n",
    "create_subcomponent!(p, pp4, ppr4, w0)\n",
    "create_subcomponent!(p, pp5, ppr5, w0)\n",
    "create_subcomponent!(p, pp6, ppr6, w0)\n",
    "commit_workflow!(w0)\n",
    "\n",
    "LifeRiskTIODProduct = p.id.value\n",
    "println(LifeRiskTIODProduct)"
   ]
  },
  {
   "cell_type": "code",
   "execution_count": null,
   "metadata": {},
   "outputs": [],
   "source": [
    "create contract"
   ]
  },
  {
   "cell_type": "code",
   "execution_count": 30,
   "metadata": {},
   "outputs": [
    {
     "name": "stderr",
     "output_type": "stream",
     "text": [
      "┌ Info: BEGIN\n",
      "└ @ SearchLightPostgreSQL /home/mf/.julia/packages/SearchLightPostgreSQL/TgpHy/src/SearchLightPostgreSQL.jl:134\n",
      "┌ Info: INSERT INTO histories ( \"dummy\" ) VALUES ( 0 ) RETURNING id\n",
      "└ @ SearchLightPostgreSQL /home/mf/.julia/packages/SearchLightPostgreSQL/TgpHy/src/SearchLightPostgreSQL.jl:134\n",
      "┌ Info: SELECT \"histories\".\"id\" AS \"histories_id\", \"histories\".\"dummy\" AS \"histories_dummy\" FROM \"histories\" WHERE \"id\" = 30 ORDER BY histories.id ASC\n",
      "└ @ SearchLightPostgreSQL /home/mf/.julia/packages/SearchLightPostgreSQL/TgpHy/src/SearchLightPostgreSQL.jl:134\n",
      "┌ Info: INSERT INTO versions ( \"ref_history\" ) VALUES ( E'30' ) RETURNING id\n",
      "└ @ SearchLightPostgreSQL /home/mf/.julia/packages/SearchLightPostgreSQL/TgpHy/src/SearchLightPostgreSQL.jl:134\n",
      "┌ Info: SELECT \"versions\".\"id\" AS \"versions_id\", \"versions\".\"ref_history\" AS \"versions_ref_history\" FROM \"versions\" WHERE \"id\" = 30 ORDER BY versions.id ASC\n",
      "└ @ SearchLightPostgreSQL /home/mf/.julia/packages/SearchLightPostgreSQL/TgpHy/src/SearchLightPostgreSQL.jl:134\n",
      "┌ Info: INSERT INTO workflows ( \"ref_history\", \"ref_version\", \"tsdb_validfrom\", \"tsw_validfrom\", \"is_committed\" ) VALUES ( E'30', E'30', E'2038-01-19T03:14:06.999+00:00', E'2014-05-30T21:00:01.001+01:00', 0 ) RETURNING id\n",
      "└ @ SearchLightPostgreSQL /home/mf/.julia/packages/SearchLightPostgreSQL/TgpHy/src/SearchLightPostgreSQL.jl:134\n",
      "┌ Info: SELECT \"workflows\".\"id\" AS \"workflows_id\", \"workflows\".\"ref_history\" AS \"workflows_ref_history\", \"workflows\".\"ref_version\" AS \"workflows_ref_version\", \"workflows\".\"tsdb_validfrom\" AS \"workflows_tsdb_validfrom\", \"workflows\".\"tsw_validfrom\" AS \"workflows_tsw_validfrom\", \"workflows\".\"is_committed\" AS \"workflows_is_committed\" FROM \"workflows\" WHERE \"id\" = 30 ORDER BY workflows.id ASC\n",
      "└ @ SearchLightPostgreSQL /home/mf/.julia/packages/SearchLightPostgreSQL/TgpHy/src/SearchLightPostgreSQL.jl:134\n",
      "┌ Info: INSERT INTO validityintervals ( \"ref_history\", \"ref_version\", \"tsdb_validfrom\", \"tsworld_validfrom\", \"tsdb_invalidfrom\", \"tsworld_invalidfrom\", \"is_committed\" ) VALUES ( E'30', E'30', E'2022-07-11T08:15:32.256+01:00', E'2014-05-30T20:00:01.001+00:00', E'2038-01-19T03:14:06.999+00:00', E'2038-01-19T03:14:06.999+00:00', 0 ) RETURNING id\n",
      "└ @ SearchLightPostgreSQL /home/mf/.julia/packages/SearchLightPostgreSQL/TgpHy/src/SearchLightPostgreSQL.jl:134\n",
      "NOTICE:  NEW: (30,30,30,\"2014-05-30 20:00:01.001+00\",\"2038-01-19 03:14:06.999+00\",\"2022-07-11 07:15:32.256+00\",\"2038-01-19 03:14:06.999+00\",,,0)\n",
      "┌ Info: SELECT \"validityintervals\".\"id\" AS \"validityintervals_id\", \"validityintervals\".\"ref_history\" AS \"validityintervals_ref_history\", \"validityintervals\".\"ref_version\" AS \"validityintervals_ref_version\", \"validityintervals\".\"tsdb_validfrom\" AS \"validityintervals_tsdb_validfrom\", \"validityintervals\".\"tsworld_validfrom\" AS \"validityintervals_tsworld_validfrom\", \"validityintervals\".\"tsdb_invalidfrom\" AS \"validityintervals_tsdb_invalidfrom\", \"validityintervals\".\"tsworld_invalidfrom\" AS \"validityintervals_tsworld_invalidfrom\", \"validityintervals\".\"is_committed\" AS \"validityintervals_is_committed\" FROM \"validityintervals\" WHERE \"id\" = 30 ORDER BY validityintervals.id ASC\n",
      "└ @ SearchLightPostgreSQL /home/mf/.julia/packages/SearchLightPostgreSQL/TgpHy/src/SearchLightPostgreSQL.jl:134\n",
      "┌ Info: COMMIT\n",
      "└ @ SearchLightPostgreSQL /home/mf/.julia/packages/SearchLightPostgreSQL/TgpHy/src/SearchLightPostgreSQL.jl:134\n",
      "┌ Info: BEGIN\n",
      "└ @ SearchLightPostgreSQL /home/mf/.julia/packages/SearchLightPostgreSQL/TgpHy/src/SearchLightPostgreSQL.jl:134\n",
      "┌ Info: INSERT INTO contracts ( \"ref_history\", \"ref_version\" ) VALUES ( E'30', E'30' ) RETURNING id\n",
      "└ @ SearchLightPostgreSQL /home/mf/.julia/packages/SearchLightPostgreSQL/TgpHy/src/SearchLightPostgreSQL.jl:134\n",
      "┌ Info: SELECT \"contracts\".\"id\" AS \"contracts_id\", \"contracts\".\"ref_history\" AS \"contracts_ref_history\", \"contracts\".\"ref_version\" AS \"contracts_ref_version\" FROM \"contracts\" WHERE \"id\" = 7 ORDER BY contracts.id ASC\n",
      "└ @ SearchLightPostgreSQL /home/mf/.julia/packages/SearchLightPostgreSQL/TgpHy/src/SearchLightPostgreSQL.jl:134\n",
      "┌ Info: INSERT INTO contractrevisions ( \"ref_component\", \"ref_validfrom\", \"ref_invalidfrom\", \"description\" ) VALUES ( E'7', E'30', E'9223372036854775807', E'contract creation properties' ) RETURNING id\n",
      "└ @ SearchLightPostgreSQL /home/mf/.julia/packages/SearchLightPostgreSQL/TgpHy/src/SearchLightPostgreSQL.jl:134\n",
      "NOTICE:  NEW: (7,7,30,9223372036854775807,,\"contract creation properties\")\n",
      "┌ Info: SELECT \"contractrevisions\".\"id\" AS \"contractrevisions_id\", \"contractrevisions\".\"ref_component\" AS \"contractrevisions_ref_component\", \"contractrevisions\".\"ref_validfrom\" AS \"contractrevisions_ref_validfrom\", \"contractrevisions\".\"ref_invalidfrom\" AS \"contractrevisions_ref_invalidfrom\", \"contractrevisions\".\"description\" AS \"contractrevisions_description\" FROM \"contractrevisions\" WHERE \"id\" = 7 ORDER BY contractrevisions.id ASC\n",
      "└ @ SearchLightPostgreSQL /home/mf/.julia/packages/SearchLightPostgreSQL/TgpHy/src/SearchLightPostgreSQL.jl:134\n",
      "┌ Info: COMMIT\n",
      "└ @ SearchLightPostgreSQL /home/mf/.julia/packages/SearchLightPostgreSQL/TgpHy/src/SearchLightPostgreSQL.jl:134\n",
      "┌ Info: BEGIN\n",
      "└ @ SearchLightPostgreSQL /home/mf/.julia/packages/SearchLightPostgreSQL/TgpHy/src/SearchLightPostgreSQL.jl:134\n",
      "┌ Info: INSERT INTO contractpartnerrefs ( \"ref_history\", \"ref_version\", \"ref_super\" ) VALUES ( E'30', E'9223372036854775807', E'7' ) RETURNING id\n",
      "└ @ SearchLightPostgreSQL /home/mf/.julia/packages/SearchLightPostgreSQL/TgpHy/src/SearchLightPostgreSQL.jl:134\n",
      "┌ Info: SELECT \"contractpartnerrefs\".\"id\" AS \"contractpartnerrefs_id\", \"contractpartnerrefs\".\"ref_history\" AS \"contractpartnerrefs_ref_history\", \"contractpartnerrefs\".\"ref_version\" AS \"contractpartnerrefs_ref_version\", \"contractpartnerrefs\".\"ref_super\" AS \"contractpartnerrefs_ref_super\" FROM \"contractpartnerrefs\" WHERE \"id\" = 6 ORDER BY contractpartnerrefs.id ASC\n",
      "└ @ SearchLightPostgreSQL /home/mf/.julia/packages/SearchLightPostgreSQL/TgpHy/src/SearchLightPostgreSQL.jl:134\n"
     ]
    },
    {
     "name": "stderr",
     "output_type": "stream",
     "text": [
      "┌ Info: INSERT INTO contractpartnerrefrevisions ( \"ref_component\", \"ref_role\", \"ref_validfrom\", \"ref_invalidfrom\", \"description\", \"ref_partner\" ) VALUES ( E'6', E'1', E'30', E'9223372036854775807', E'policiyholder ref properties', E'1' ) RETURNING id\n",
      "└ @ SearchLightPostgreSQL /home/mf/.julia/packages/SearchLightPostgreSQL/TgpHy/src/SearchLightPostgreSQL.jl:134\n",
      "NOTICE:  NEW: (6,6,1,30,9223372036854775807,,\"policiyholder ref properties\",1)\n",
      "┌ Info: SELECT \"contractpartnerrefrevisions\".\"id\" AS \"contractpartnerrefrevisions_id\", \"contractpartnerrefrevisions\".\"ref_component\" AS \"contractpartnerrefrevisions_ref_component\", \"contractpartnerrefrevisions\".\"ref_role\" AS \"contractpartnerrefrevisions_ref_role\", \"contractpartnerrefrevisions\".\"ref_validfrom\" AS \"contractpartnerrefrevisions_ref_validfrom\", \"contractpartnerrefrevisions\".\"ref_invalidfrom\" AS \"contractpartnerrefrevisions_ref_invalidfrom\", \"contractpartnerrefrevisions\".\"description\" AS \"contractpartnerrefrevisions_description\", \"contractpartnerrefrevisions\".\"ref_partner\" AS \"contractpartnerrefrevisions_ref_partner\" FROM \"contractpartnerrefrevisions\" WHERE \"id\" = 6 ORDER BY contractpartnerrefrevisions.id ASC\n",
      "└ @ SearchLightPostgreSQL /home/mf/.julia/packages/SearchLightPostgreSQL/TgpHy/src/SearchLightPostgreSQL.jl:134\n",
      "┌ Info: COMMIT\n",
      "└ @ SearchLightPostgreSQL /home/mf/.julia/packages/SearchLightPostgreSQL/TgpHy/src/SearchLightPostgreSQL.jl:134\n",
      "┌ Info: BEGIN\n",
      "└ @ SearchLightPostgreSQL /home/mf/.julia/packages/SearchLightPostgreSQL/TgpHy/src/SearchLightPostgreSQL.jl:134\n",
      "┌ Info: INSERT INTO productitems ( \"ref_history\", \"ref_version\", \"ref_super\" ) VALUES ( E'30', E'9223372036854775807', E'7' ) RETURNING id\n",
      "└ @ SearchLightPostgreSQL /home/mf/.julia/packages/SearchLightPostgreSQL/TgpHy/src/SearchLightPostgreSQL.jl:134\n",
      "┌ Info: SELECT \"productitems\".\"id\" AS \"productitems_id\", \"productitems\".\"ref_history\" AS \"productitems_ref_history\", \"productitems\".\"ref_version\" AS \"productitems_ref_version\", \"productitems\".\"ref_super\" AS \"productitems_ref_super\" FROM \"productitems\" WHERE \"id\" = 5 ORDER BY productitems.id ASC\n",
      "└ @ SearchLightPostgreSQL /home/mf/.julia/packages/SearchLightPostgreSQL/TgpHy/src/SearchLightPostgreSQL.jl:134\n",
      "┌ Info: INSERT INTO productitemrevisions ( \"ref_component\", \"position\", \"ref_validfrom\", \"ref_invalidfrom\", \"ref_product\", \"description\" ) VALUES ( E'5', 1, E'30', E'9223372036854775807', E'6', E'from contract creation' ) RETURNING id\n",
      "└ @ SearchLightPostgreSQL /home/mf/.julia/packages/SearchLightPostgreSQL/TgpHy/src/SearchLightPostgreSQL.jl:134\n",
      "NOTICE:  NEW: (5,5,6,1,30,9223372036854775807,,\"from contract creation\")\n",
      "┌ Info: SELECT \"productitemrevisions\".\"id\" AS \"productitemrevisions_id\", \"productitemrevisions\".\"ref_component\" AS \"productitemrevisions_ref_component\", \"productitemrevisions\".\"position\" AS \"productitemrevisions_position\", \"productitemrevisions\".\"ref_validfrom\" AS \"productitemrevisions_ref_validfrom\", \"productitemrevisions\".\"ref_invalidfrom\" AS \"productitemrevisions_ref_invalidfrom\", \"productitemrevisions\".\"ref_product\" AS \"productitemrevisions_ref_product\", \"productitemrevisions\".\"description\" AS \"productitemrevisions_description\" FROM \"productitemrevisions\" WHERE \"id\" = 5 ORDER BY productitemrevisions.id ASC\n",
      "└ @ SearchLightPostgreSQL /home/mf/.julia/packages/SearchLightPostgreSQL/TgpHy/src/SearchLightPostgreSQL.jl:134\n",
      "┌ Info: COMMIT\n",
      "└ @ SearchLightPostgreSQL /home/mf/.julia/packages/SearchLightPostgreSQL/TgpHy/src/SearchLightPostgreSQL.jl:134\n",
      "┌ Info: BEGIN\n",
      "└ @ SearchLightPostgreSQL /home/mf/.julia/packages/SearchLightPostgreSQL/TgpHy/src/SearchLightPostgreSQL.jl:134\n",
      "┌ Info: INSERT INTO tariffitems ( \"ref_history\", \"ref_version\", \"ref_super\" ) VALUES ( E'30', E'9223372036854775807', E'5' ) RETURNING id\n",
      "└ @ SearchLightPostgreSQL /home/mf/.julia/packages/SearchLightPostgreSQL/TgpHy/src/SearchLightPostgreSQL.jl:134\n",
      "┌ Info: SELECT \"tariffitems\".\"id\" AS \"tariffitems_id\", \"tariffitems\".\"ref_history\" AS \"tariffitems_ref_history\", \"tariffitems\".\"ref_version\" AS \"tariffitems_ref_version\", \"tariffitems\".\"ref_super\" AS \"tariffitems_ref_super\" FROM \"tariffitems\" WHERE \"id\" = 3 ORDER BY tariffitems.id ASC\n",
      "└ @ SearchLightPostgreSQL /home/mf/.julia/packages/SearchLightPostgreSQL/TgpHy/src/SearchLightPostgreSQL.jl:134\n",
      "┌ Info: INSERT INTO tariffitemrevisions ( \"ref_component\", \"ref_role\", \"ref_validfrom\", \"ref_invalidfrom\", \"description\", \"ref_tariff\" ) VALUES ( E'3', E'1', E'30', E'9223372036854775807', E'Life Risk tariff parameters', E'13' ) RETURNING id\n",
      "└ @ SearchLightPostgreSQL /home/mf/.julia/packages/SearchLightPostgreSQL/TgpHy/src/SearchLightPostgreSQL.jl:134\n",
      "NOTICE:  NEW: (3,3,1,30,9223372036854775807,,\"Life Risk tariff parameters\",13)\n",
      "┌ Info: SELECT \"tariffitemrevisions\".\"id\" AS \"tariffitemrevisions_id\", \"tariffitemrevisions\".\"ref_component\" AS \"tariffitemrevisions_ref_component\", \"tariffitemrevisions\".\"ref_role\" AS \"tariffitemrevisions_ref_role\", \"tariffitemrevisions\".\"ref_validfrom\" AS \"tariffitemrevisions_ref_validfrom\", \"tariffitemrevisions\".\"ref_invalidfrom\" AS \"tariffitemrevisions_ref_invalidfrom\", \"tariffitemrevisions\".\"description\" AS \"tariffitemrevisions_description\", \"tariffitemrevisions\".\"ref_tariff\" AS \"tariffitemrevisions_ref_tariff\" FROM \"tariffitemrevisions\" WHERE \"id\" = 3 ORDER BY tariffitemrevisions.id ASC\n",
      "└ @ SearchLightPostgreSQL /home/mf/.julia/packages/SearchLightPostgreSQL/TgpHy/src/SearchLightPostgreSQL.jl:134\n",
      "┌ Info: COMMIT\n",
      "└ @ SearchLightPostgreSQL /home/mf/.julia/packages/SearchLightPostgreSQL/TgpHy/src/SearchLightPostgreSQL.jl:134\n",
      "┌ Info: BEGIN\n",
      "└ @ SearchLightPostgreSQL /home/mf/.julia/packages/SearchLightPostgreSQL/TgpHy/src/SearchLightPostgreSQL.jl:134\n"
     ]
    },
    {
     "name": "stderr",
     "output_type": "stream",
     "text": [
      "┌ Info: INSERT INTO tariffitempartnerrefs ( \"ref_history\", \"ref_version\", \"ref_super\" ) VALUES ( E'30', E'9223372036854775807', E'3' ) RETURNING id\n",
      "└ @ SearchLightPostgreSQL /home/mf/.julia/packages/SearchLightPostgreSQL/TgpHy/src/SearchLightPostgreSQL.jl:134\n",
      "┌ Info: SELECT \"tariffitempartnerrefs\".\"id\" AS \"tariffitempartnerrefs_id\", \"tariffitempartnerrefs\".\"ref_history\" AS \"tariffitempartnerrefs_ref_history\", \"tariffitempartnerrefs\".\"ref_version\" AS \"tariffitempartnerrefs_ref_version\", \"tariffitempartnerrefs\".\"ref_super\" AS \"tariffitempartnerrefs_ref_super\" FROM \"tariffitempartnerrefs\" WHERE \"id\" = 1 ORDER BY tariffitempartnerrefs.id ASC\n",
      "└ @ SearchLightPostgreSQL /home/mf/.julia/packages/SearchLightPostgreSQL/TgpHy/src/SearchLightPostgreSQL.jl:134\n"
     ]
    },
    {
     "name": "stderr",
     "output_type": "stream",
     "text": [
      "┌ Info: INSERT INTO tariffitempartnerrefrevisions ( \"ref_component\", \"ref_role\", \"ref_validfrom\", \"ref_invalidfrom\", \"description\", \"ref_partner\" ) VALUES ( E'1', E'1', E'30', E'9223372036854775807', E'partner 1 ref properties', E'1' ) RETURNING id\n",
      "└ @ SearchLightPostgreSQL /home/mf/.julia/packages/SearchLightPostgreSQL/TgpHy/src/SearchLightPostgreSQL.jl:134\n",
      "NOTICE:  NEW: (1,1,1,30,9223372036854775807,,\"partner 1 ref properties\",1)\n",
      "┌ Info: SELECT \"tariffitempartnerrefrevisions\".\"id\" AS \"tariffitempartnerrefrevisions_id\", \"tariffitempartnerrefrevisions\".\"ref_component\" AS \"tariffitempartnerrefrevisions_ref_component\", \"tariffitempartnerrefrevisions\".\"ref_role\" AS \"tariffitempartnerrefrevisions_ref_role\", \"tariffitempartnerrefrevisions\".\"ref_validfrom\" AS \"tariffitempartnerrefrevisions_ref_validfrom\", \"tariffitempartnerrefrevisions\".\"ref_invalidfrom\" AS \"tariffitempartnerrefrevisions_ref_invalidfrom\", \"tariffitempartnerrefrevisions\".\"description\" AS \"tariffitempartnerrefrevisions_description\", \"tariffitempartnerrefrevisions\".\"ref_partner\" AS \"tariffitempartnerrefrevisions_ref_partner\" FROM \"tariffitempartnerrefrevisions\" WHERE \"id\" = 1 ORDER BY tariffitempartnerrefrevisions.id ASC\n",
      "└ @ SearchLightPostgreSQL /home/mf/.julia/packages/SearchLightPostgreSQL/TgpHy/src/SearchLightPostgreSQL.jl:134\n"
     ]
    },
    {
     "name": "stderr",
     "output_type": "stream",
     "text": [
      "┌ Info: COMMIT\n",
      "└ @ SearchLightPostgreSQL /home/mf/.julia/packages/SearchLightPostgreSQL/TgpHy/src/SearchLightPostgreSQL.jl:134\n",
      "┌ Info: BEGIN\n",
      "└ @ SearchLightPostgreSQL /home/mf/.julia/packages/SearchLightPostgreSQL/TgpHy/src/SearchLightPostgreSQL.jl:134\n",
      "┌ Info: INSERT INTO tariffitems ( \"ref_history\", \"ref_version\", \"ref_super\" ) VALUES ( E'30', E'9223372036854775807', E'5' ) RETURNING id\n",
      "└ @ SearchLightPostgreSQL /home/mf/.julia/packages/SearchLightPostgreSQL/TgpHy/src/SearchLightPostgreSQL.jl:134\n",
      "┌ Info: SELECT \"tariffitems\".\"id\" AS \"tariffitems_id\", \"tariffitems\".\"ref_history\" AS \"tariffitems_ref_history\", \"tariffitems\".\"ref_version\" AS \"tariffitems_ref_version\", \"tariffitems\".\"ref_super\" AS \"tariffitems_ref_super\" FROM \"tariffitems\" WHERE \"id\" = 4 ORDER BY tariffitems.id ASC\n",
      "└ @ SearchLightPostgreSQL /home/mf/.julia/packages/SearchLightPostgreSQL/TgpHy/src/SearchLightPostgreSQL.jl:134\n",
      "┌ Info: INSERT INTO tariffitemrevisions ( \"ref_component\", \"ref_role\", \"ref_validfrom\", \"ref_invalidfrom\", \"description\", \"ref_tariff\" ) VALUES ( E'4', E'4', E'30', E'9223372036854775807', E'Profit participation tariff parameters', E'16' ) RETURNING id\n",
      "└ @ SearchLightPostgreSQL /home/mf/.julia/packages/SearchLightPostgreSQL/TgpHy/src/SearchLightPostgreSQL.jl:134\n",
      "NOTICE:  NEW: (4,4,4,30,9223372036854775807,,\"Profit participation tariff parameters\",16)\n",
      "┌ Info: SELECT \"tariffitemrevisions\".\"id\" AS \"tariffitemrevisions_id\", \"tariffitemrevisions\".\"ref_component\" AS \"tariffitemrevisions_ref_component\", \"tariffitemrevisions\".\"ref_role\" AS \"tariffitemrevisions_ref_role\", \"tariffitemrevisions\".\"ref_validfrom\" AS \"tariffitemrevisions_ref_validfrom\", \"tariffitemrevisions\".\"ref_invalidfrom\" AS \"tariffitemrevisions_ref_invalidfrom\", \"tariffitemrevisions\".\"description\" AS \"tariffitemrevisions_description\", \"tariffitemrevisions\".\"ref_tariff\" AS \"tariffitemrevisions_ref_tariff\" FROM \"tariffitemrevisions\" WHERE \"id\" = 4 ORDER BY tariffitemrevisions.id ASC\n",
      "└ @ SearchLightPostgreSQL /home/mf/.julia/packages/SearchLightPostgreSQL/TgpHy/src/SearchLightPostgreSQL.jl:134\n",
      "┌ Info: COMMIT\n",
      "└ @ SearchLightPostgreSQL /home/mf/.julia/packages/SearchLightPostgreSQL/TgpHy/src/SearchLightPostgreSQL.jl:134\n",
      "┌ Info: BEGIN\n",
      "└ @ SearchLightPostgreSQL /home/mf/.julia/packages/SearchLightPostgreSQL/TgpHy/src/SearchLightPostgreSQL.jl:134\n",
      "┌ Info: INSERT INTO tariffitempartnerrefs ( \"ref_history\", \"ref_version\", \"ref_super\" ) VALUES ( E'30', E'9223372036854775807', E'4' ) RETURNING id\n",
      "└ @ SearchLightPostgreSQL /home/mf/.julia/packages/SearchLightPostgreSQL/TgpHy/src/SearchLightPostgreSQL.jl:134\n",
      "┌ Info: SELECT \"tariffitempartnerrefs\".\"id\" AS \"tariffitempartnerrefs_id\", \"tariffitempartnerrefs\".\"ref_history\" AS \"tariffitempartnerrefs_ref_history\", \"tariffitempartnerrefs\".\"ref_version\" AS \"tariffitempartnerrefs_ref_version\", \"tariffitempartnerrefs\".\"ref_super\" AS \"tariffitempartnerrefs_ref_super\" FROM \"tariffitempartnerrefs\" WHERE \"id\" = 2 ORDER BY tariffitempartnerrefs.id ASC\n",
      "└ @ SearchLightPostgreSQL /home/mf/.julia/packages/SearchLightPostgreSQL/TgpHy/src/SearchLightPostgreSQL.jl:134\n",
      "┌ Info: INSERT INTO tariffitempartnerrefrevisions ( \"ref_component\", \"ref_role\", \"ref_validfrom\", \"ref_invalidfrom\", \"description\", \"ref_partner\" ) VALUES ( E'2', E'1', E'30', E'9223372036854775807', E'partner 1 ref properties', E'1' ) RETURNING id\n",
      "└ @ SearchLightPostgreSQL /home/mf/.julia/packages/SearchLightPostgreSQL/TgpHy/src/SearchLightPostgreSQL.jl:134\n",
      "NOTICE:  NEW: (2,2,1,30,9223372036854775807,,\"partner 1 ref properties\",1)\n",
      "┌ Info: SELECT \"tariffitempartnerrefrevisions\".\"id\" AS \"tariffitempartnerrefrevisions_id\", \"tariffitempartnerrefrevisions\".\"ref_component\" AS \"tariffitempartnerrefrevisions_ref_component\", \"tariffitempartnerrefrevisions\".\"ref_role\" AS \"tariffitempartnerrefrevisions_ref_role\", \"tariffitempartnerrefrevisions\".\"ref_validfrom\" AS \"tariffitempartnerrefrevisions_ref_validfrom\", \"tariffitempartnerrefrevisions\".\"ref_invalidfrom\" AS \"tariffitempartnerrefrevisions_ref_invalidfrom\", \"tariffitempartnerrefrevisions\".\"description\" AS \"tariffitempartnerrefrevisions_description\", \"tariffitempartnerrefrevisions\".\"ref_partner\" AS \"tariffitempartnerrefrevisions_ref_partner\" FROM \"tariffitempartnerrefrevisions\" WHERE \"id\" = 2 ORDER BY tariffitempartnerrefrevisions.id ASC\n",
      "└ @ SearchLightPostgreSQL /home/mf/.julia/packages/SearchLightPostgreSQL/TgpHy/src/SearchLightPostgreSQL.jl:134\n",
      "┌ Info: COMMIT\n",
      "└ @ SearchLightPostgreSQL /home/mf/.julia/packages/SearchLightPostgreSQL/TgpHy/src/SearchLightPostgreSQL.jl:134\n",
      "┌ Info: BEGIN\n",
      "└ @ SearchLightPostgreSQL /home/mf/.julia/packages/SearchLightPostgreSQL/TgpHy/src/SearchLightPostgreSQL.jl:134\n",
      "┌ Info: SELECT \"validityintervals\".\"id\" AS \"validityintervals_id\", \"validityintervals\".\"ref_history\" AS \"validityintervals_ref_history\", \"validityintervals\".\"ref_version\" AS \"validityintervals_ref_version\", \"validityintervals\".\"tsdb_validfrom\" AS \"validityintervals_tsdb_validfrom\", \"validityintervals\".\"tsworld_validfrom\" AS \"validityintervals_tsworld_validfrom\", \"validityintervals\".\"tsdb_invalidfrom\" AS \"validityintervals_tsdb_invalidfrom\", \"validityintervals\".\"tsworld_invalidfrom\" AS \"validityintervals_tsworld_invalidfrom\", \"validityintervals\".\"is_committed\" AS \"validityintervals_is_committed\" FROM \"validityintervals\" WHERE ref_version = E'30' AND is_committed = 0 ORDER BY validityintervals.id ASC\n",
      "└ @ SearchLightPostgreSQL /home/mf/.julia/packages/SearchLightPostgreSQL/TgpHy/src/SearchLightPostgreSQL.jl:134\n",
      "┌ Info: SELECT \"validityintervals\".\"id\" AS \"validityintervals_id\", \"validityintervals\".\"ref_history\" AS \"validityintervals_ref_history\", \"validityintervals\".\"ref_version\" AS \"validityintervals_ref_version\", \"validityintervals\".\"tsdb_validfrom\" AS \"validityintervals_tsdb_validfrom\", \"validityintervals\".\"tsworld_validfrom\" AS \"validityintervals_tsworld_validfrom\", \"validityintervals\".\"tsdb_invalidfrom\" AS \"validityintervals_tsdb_invalidfrom\", \"validityintervals\".\"tsworld_invalidfrom\" AS \"validityintervals_tsworld_invalidfrom\", \"validityintervals\".\"is_committed\" AS \"validityintervals_is_committed\" FROM \"validityintervals\" WHERE ref_history = E'30' AND tsrdb @> TIMESTAMPTZ E'2038-01-18T03:14:06.999+00:00' AND tsrworld <@ tstzrange(E'2014-05-31T20:00:01.001+00:00',E'2038-01-19T03:14:06.999+00:00') AND is_committed=1 ORDER BY validityintervals.id ASC\n",
      "└ @ SearchLightPostgreSQL /home/mf/.julia/packages/SearchLightPostgreSQL/TgpHy/src/SearchLightPostgreSQL.jl:134\n",
      "┌ Info: SELECT \"validityintervals\".\"id\" AS \"validityintervals_id\", \"validityintervals\".\"ref_history\" AS \"validityintervals_ref_history\", \"validityintervals\".\"ref_version\" AS \"validityintervals_ref_version\", \"validityintervals\".\"tsdb_validfrom\" AS \"validityintervals_tsdb_validfrom\", \"validityintervals\".\"tsworld_validfrom\" AS \"validityintervals_tsworld_validfrom\", \"validityintervals\".\"tsdb_invalidfrom\" AS \"validityintervals_tsdb_invalidfrom\", \"validityintervals\".\"tsworld_invalidfrom\" AS \"validityintervals_tsworld_invalidfrom\", \"validityintervals\".\"is_committed\" AS \"validityintervals_is_committed\" FROM \"validityintervals\" WHERE ref_history = E'30' AND tsrdb @> TIMESTAMPTZ E'2038-01-18T03:14:06.999+00:00' AND tsrworld && tstzrange(E'2014-05-31T20:00:01.001+00:00',E'2038-01-19T03:14:06.999+00:00') AND is_committed=1 ORDER BY validityintervals.id ASC\n",
      "└ @ SearchLightPostgreSQL /home/mf/.julia/packages/SearchLightPostgreSQL/TgpHy/src/SearchLightPostgreSQL.jl:134\n",
      "┌ Info: UPDATE validityintervals SET  \"id\" = E'30', \"ref_history\" = E'30', \"ref_version\" = E'30', \"tsdb_validfrom\" = E'2022-07-11T08:15:34.834+01:00', \"tsworld_validfrom\" = E'2014-05-30T20:00:01.001+00:00', \"tsdb_invalidfrom\" = E'2038-01-19T03:14:06.999+00:00', \"tsworld_invalidfrom\" = E'2038-01-19T03:14:06.999+00:00', \"is_committed\" = 1 WHERE validityintervals.id = '30' RETURNING id\n",
      "└ @ SearchLightPostgreSQL /home/mf/.julia/packages/SearchLightPostgreSQL/TgpHy/src/SearchLightPostgreSQL.jl:134\n",
      "NOTICE:  NEW: (30,30,30,\"2014-05-30 20:00:01.001+00\",\"2038-01-19 03:14:06.999+00\",\"2022-07-11 07:15:34.834+00\",\"2038-01-19 03:14:06.999+00\",\"[\"\"2014-05-30 20:00:01.001+00\"\",\"\"2038-01-19 03:14:06.999+00\"\")\",\"[\"\"2022-07-11 07:15:32.256+00\"\",\"\"2038-01-19 03:14:06.999+00\"\")\",1)\n",
      "┌ Info: SELECT \"validityintervals\".\"id\" AS \"validityintervals_id\", \"validityintervals\".\"ref_history\" AS \"validityintervals_ref_history\", \"validityintervals\".\"ref_version\" AS \"validityintervals_ref_version\", \"validityintervals\".\"tsdb_validfrom\" AS \"validityintervals_tsdb_validfrom\", \"validityintervals\".\"tsworld_validfrom\" AS \"validityintervals_tsworld_validfrom\", \"validityintervals\".\"tsdb_invalidfrom\" AS \"validityintervals_tsdb_invalidfrom\", \"validityintervals\".\"tsworld_invalidfrom\" AS \"validityintervals_tsworld_invalidfrom\", \"validityintervals\".\"is_committed\" AS \"validityintervals_is_committed\" FROM \"validityintervals\" WHERE \"id\" = 30 ORDER BY validityintervals.id ASC\n",
      "└ @ SearchLightPostgreSQL /home/mf/.julia/packages/SearchLightPostgreSQL/TgpHy/src/SearchLightPostgreSQL.jl:134\n",
      "┌ Info: UPDATE workflows SET  \"id\" = E'30', \"ref_history\" = E'30', \"ref_version\" = E'30', \"tsdb_validfrom\" = E'2022-07-11T08:15:34.834+01:00', \"tsw_validfrom\" = E'2014-05-30T20:00:01.001+00:00', \"is_committed\" = 1 WHERE workflows.id = '30' RETURNING id\n",
      "└ @ SearchLightPostgreSQL /home/mf/.julia/packages/SearchLightPostgreSQL/TgpHy/src/SearchLightPostgreSQL.jl:134\n",
      "┌ Info: SELECT \"workflows\".\"id\" AS \"workflows_id\", \"workflows\".\"ref_history\" AS \"workflows_ref_history\", \"workflows\".\"ref_version\" AS \"workflows_ref_version\", \"workflows\".\"tsdb_validfrom\" AS \"workflows_tsdb_validfrom\", \"workflows\".\"tsw_validfrom\" AS \"workflows_tsw_validfrom\", \"workflows\".\"is_committed\" AS \"workflows_is_committed\" FROM \"workflows\" WHERE \"id\" = 30 ORDER BY workflows.id ASC\n",
      "└ @ SearchLightPostgreSQL /home/mf/.julia/packages/SearchLightPostgreSQL/TgpHy/src/SearchLightPostgreSQL.jl:134\n",
      "┌ Info: COMMIT\n",
      "└ @ SearchLightPostgreSQL /home/mf/.julia/packages/SearchLightPostgreSQL/TgpHy/src/SearchLightPostgreSQL.jl:134\n"
     ]
    }
   ],
   "source": [
    "    w1 = Workflow(\n",
    "        tsw_validfrom=ZonedDateTime(2014, 5, 30, 21, 0, 1, 1, tz\"Africa/Porto-Novo\"),\n",
    "    )\n",
    "\n",
    "    create_entity!(w1)\n",
    "    c = Contract()\n",
    "    cr = ContractRevision(description=\"contract creation properties\")\n",
    "    create_component!(c, cr, w1)\n",
    "\n",
    "    cpr = ContractPartnerRef(ref_super=c.id)\n",
    "    cprr = ContractPartnerRefRevision(ref_partner=Partner1, ref_role=cpRole[\"Policy Holder\"], description=\"policiyholder ref properties\")\n",
    "    create_subcomponent!(c, cpr, cprr, w1)\n",
    "    # pi 1\n",
    "    cpi = ProductItem(ref_super=c.id)\n",
    "    cpir = ProductItemRevision(position=1, ref_product=LifeRiskTIODProduct, description=\"from contract creation\")\n",
    "    create_subcomponent!(c, cpi, cpir, w1)\n",
    "    # pi 1 ti 1 \n",
    "    pit = TariffItem(ref_super=cpi.id)\n",
    "    pitr = TariffItemRevision(ref_tariff=LifeRiskTariff, ref_role=titrRole[\"Main Coverage - Life\"], description=\"Life Risk tariff parameters\")\n",
    "    create_subcomponent!(cpi, pit, pitr, w1)\n",
    "    # pi 1 ti 1 p 1\n",
    "    pitp = TariffItemPartnerRef(ref_super=pit.id)\n",
    "    pitpr = TariffItemPartnerRefRevision(ref_partner=Partner1, ref_role=tiprRole[\"Insured Person\"], description=\"partner 1 ref properties\")\n",
    "    create_subcomponent!(pit, pitp, pitpr, w1)\n",
    "\n",
    "    # pi 1 ti 2 \n",
    "    pit = TariffItem(ref_super=cpi.id)\n",
    "    pitr = TariffItemRevision(ref_tariff=ProfitParticipationTariff, ref_role=titrRole[\"Profit participation\"], description=\"Profit participation tariff parameters\")\n",
    "    create_subcomponent!(cpi, pit, pitr, w1)\n",
    "    # pi 1 ti 2 p 1\n",
    "    pitp = TariffItemPartnerRef(ref_super=pit.id)\n",
    "    pitpr = TariffItemPartnerRefRevision(ref_partner=Partner1, ref_role=tiprRole[\"Insured Person\"], description=\"partner 1 ref properties\")\n",
    "    create_subcomponent!(pit, pitp, pitpr, w1)\n",
    "\n",
    "    commit_workflow!(w1)"
   ]
  }
 ],
 "metadata": {
  "kernelspec": {
   "display_name": "Julia 1.6.6",
   "language": "julia",
   "name": "julia-1.6"
  },
  "language_info": {
   "file_extension": ".jl",
   "mimetype": "application/julia",
   "name": "julia",
   "version": "1.6.6"
  },
  "orig_nbformat": 4
 },
 "nbformat": 4,
 "nbformat_minor": 2
}
