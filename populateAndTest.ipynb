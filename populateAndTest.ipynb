{
 "cells": [
  {
   "cell_type": "markdown",
   "metadata": {},
   "source": [
    "Load packages"
   ]
  },
  {
   "cell_type": "code",
   "execution_count": null,
   "metadata": {},
   "outputs": [],
   "source": [
    "#loading packages\n",
    "push!(LOAD_PATH, \"src\");\n",
    "import Base: @kwdef\n",
    "using Test\n",
    "using LifeInsuranceDataModel\n",
    "\n",
    "using BitemporalPostgres\n",
    "using SearchLight\n",
    "using SearchLightPostgreSQL\n",
    "using TimeZones\n",
    "using ToStruct\n",
    "using JSON"
   ]
  },
  {
   "cell_type": "code",
   "execution_count": null,
   "metadata": {},
   "outputs": [],
   "source": [
    "purging the data model entirely - empty the schema"
   ]
  },
  {
   "cell_type": "code",
   "execution_count": null,
   "metadata": {},
   "outputs": [],
   "source": [
    "if (haskey(ENV, \"GENIE_ENV\") && ENV[\"GENIE_ENV\"] == \"dev\")\n",
    "    if (haskey(ENV, \"GITPOD_REPO_ROOT\"))\n",
    "        run(```psql -f sqlsnippets/droptables.sql```)\n",
    "    else\n",
    "        println(\"execute this in Your REPL\")run(```sudo -u postgres psql -f sqlsnippets/droptables.sql```)\n",
    "        println(\"\"\"\"\"\")\n",
    "    end\n",
    "end"
   ]
  },
  {
   "cell_type": "markdown",
   "metadata": {},
   "source": [
    "Loading the data model- Create tables, constraints etc. and load Roles\n",
    "\n",
    "loading inverses of the role tables to provide role descriptions in object creation,  for instance like in: \"ref_role=cpRole[\"Policy Holder\"]"
   ]
  },
  {
   "cell_type": "code",
   "execution_count": null,
   "metadata": {},
   "outputs": [],
   "source": [
    "LifeInsuranceDataModel.load_model()\n",
    "\n",
    "cpRole = Dict{String,Int64}()\n",
    "map(find(LifeInsuranceDataModel.ContractPartnerRole)) do entry\n",
    "    cpRole[entry.value] = entry.id.value\n",
    "end\n",
    "tiprRole = Dict{String,Int64}()\n",
    "map(find(LifeInsuranceDataModel.TariffItemPartnerRole)) do entry\n",
    "    tiprRole[entry.value] = entry.id.value\n",
    "end\n",
    "titrRole = Dict{String,Int64}()\n",
    "map(find(LifeInsuranceDataModel.TariffItemRole)) do entry\n",
    "    titrRole[entry.value] = entry.id.value\n",
    "end\n",
    "\n",
    "ppRole = Dict{String,Int64}()\n",
    "map(find(LifeInsuranceDataModel.ProductPartRole)) do entry\n",
    "    ppRole[entry.value] = entry.id.value\n",
    "end\n"
   ]
  },
  {
   "cell_type": "markdown",
   "metadata": {},
   "source": [
    "Or just connect to an existing model"
   ]
  },
  {
   "cell_type": "code",
   "execution_count": null,
   "metadata": {},
   "outputs": [],
   "source": [
    "LifeInsuranceDataModel.connect()"
   ]
  },
  {
   "cell_type": "markdown",
   "metadata": {},
   "source": [
    "Create a Partner"
   ]
  },
  {
   "cell_type": "code",
   "execution_count": null,
   "metadata": {},
   "outputs": [],
   "source": [
    "# create Partner\n",
    "p = LifeInsuranceDataModel.Partner()\n",
    "pr = LifeInsuranceDataModel.PartnerRevision(description=\"Partner 1\")\n",
    "w = Workflow(\n",
    "    tsw_validfrom=ZonedDateTime(2014, 5, 30, 21, 0, 1, 1, tz\"Africa/Porto-Novo\"),\n",
    ")\n",
    "create_entity!(w)\n",
    "create_component!(p, pr, w)\n",
    "commit_workflow!(w)"
   ]
  },
  {
   "cell_type": "code",
   "execution_count": null,
   "metadata": {},
   "outputs": [],
   "source": [
    "find(Partner)"
   ]
  },
  {
   "cell_type": "markdown",
   "metadata": {},
   "source": [
    "Create tariffs"
   ]
  },
  {
   "cell_type": "code",
   "execution_count": null,
   "metadata": {},
   "outputs": [],
   "source": [
    "# create Tariffs\n",
    "function create_tariff(dsc)\n",
    "    t = LifeInsuranceDataModel.Tariff()\n",
    "    tr = LifeInsuranceDataModel.TariffRevision(description=dsc)\n",
    "    w = Workflow(\n",
    "        tsw_validfrom=ZonedDateTime(2014, 5, 30, 21, 0, 1, 1, tz\"Africa/Porto-Novo\"),\n",
    "    )\n",
    "    create_entity!(w)\n",
    "    create_component!(t, tr, w)\n",
    "    commit_workflow!(w)\n",
    "    t.id\n",
    "end\n",
    "\n",
    "\n",
    "LifeRiskTariff=create_tariff(\"Life Risk Insurance\")\n",
    "TerminalIllnessTariff=create_tariff(\"Terminal Illness\")\n",
    "OccupationalDisability=create_tariff(\"Occupational Disability\")\n",
    "ProfitParticipationTariff=create_tariff(\"Profit participation\")\n",
    "\n",
    "find(TariffRevision)"
   ]
  },
  {
   "cell_type": "code",
   "execution_count": null,
   "metadata": {},
   "outputs": [],
   "source": [
    "find(Tariff,SQLWhereExpression(\"id=?\",ProfitParticipationTariff))"
   ]
  },
  {
   "cell_type": "code",
   "execution_count": null,
   "metadata": {},
   "outputs": [],
   "source": [
    "\n",
    "\n",
    "map(find(Tariff)) do t\n",
    "    SearchLight.delete(t)\n",
    "end\n",
    "\n",
    "find(Tariff)\n",
    "\n"
   ]
  }
 ],
 "metadata": {
  "kernelspec": {
   "display_name": "Julia 1.6.6",
   "language": "julia",
   "name": "julia-1.6"
  },
  "language_info": {
   "file_extension": ".jl",
   "mimetype": "application/julia",
   "name": "julia",
   "version": "1.6.6"
  },
  "orig_nbformat": 4
 },
 "nbformat": 4,
 "nbformat_minor": 2
}
