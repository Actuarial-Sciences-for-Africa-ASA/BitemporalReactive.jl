{
 "cells": [
  {
   "cell_type": "code",
   "execution_count": 1,
   "metadata": {},
   "outputs": [],
   "source": [
    "#loading packages\n",
    "push!(LOAD_PATH, \"src\");\n",
    "import Base: @kwdef\n",
    "using Test\n",
    "using LifeInsuranceDataModel\n",
    "\n",
    "using BitemporalPostgres\n",
    "using SearchLight\n",
    "using SearchLightPostgreSQL\n",
    "using TimeZones\n",
    "using ToStruct\n",
    "using JSON"
   ]
  },
  {
   "cell_type": "code",
   "execution_count": null,
   "metadata": {},
   "outputs": [],
   "source": [
    "purging the data model entirely - empty the schema"
   ]
  },
  {
   "cell_type": "code",
   "execution_count": null,
   "metadata": {},
   "outputs": [],
   "source": [
    "if (haskey(ENV, \"GENIE_ENV\") && ENV[\"GENIE_ENV\"] == \"dev\")\n",
    "    if (haskey(ENV, \"GITPOD_REPO_ROOT\"))\n",
    "        run(```psql -f sqlsnippets/droptables.sql```)\n",
    "    else\n",
    "        println(\"execute this in Your REPL\")\n",
    "        println(\"\"\"run(```sudo -u postgres psql -f sqlsnippets/droptables.sql```)\"\"\")\n",
    "    end\n",
    "end"
   ]
  },
  {
   "cell_type": "markdown",
   "metadata": {},
   "source": [
    "Loading the data model- Create tables, constraints etc. and load Roles\n",
    "\n",
    "loading inverses of the role tables to provide role descriptions in object creation,  for instance like in: \"ref_role=cpRole[\"Policy Holder\"]"
   ]
  },
  {
   "cell_type": "code",
   "execution_count": 2,
   "metadata": {},
   "outputs": [
    {
     "name": "stderr",
     "output_type": "stream",
     "text": [
      "┌ Info: CREATE TABLE schema_migrations (version varchar(30))\n",
      "└ @ SearchLightPostgreSQL /home/mf/.julia/packages/SearchLightPostgreSQL/TgpHy/src/SearchLightPostgreSQL.jl:134\n",
      "┌ Info: Created table schema_migrations\n",
      "└ @ SearchLightPostgreSQL /home/mf/.julia/packages/SearchLightPostgreSQL/TgpHy/src/SearchLightPostgreSQL.jl:305\n"
     ]
    },
    {
     "name": "stderr",
     "output_type": "stream",
     "text": [
      "┌ Info: CREATE TABLE histories (id BIGSERIAL PRIMARY KEY, dummy INTEGER )\n",
      "└ @ SearchLightPostgreSQL /home/mf/.julia/packages/SearchLightPostgreSQL/TgpHy/src/SearchLightPostgreSQL.jl:134\n",
      "┌ Info: CREATE TABLE versions (id BIGSERIAL PRIMARY KEY, ref_history BIGINT REFERENCES histories(id) ON DELETE CASCADE)\n",
      "└ @ SearchLightPostgreSQL /home/mf/.julia/packages/SearchLightPostgreSQL/TgpHy/src/SearchLightPostgreSQL.jl:134\n"
     ]
    },
    {
     "name": "stderr",
     "output_type": "stream",
     "text": [
      "┌ Info: CREATE TABLE workflows (id BIGSERIAL PRIMARY KEY, ref_history BIGINT REFERENCES histories(id) ON DELETE CASCADE, ref_version BIGINT REFERENCES versions(id) ON DELETE CASCADE, tsw_validfrom TIMESTAMPTZ (3), tsdb_validfrom TIMESTAMPTZ (3), is_committed BIGINT )\n",
      "└ @ SearchLightPostgreSQL /home/mf/.julia/packages/SearchLightPostgreSQL/TgpHy/src/SearchLightPostgreSQL.jl:134\n",
      "┌ Info: CREATE TABLE testtstzranges (id BIGSERIAL PRIMARY KEY, i TSTZRANGE )\n",
      "└ @ SearchLightPostgreSQL /home/mf/.julia/packages/SearchLightPostgreSQL/TgpHy/src/SearchLightPostgreSQL.jl:134\n"
     ]
    },
    {
     "name": "stderr",
     "output_type": "stream",
     "text": [
      "┌ Info: CREATE TABLE validityIntervals (id BIGSERIAL PRIMARY KEY, ref_history BIGINT REFERENCES histories(id) ON DELETE CASCADE, ref_version BIGINT REFERENCES versions(id) ON DELETE CASCADE, tsworld_validfrom TIMESTAMPTZ (3), tsworld_invalidfrom TIMESTAMPTZ (3), tsdb_validfrom TIMESTAMPTZ (3), tsdb_invalidfrom TIMESTAMPTZ (3), tsrworld TSTZRANGE , tsrdb TSTZRANGE , is_committed BIGINT )\n",
      "└ @ SearchLightPostgreSQL /home/mf/.julia/packages/SearchLightPostgreSQL/TgpHy/src/SearchLightPostgreSQL.jl:134\n",
      "┌ Info: CREATE TABLE testdummyComponents (id BIGSERIAL PRIMARY KEY, ref_history BIGINT REFERENCES histories(id) ON DELETE CASCADE, ref_version BIGINT REFERENCES versions(id) ON DELETE CASCADE)\n",
      "└ @ SearchLightPostgreSQL /home/mf/.julia/packages/SearchLightPostgreSQL/TgpHy/src/SearchLightPostgreSQL.jl:134\n",
      "┌ Info: CREATE TABLE testdummyComponentRevisions (id BIGSERIAL PRIMARY KEY, ref_component BIGINT REFERENCES testdummyComponents(id), ref_validfrom BIGINT REFERENCES versions(id) ON DELETE CASCADE, ref_invalidfrom BIGINT DEFAULT 9223372036854775807 REFERENCES versions(id) ON DELETE SET DEFAULT, ref_valid INT8RANGE , description VARCHAR )\n",
      "└ @ SearchLightPostgreSQL /home/mf/.julia/packages/SearchLightPostgreSQL/TgpHy/src/SearchLightPostgreSQL.jl:134\n",
      "┌ Info: CREATE TABLE testdummySubComponents (id BIGSERIAL PRIMARY KEY, ref_history BIGINT REFERENCES testdummyComponents(id) ON DELETE CASCADE, ref_version BIGINT REFERENCES versions(id) ON DELETE CASCADE, ref_super BIGINT REFERENCES histories(id) ON DELETE CASCADE)\n",
      "└ @ SearchLightPostgreSQL /home/mf/.julia/packages/SearchLightPostgreSQL/TgpHy/src/SearchLightPostgreSQL.jl:134\n"
     ]
    },
    {
     "name": "stderr",
     "output_type": "stream",
     "text": [
      "┌ Info: CREATE TABLE testdummySubComponentRevisions (id BIGSERIAL PRIMARY KEY, ref_component BIGINT REFERENCES testdummySubComponents(id), ref_validfrom BIGINT REFERENCES versions(id) ON DELETE CASCADE, ref_invalidfrom BIGINT DEFAULT 9223372036854775807 REFERENCES versions(id) ON DELETE SET DEFAULT, ref_valid INT8RANGE , description VARCHAR )\n",
      "└ @ SearchLightPostgreSQL /home/mf/.julia/packages/SearchLightPostgreSQL/TgpHy/src/SearchLightPostgreSQL.jl:134\n",
      "┌ Info: CREATE EXTENSION IF NOT EXISTS btree_gist;\n",
      "└ @ SearchLightPostgreSQL /home/mf/.julia/packages/SearchLightPostgreSQL/TgpHy/src/SearchLightPostgreSQL.jl:134\n",
      "NOTICE:  extension \"btree_gist\" already exists, skipping\n",
      "┌ Info: ALTER TABLE validityIntervals \n",
      "│ ADD CONSTRAINT bitemp EXCLUDE USING GIST (ref_version WITH =, is_committed WITH =, tsrworld WITH &&, tsrdb WITH &&)\n",
      "└ @ SearchLightPostgreSQL /home/mf/.julia/packages/SearchLightPostgreSQL/TgpHy/src/SearchLightPostgreSQL.jl:134\n",
      "┌ Info: CREATE OR REPLACE FUNCTION f_bitempranges ()\n",
      "│ RETURNS trigger AS\n",
      "│ $$\n",
      "│      DECLARE\n",
      "│ \n",
      "│      BEGIN\n",
      "│           RAISE NOTICE 'NEW: %', NEW;\n",
      "│           NEW.tsrworld := tstzrange(NEW.tsworld_validfrom,NEW.tsworld_invalidfrom,'[)');\n",
      "│           NEW.tsrdb := tstzrange(NEW.tsdb_validfrom,NEW.tsdb_invalidfrom,'[)');\n",
      "│           RETURN NEW;\n",
      "│      END;\n",
      "│ $$ LANGUAGE 'plpgsql';\n",
      "└ @ SearchLightPostgreSQL /home/mf/.julia/packages/SearchLightPostgreSQL/TgpHy/src/SearchLightPostgreSQL.jl:134\n"
     ]
    },
    {
     "name": "stderr",
     "output_type": "stream",
     "text": [
      "┌ Info: CREATE TRIGGER versions_trig\n",
      "│ BEFORE INSERT OR UPDATE ON validityIntervals\n",
      "│ FOR EACH ROW EXECUTE PROCEDURE f_bitempranges();\n",
      "└ @ SearchLightPostgreSQL /home/mf/.julia/packages/SearchLightPostgreSQL/TgpHy/src/SearchLightPostgreSQL.jl:134\n",
      "┌ Info: CREATE OR REPLACE FUNCTION f_versionrange ()\n",
      "│ RETURNS trigger AS\n",
      "│ $$\n",
      "│      DECLARE\n",
      "│ \n",
      "│      BEGIN\n",
      "│           RAISE NOTICE 'NEW: %', NEW;\n",
      "│           NEW.ref_valid := int8range(NEW.ref_validfrom,NEW.ref_invalidfrom,'[)');\n",
      "│           RETURN NEW;\n",
      "│      END;\n",
      "│ $$ LANGUAGE 'plpgsql';\n",
      "└ @ SearchLightPostgreSQL /home/mf/.julia/packages/SearchLightPostgreSQL/TgpHy/src/SearchLightPostgreSQL.jl:134\n",
      "┌ Info: CREATE TRIGGER tr_versions_trig\n",
      "│ BEFORE INSERT OR UPDATE ON testdummyComponentRevisions\n",
      "│ FOR EACH ROW EXECUTE PROCEDURE f_versionrange();\n",
      "└ @ SearchLightPostgreSQL /home/mf/.julia/packages/SearchLightPostgreSQL/TgpHy/src/SearchLightPostgreSQL.jl:134\n",
      "┌ Info: ALTER TABLE testdummycomponentrevisions \n",
      "│ ADD CONSTRAINT testdummycomponentrevisionsversionrange EXCLUDE USING GIST (ref_component WITH =, ref_valid WITH &&)\n",
      "└ @ SearchLightPostgreSQL /home/mf/.julia/packages/SearchLightPostgreSQL/TgpHy/src/SearchLightPostgreSQL.jl:134\n",
      "┌ Info: CREATE TRIGGER tr_versions_trig\n",
      "│ BEFORE INSERT OR UPDATE ON testdummySubComponentRevisions\n",
      "│ FOR EACH ROW EXECUTE PROCEDURE f_versionrange();\n",
      "└ @ SearchLightPostgreSQL /home/mf/.julia/packages/SearchLightPostgreSQL/TgpHy/src/SearchLightPostgreSQL.jl:134\n",
      "┌ Info: ALTER TABLE testdummySubComponentrevisions \n",
      "│ ADD CONSTRAINT testdummysubcomponentrevisionsversionrange EXCLUDE USING GIST (ref_component WITH =, ref_valid WITH &&)\n",
      "└ @ SearchLightPostgreSQL /home/mf/.julia/packages/SearchLightPostgreSQL/TgpHy/src/SearchLightPostgreSQL.jl:134\n",
      "┌ Info: INSERT INTO histories VALUES(9223372036854775807,0)\n",
      "└ @ SearchLightPostgreSQL /home/mf/.julia/packages/SearchLightPostgreSQL/TgpHy/src/SearchLightPostgreSQL.jl:134\n",
      "┌ Info: INSERT INTO versions VALUES(9223372036854775807)\n",
      "└ @ SearchLightPostgreSQL /home/mf/.julia/packages/SearchLightPostgreSQL/TgpHy/src/SearchLightPostgreSQL.jl:134\n",
      "┌ Info: CREATE TABLE contracts (id BIGSERIAL PRIMARY KEY, ref_history BIGINT REFERENCES histories(id) ON DELETE CASCADE, ref_version BIGINT REFERENCES versions(id) ON DELETE CASCADE)\n",
      "└ @ SearchLightPostgreSQL /home/mf/.julia/packages/SearchLightPostgreSQL/TgpHy/src/SearchLightPostgreSQL.jl:134\n",
      "┌ Info: CREATE TABLE contractRevisions (id BIGSERIAL PRIMARY KEY, ref_component BIGINT REFERENCES contracts(id) ON DELETE CASCADE, ref_validfrom BIGINT REFERENCES versions(id) ON DELETE CASCADE, ref_invalidfrom BIGINT REFERENCES versions(id) ON DELETE CASCADE, ref_valid INT8RANGE , description VARCHAR )\n",
      "└ @ SearchLightPostgreSQL /home/mf/.julia/packages/SearchLightPostgreSQL/TgpHy/src/SearchLightPostgreSQL.jl:134\n"
     ]
    },
    {
     "name": "stderr",
     "output_type": "stream",
     "text": [
      "┌ Info: CREATE TRIGGER cr_versions_trig\n",
      "│ BEFORE INSERT OR UPDATE ON contractRevisions\n",
      "│ FOR EACH ROW EXECUTE PROCEDURE f_versionrange();\n",
      "└ @ SearchLightPostgreSQL /home/mf/.julia/packages/SearchLightPostgreSQL/TgpHy/src/SearchLightPostgreSQL.jl:134\n",
      "┌ Info: ALTER TABLE contractRevisions\n",
      "│ ADD CONSTRAINT contractsversionrange EXCLUDE USING GIST (ref_component WITH =, ref_valid WITH &&)\n",
      "└ @ SearchLightPostgreSQL /home/mf/.julia/packages/SearchLightPostgreSQL/TgpHy/src/SearchLightPostgreSQL.jl:134\n",
      "┌ Info: CREATE TABLE tariffs (id BIGSERIAL PRIMARY KEY, ref_history BIGINT REFERENCES histories(id) ON DELETE CASCADE, ref_version BIGINT REFERENCES versions(id) ON DELETE CASCADE)\n",
      "└ @ SearchLightPostgreSQL /home/mf/.julia/packages/SearchLightPostgreSQL/TgpHy/src/SearchLightPostgreSQL.jl:134\n",
      "┌ Info: CREATE TABLE tariffRevisions (id BIGSERIAL PRIMARY KEY, ref_component BIGINT REFERENCES tariffs(id) ON DELETE CASCADE, ref_validfrom BIGINT REFERENCES versions(id) ON DELETE CASCADE, ref_invalidfrom BIGINT REFERENCES versions(id) ON DELETE CASCADE, ref_valid INT8RANGE , description VARCHAR )\n",
      "└ @ SearchLightPostgreSQL /home/mf/.julia/packages/SearchLightPostgreSQL/TgpHy/src/SearchLightPostgreSQL.jl:134\n"
     ]
    },
    {
     "name": "stderr",
     "output_type": "stream",
     "text": [
      "┌ Info: CREATE TRIGGER tr_versions_trig\n",
      "│ BEFORE INSERT OR UPDATE ON tariffRevisions\n",
      "│ FOR EACH ROW EXECUTE PROCEDURE f_versionrange();\n",
      "└ @ SearchLightPostgreSQL /home/mf/.julia/packages/SearchLightPostgreSQL/TgpHy/src/SearchLightPostgreSQL.jl:134\n",
      "┌ Info: ALTER TABLE tariffRevisions\n",
      "│ ADD CONSTRAINT tr_versionrange EXCLUDE USING GIST (ref_component WITH =, ref_valid WITH &&)\n",
      "└ @ SearchLightPostgreSQL /home/mf/.julia/packages/SearchLightPostgreSQL/TgpHy/src/SearchLightPostgreSQL.jl:134\n",
      "┌ Info: CREATE TABLE products (id BIGSERIAL PRIMARY KEY, ref_history BIGINT REFERENCES histories(id) ON DELETE CASCADE, ref_version BIGINT REFERENCES versions(id) ON DELETE CASCADE)\n",
      "└ @ SearchLightPostgreSQL /home/mf/.julia/packages/SearchLightPostgreSQL/TgpHy/src/SearchLightPostgreSQL.jl:134\n",
      "┌ Info: CREATE TABLE productRevisions (id BIGSERIAL PRIMARY KEY, ref_component BIGINT REFERENCES products(id) ON DELETE CASCADE, ref_validfrom BIGINT REFERENCES versions(id) ON DELETE CASCADE, ref_invalidfrom BIGINT REFERENCES versions(id) ON DELETE CASCADE, ref_valid INT8RANGE , description VARCHAR )\n",
      "└ @ SearchLightPostgreSQL /home/mf/.julia/packages/SearchLightPostgreSQL/TgpHy/src/SearchLightPostgreSQL.jl:134\n"
     ]
    },
    {
     "name": "stderr",
     "output_type": "stream",
     "text": [
      "┌ Info: CREATE TRIGGER p_versions_trig\n",
      "│ BEFORE INSERT OR UPDATE ON productRevisions\n",
      "│ FOR EACH ROW EXECUTE PROCEDURE f_versionrange();\n",
      "└ @ SearchLightPostgreSQL /home/mf/.julia/packages/SearchLightPostgreSQL/TgpHy/src/SearchLightPostgreSQL.jl:134\n",
      "┌ Info: ALTER TABLE productRevisions\n",
      "│ ADD CONSTRAINT p_versionrange EXCLUDE USING GIST (ref_component WITH =, ref_valid WITH &&)\n",
      "└ @ SearchLightPostgreSQL /home/mf/.julia/packages/SearchLightPostgreSQL/TgpHy/src/SearchLightPostgreSQL.jl:134\n",
      "┌ Info: CREATE TABLE TarifFItemRoles (id BIGSERIAL PRIMARY KEY, domain VARCHAR , value VARCHAR )\n",
      "└ @ SearchLightPostgreSQL /home/mf/.julia/packages/SearchLightPostgreSQL/TgpHy/src/SearchLightPostgreSQL.jl:134\n",
      "┌ Info: CREATE TABLE ProductPartRoles (id BIGSERIAL PRIMARY KEY, domain VARCHAR , value VARCHAR )\n",
      "└ @ SearchLightPostgreSQL /home/mf/.julia/packages/SearchLightPostgreSQL/TgpHy/src/SearchLightPostgreSQL.jl:134\n"
     ]
    },
    {
     "name": "stderr",
     "output_type": "stream",
     "text": [
      "┌ Info: CREATE TABLE productParts (id BIGSERIAL PRIMARY KEY, ref_history BIGINT REFERENCES histories(id) ON DELETE CASCADE, ref_version BIGINT REFERENCES versions(id) ON DELETE CASCADE, ref_super BIGINT REFERENCES products(id) ON DELETE CASCADE)\n",
      "└ @ SearchLightPostgreSQL /home/mf/.julia/packages/SearchLightPostgreSQL/TgpHy/src/SearchLightPostgreSQL.jl:134\n",
      "┌ Info: CREATE TABLE productPartRevisions (id BIGSERIAL PRIMARY KEY, ref_component BIGINT REFERENCES productParts(id) ON DELETE CASCADE, position BIGINT , ref_role BIGINT REFERENCES productpartroles(id) ON DELETE CASCADE, ref_tariff BIGINT REFERENCES tariffs(id) ON DELETE CASCADE, ref_validfrom BIGINT REFERENCES versions(id) ON DELETE CASCADE, ref_invalidfrom BIGINT REFERENCES versions(id) ON DELETE CASCADE, ref_valid INT8RANGE , description VARCHAR )\n",
      "└ @ SearchLightPostgreSQL /home/mf/.julia/packages/SearchLightPostgreSQL/TgpHy/src/SearchLightPostgreSQL.jl:134\n"
     ]
    },
    {
     "name": "stderr",
     "output_type": "stream",
     "text": [
      "┌ Info: CREATE TRIGGER pp_versions_trig\n",
      "│ BEFORE INSERT OR UPDATE ON productPartRevisions\n",
      "│ FOR EACH ROW EXECUTE PROCEDURE f_versionrange();\n",
      "└ @ SearchLightPostgreSQL /home/mf/.julia/packages/SearchLightPostgreSQL/TgpHy/src/SearchLightPostgreSQL.jl:134\n",
      "┌ Info: ALTER TABLE productPartRevisions\n",
      "│ ADD CONSTRAINT pp_versionrange EXCLUDE USING GIST (ref_component WITH =, ref_valid WITH &&)\n",
      "└ @ SearchLightPostgreSQL /home/mf/.julia/packages/SearchLightPostgreSQL/TgpHy/src/SearchLightPostgreSQL.jl:134\n",
      "┌ Info: CREATE TABLE productItems (id BIGSERIAL PRIMARY KEY, ref_history BIGINT REFERENCES histories(id) ON DELETE CASCADE, ref_version BIGINT REFERENCES versions(id) ON DELETE CASCADE, ref_super BIGINT REFERENCES contracts(id) ON DELETE CASCADE)\n",
      "└ @ SearchLightPostgreSQL /home/mf/.julia/packages/SearchLightPostgreSQL/TgpHy/src/SearchLightPostgreSQL.jl:134\n",
      "┌ Info: CREATE TABLE productItemRevisions (id BIGSERIAL PRIMARY KEY, ref_component BIGINT REFERENCES productitems(id) ON DELETE CASCADE, ref_product BIGINT REFERENCES products(id) ON DELETE CASCADE, position BIGINT , ref_validfrom BIGINT REFERENCES versions(id) ON DELETE CASCADE, ref_invalidfrom BIGINT REFERENCES versions(id) ON DELETE CASCADE, ref_valid INT8RANGE , description VARCHAR )\n",
      "└ @ SearchLightPostgreSQL /home/mf/.julia/packages/SearchLightPostgreSQL/TgpHy/src/SearchLightPostgreSQL.jl:134\n"
     ]
    },
    {
     "name": "stderr",
     "output_type": "stream",
     "text": [
      "┌ Info: CREATE TRIGGER pi_versions_trig\n",
      "│ BEFORE INSERT OR UPDATE ON productitemRevisions\n",
      "│ FOR EACH ROW EXECUTE PROCEDURE f_versionrange();\n",
      "└ @ SearchLightPostgreSQL /home/mf/.julia/packages/SearchLightPostgreSQL/TgpHy/src/SearchLightPostgreSQL.jl:134\n",
      "┌ Info: ALTER TABLE productitemRevisions\n",
      "│ ADD CONSTRAINT pi_versionrange EXCLUDE USING GIST (ref_component WITH =, ref_valid WITH &&)\n",
      "└ @ SearchLightPostgreSQL /home/mf/.julia/packages/SearchLightPostgreSQL/TgpHy/src/SearchLightPostgreSQL.jl:134\n",
      "┌ Info: CREATE TABLE partners (id BIGSERIAL PRIMARY KEY, ref_history BIGINT REFERENCES histories(id) ON DELETE CASCADE, ref_version BIGINT REFERENCES versions(id) ON DELETE CASCADE)\n",
      "└ @ SearchLightPostgreSQL /home/mf/.julia/packages/SearchLightPostgreSQL/TgpHy/src/SearchLightPostgreSQL.jl:134\n",
      "┌ Info: CREATE TABLE partnerRevisions (id BIGSERIAL PRIMARY KEY, ref_component BIGINT REFERENCES partners(id) ON DELETE CASCADE, ref_validfrom BIGINT REFERENCES versions(id) ON DELETE CASCADE, ref_invalidfrom BIGINT REFERENCES versions(id) ON DELETE CASCADE, ref_valid INT8RANGE , description VARCHAR )\n",
      "└ @ SearchLightPostgreSQL /home/mf/.julia/packages/SearchLightPostgreSQL/TgpHy/src/SearchLightPostgreSQL.jl:134\n"
     ]
    },
    {
     "name": "stderr",
     "output_type": "stream",
     "text": [
      "┌ Info: CREATE TRIGGER pr_versions_trig\n",
      "│ BEFORE INSERT OR UPDATE ON partnerRevisions\n",
      "│ FOR EACH ROW EXECUTE PROCEDURE f_versionrange();\n",
      "└ @ SearchLightPostgreSQL /home/mf/.julia/packages/SearchLightPostgreSQL/TgpHy/src/SearchLightPostgreSQL.jl:134\n",
      "┌ Info: ALTER TABLE partnerRevisions\n",
      "│ ADD CONSTRAINT pr_versionrange EXCLUDE USING GIST (ref_component WITH =, ref_valid WITH &&)\n",
      "└ @ SearchLightPostgreSQL /home/mf/.julia/packages/SearchLightPostgreSQL/TgpHy/src/SearchLightPostgreSQL.jl:134\n",
      "┌ Info: CREATE TABLE contractPartnerRoles (id BIGSERIAL PRIMARY KEY, domain VARCHAR , value VARCHAR )\n",
      "└ @ SearchLightPostgreSQL /home/mf/.julia/packages/SearchLightPostgreSQL/TgpHy/src/SearchLightPostgreSQL.jl:134\n",
      "┌ Info: CREATE TABLE contractPartnerRefs (id BIGSERIAL PRIMARY KEY, ref_history BIGINT REFERENCES histories(id) ON DELETE CASCADE, ref_version BIGINT REFERENCES versions(id) ON DELETE CASCADE, ref_super BIGINT REFERENCES contracts(id) ON DELETE CASCADE)\n",
      "└ @ SearchLightPostgreSQL /home/mf/.julia/packages/SearchLightPostgreSQL/TgpHy/src/SearchLightPostgreSQL.jl:134\n"
     ]
    },
    {
     "name": "stderr",
     "output_type": "stream",
     "text": [
      "┌ Info: CREATE TABLE contractPartnerRefRevisions (id BIGSERIAL PRIMARY KEY, ref_component BIGINT REFERENCES contractPartnerRefs(id) ON DELETE CASCADE, ref_role BIGINT REFERENCES contractpartnerroles(id) ON DELETE CASCADE, ref_validfrom BIGINT REFERENCES versions(id) ON DELETE CASCADE, ref_invalidfrom BIGINT REFERENCES versions(id) ON DELETE CASCADE, ref_valid INT8RANGE , description VARCHAR , ref_partner BIGINT REFERENCES partners(id) ON DELETE CASCADE)\n",
      "└ @ SearchLightPostgreSQL /home/mf/.julia/packages/SearchLightPostgreSQL/TgpHy/src/SearchLightPostgreSQL.jl:134\n",
      "┌ Info: CREATE TRIGGER cprr_versions_trig\n",
      "│ BEFORE INSERT OR UPDATE ON contractPartnerRefRevisions\n",
      "│ FOR EACH ROW EXECUTE PROCEDURE f_versionrange();\n",
      "└ @ SearchLightPostgreSQL /home/mf/.julia/packages/SearchLightPostgreSQL/TgpHy/src/SearchLightPostgreSQL.jl:134\n",
      "┌ Info: ALTER TABLE contractPartnerRefRevisions\n",
      "│ ADD CONSTRAINT cprr_versionrange EXCLUDE USING GIST (ref_component WITH =, ref_valid WITH &&)\n",
      "└ @ SearchLightPostgreSQL /home/mf/.julia/packages/SearchLightPostgreSQL/TgpHy/src/SearchLightPostgreSQL.jl:134\n",
      "┌ Info: CREATE TABLE TariffItems (id BIGSERIAL PRIMARY KEY, ref_history BIGINT REFERENCES histories(id) ON DELETE CASCADE, ref_version BIGINT REFERENCES versions(id) ON DELETE CASCADE, ref_super BIGINT REFERENCES productitems(id) ON DELETE CASCADE)\n",
      "└ @ SearchLightPostgreSQL /home/mf/.julia/packages/SearchLightPostgreSQL/TgpHy/src/SearchLightPostgreSQL.jl:134\n",
      "┌ Info: CREATE TABLE TariffItemRevisions (id BIGSERIAL PRIMARY KEY, ref_component BIGINT REFERENCES tariffitems(id) ON DELETE CASCADE, ref_role BIGINT REFERENCES tariffitemroles(id) ON DELETE CASCADE, ref_validfrom BIGINT REFERENCES versions(id) ON DELETE CASCADE, ref_invalidfrom BIGINT REFERENCES versions(id) ON DELETE CASCADE, ref_valid INT8RANGE , description VARCHAR , ref_tariff BIGINT REFERENCES tariffs(id) ON DELETE CASCADE)\n",
      "└ @ SearchLightPostgreSQL /home/mf/.julia/packages/SearchLightPostgreSQL/TgpHy/src/SearchLightPostgreSQL.jl:134\n",
      "┌ Info: CREATE TRIGGER pitrr_versions_trig\n",
      "│ BEFORE INSERT OR UPDATE ON TariffItemRevisions\n",
      "│ FOR EACH ROW EXECUTE PROCEDURE f_versionrange();\n",
      "└ @ SearchLightPostgreSQL /home/mf/.julia/packages/SearchLightPostgreSQL/TgpHy/src/SearchLightPostgreSQL.jl:134\n"
     ]
    },
    {
     "name": "stderr",
     "output_type": "stream",
     "text": [
      "┌ Info: ALTER TABLE TariffItemRevisions\n",
      "│ ADD CONSTRAINT pitrr_versionrange EXCLUDE USING GIST (ref_component WITH =, ref_valid WITH &&)\n",
      "└ @ SearchLightPostgreSQL /home/mf/.julia/packages/SearchLightPostgreSQL/TgpHy/src/SearchLightPostgreSQL.jl:134\n",
      "┌ Info: CREATE TABLE TariffItemPartnerRoles (id BIGSERIAL PRIMARY KEY, domain VARCHAR , value VARCHAR )\n",
      "└ @ SearchLightPostgreSQL /home/mf/.julia/packages/SearchLightPostgreSQL/TgpHy/src/SearchLightPostgreSQL.jl:134\n",
      "┌ Info: CREATE TABLE TariffItemPartnerRefs (id BIGSERIAL PRIMARY KEY, ref_history BIGINT REFERENCES histories(id) ON DELETE CASCADE, ref_version BIGINT REFERENCES versions(id) ON DELETE CASCADE, ref_super BIGINT REFERENCES tariffitems(id) ON DELETE CASCADE)\n",
      "└ @ SearchLightPostgreSQL /home/mf/.julia/packages/SearchLightPostgreSQL/TgpHy/src/SearchLightPostgreSQL.jl:134\n",
      "┌ Info: CREATE TABLE TariffItemPartnerRefRevisions (id BIGSERIAL PRIMARY KEY, ref_component BIGINT REFERENCES tariffitems(id) ON DELETE CASCADE, ref_role BIGINT REFERENCES tariffitempartnerroles(id) ON DELETE CASCADE, ref_validfrom BIGINT REFERENCES versions(id) ON DELETE CASCADE, ref_invalidfrom BIGINT REFERENCES versions(id) ON DELETE CASCADE, ref_valid INT8RANGE , description VARCHAR , ref_partner BIGINT REFERENCES partners(id) ON DELETE CASCADE)\n",
      "└ @ SearchLightPostgreSQL /home/mf/.julia/packages/SearchLightPostgreSQL/TgpHy/src/SearchLightPostgreSQL.jl:134\n"
     ]
    },
    {
     "name": "stderr",
     "output_type": "stream",
     "text": [
      "┌ Info: CREATE TRIGGER piprr_versions_trig\n",
      "│ BEFORE INSERT OR UPDATE ON TariffItemPartnerRefRevisions\n",
      "│ FOR EACH ROW EXECUTE PROCEDURE f_versionrange();\n",
      "└ @ SearchLightPostgreSQL /home/mf/.julia/packages/SearchLightPostgreSQL/TgpHy/src/SearchLightPostgreSQL.jl:134\n",
      "┌ Info: ALTER TABLE TariffItemPartnerRefRevisions\n",
      "│ ADD CONSTRAINT piprr_versionrange EXCLUDE USING GIST (ref_component WITH =, ref_valid WITH &&)\n",
      "└ @ SearchLightPostgreSQL /home/mf/.julia/packages/SearchLightPostgreSQL/TgpHy/src/SearchLightPostgreSQL.jl:134\n"
     ]
    },
    {
     "name": "stderr",
     "output_type": "stream",
     "text": [
      "┌ Info: INSERT INTO contractpartnerroles ( \"domain\", \"value\" ) VALUES ( E'ContractPartner', E'Policy Holder' ) RETURNING id\n",
      "└ @ SearchLightPostgreSQL /home/mf/.julia/packages/SearchLightPostgreSQL/TgpHy/src/SearchLightPostgreSQL.jl:134\n",
      "┌ Info: SELECT \"contractpartnerroles\".\"id\" AS \"contractpartnerroles_id\", \"contractpartnerroles\".\"domain\" AS \"contractpartnerroles_domain\", \"contractpartnerroles\".\"value\" AS \"contractpartnerroles_value\" FROM \"contractpartnerroles\" WHERE \"id\" = 1 ORDER BY contractpartnerroles.id ASC\n",
      "└ @ SearchLightPostgreSQL /home/mf/.julia/packages/SearchLightPostgreSQL/TgpHy/src/SearchLightPostgreSQL.jl:134\n"
     ]
    },
    {
     "name": "stderr",
     "output_type": "stream",
     "text": [
      "┌ Info: INSERT INTO contractpartnerroles ( \"domain\", \"value\" ) VALUES ( E'ContractPartner', E'Premium Payer' ) RETURNING id\n",
      "└ @ SearchLightPostgreSQL /home/mf/.julia/packages/SearchLightPostgreSQL/TgpHy/src/SearchLightPostgreSQL.jl:134\n",
      "┌ Info: SELECT \"contractpartnerroles\".\"id\" AS \"contractpartnerroles_id\", \"contractpartnerroles\".\"domain\" AS \"contractpartnerroles_domain\", \"contractpartnerroles\".\"value\" AS \"contractpartnerroles_value\" FROM \"contractpartnerroles\" WHERE \"id\" = 2 ORDER BY contractpartnerroles.id ASC\n",
      "└ @ SearchLightPostgreSQL /home/mf/.julia/packages/SearchLightPostgreSQL/TgpHy/src/SearchLightPostgreSQL.jl:134\n"
     ]
    },
    {
     "name": "stderr",
     "output_type": "stream",
     "text": [
      "┌ Info: INSERT INTO tariffitempartnerroles ( \"domain\", \"value\" ) VALUES ( E'TariffItemPartner', E'Insured Person' ) RETURNING id\n",
      "└ @ SearchLightPostgreSQL /home/mf/.julia/packages/SearchLightPostgreSQL/TgpHy/src/SearchLightPostgreSQL.jl:134\n",
      "┌ Info: SELECT \"tariffitempartnerroles\".\"id\" AS \"tariffitempartnerroles_id\", \"tariffitempartnerroles\".\"domain\" AS \"tariffitempartnerroles_domain\", \"tariffitempartnerroles\".\"value\" AS \"tariffitempartnerroles_value\" FROM \"tariffitempartnerroles\" WHERE \"id\" = 1 ORDER BY tariffitempartnerroles.id ASC\n",
      "└ @ SearchLightPostgreSQL /home/mf/.julia/packages/SearchLightPostgreSQL/TgpHy/src/SearchLightPostgreSQL.jl:134\n"
     ]
    },
    {
     "name": "stderr",
     "output_type": "stream",
     "text": [
      "┌ Info: INSERT INTO tariffitempartnerroles ( \"domain\", \"value\" ) VALUES ( E'TariffItemPartner', E'2nd Insured Person' ) RETURNING id\n",
      "└ @ SearchLightPostgreSQL /home/mf/.julia/packages/SearchLightPostgreSQL/TgpHy/src/SearchLightPostgreSQL.jl:134\n",
      "┌ Info: SELECT \"tariffitempartnerroles\".\"id\" AS \"tariffitempartnerroles_id\", \"tariffitempartnerroles\".\"domain\" AS \"tariffitempartnerroles_domain\", \"tariffitempartnerroles\".\"value\" AS \"tariffitempartnerroles_value\" FROM \"tariffitempartnerroles\" WHERE \"id\" = 2 ORDER BY tariffitempartnerroles.id ASC\n",
      "└ @ SearchLightPostgreSQL /home/mf/.julia/packages/SearchLightPostgreSQL/TgpHy/src/SearchLightPostgreSQL.jl:134\n"
     ]
    },
    {
     "name": "stderr",
     "output_type": "stream",
     "text": [
      "┌ Info: INSERT INTO tariffitemroles ( \"domain\", \"value\" ) VALUES ( E'TariffItem', E'Main Coverage - Life' ) RETURNING id\n",
      "└ @ SearchLightPostgreSQL /home/mf/.julia/packages/SearchLightPostgreSQL/TgpHy/src/SearchLightPostgreSQL.jl:134\n",
      "┌ Info: SELECT \"tariffitemroles\".\"id\" AS \"tariffitemroles_id\", \"tariffitemroles\".\"domain\" AS \"tariffitemroles_domain\", \"tariffitemroles\".\"value\" AS \"tariffitemroles_value\" FROM \"tariffitemroles\" WHERE \"id\" = 1 ORDER BY tariffitemroles.id ASC\n",
      "└ @ SearchLightPostgreSQL /home/mf/.julia/packages/SearchLightPostgreSQL/TgpHy/src/SearchLightPostgreSQL.jl:134\n"
     ]
    },
    {
     "name": "stderr",
     "output_type": "stream",
     "text": [
      "┌ Info: INSERT INTO tariffitemroles ( \"domain\", \"value\" ) VALUES ( E'TariffItem', E'Supplementary Coverage - Occupational Disablity' ) RETURNING id\n",
      "└ @ SearchLightPostgreSQL /home/mf/.julia/packages/SearchLightPostgreSQL/TgpHy/src/SearchLightPostgreSQL.jl:134\n",
      "┌ Info: SELECT \"tariffitemroles\".\"id\" AS \"tariffitemroles_id\", \"tariffitemroles\".\"domain\" AS \"tariffitemroles_domain\", \"tariffitemroles\".\"value\" AS \"tariffitemroles_value\" FROM \"tariffitemroles\" WHERE \"id\" = 2 ORDER BY tariffitemroles.id ASC\n",
      "└ @ SearchLightPostgreSQL /home/mf/.julia/packages/SearchLightPostgreSQL/TgpHy/src/SearchLightPostgreSQL.jl:134\n",
      "┌ Info: INSERT INTO tariffitemroles ( \"domain\", \"value\" ) VALUES ( E'TariffItem', E'Supplementary Coverage - Terminal Illness' ) RETURNING id\n",
      "└ @ SearchLightPostgreSQL /home/mf/.julia/packages/SearchLightPostgreSQL/TgpHy/src/SearchLightPostgreSQL.jl:134\n",
      "┌ Info: SELECT \"tariffitemroles\".\"id\" AS \"tariffitemroles_id\", \"tariffitemroles\".\"domain\" AS \"tariffitemroles_domain\", \"tariffitemroles\".\"value\" AS \"tariffitemroles_value\" FROM \"tariffitemroles\" WHERE \"id\" = 3 ORDER BY tariffitemroles.id ASC\n",
      "└ @ SearchLightPostgreSQL /home/mf/.julia/packages/SearchLightPostgreSQL/TgpHy/src/SearchLightPostgreSQL.jl:134\n",
      "┌ Info: INSERT INTO tariffitemroles ( \"domain\", \"value\" ) VALUES ( E'TariffItem', E'Profit participation' ) RETURNING id\n",
      "└ @ SearchLightPostgreSQL /home/mf/.julia/packages/SearchLightPostgreSQL/TgpHy/src/SearchLightPostgreSQL.jl:134\n",
      "┌ Info: SELECT \"tariffitemroles\".\"id\" AS \"tariffitemroles_id\", \"tariffitemroles\".\"domain\" AS \"tariffitemroles_domain\", \"tariffitemroles\".\"value\" AS \"tariffitemroles_value\" FROM \"tariffitemroles\" WHERE \"id\" = 4 ORDER BY tariffitemroles.id ASC\n",
      "└ @ SearchLightPostgreSQL /home/mf/.julia/packages/SearchLightPostgreSQL/TgpHy/src/SearchLightPostgreSQL.jl:134\n"
     ]
    },
    {
     "name": "stderr",
     "output_type": "stream",
     "text": [
      "┌ Info: INSERT INTO productpartroles ( \"domain\", \"value\" ) VALUES ( E'ProductPart', E'Main Coverage - Life' ) RETURNING id\n",
      "└ @ SearchLightPostgreSQL /home/mf/.julia/packages/SearchLightPostgreSQL/TgpHy/src/SearchLightPostgreSQL.jl:134\n",
      "┌ Info: SELECT \"productpartroles\".\"id\" AS \"productpartroles_id\", \"productpartroles\".\"domain\" AS \"productpartroles_domain\", \"productpartroles\".\"value\" AS \"productpartroles_value\" FROM \"productpartroles\" WHERE \"id\" = 1 ORDER BY productpartroles.id ASC\n",
      "└ @ SearchLightPostgreSQL /home/mf/.julia/packages/SearchLightPostgreSQL/TgpHy/src/SearchLightPostgreSQL.jl:134\n"
     ]
    },
    {
     "name": "stderr",
     "output_type": "stream",
     "text": [
      "┌ Info: INSERT INTO productpartroles ( \"domain\", \"value\" ) VALUES ( E'ProductPart', E'Supplementary Coverage - Occupational Disablity' ) RETURNING id\n",
      "└ @ SearchLightPostgreSQL /home/mf/.julia/packages/SearchLightPostgreSQL/TgpHy/src/SearchLightPostgreSQL.jl:134\n",
      "┌ Info: SELECT \"productpartroles\".\"id\" AS \"productpartroles_id\", \"productpartroles\".\"domain\" AS \"productpartroles_domain\", \"productpartroles\".\"value\" AS \"productpartroles_value\" FROM \"productpartroles\" WHERE \"id\" = 2 ORDER BY productpartroles.id ASC\n",
      "└ @ SearchLightPostgreSQL /home/mf/.julia/packages/SearchLightPostgreSQL/TgpHy/src/SearchLightPostgreSQL.jl:134\n",
      "┌ Info: INSERT INTO productpartroles ( \"domain\", \"value\" ) VALUES ( E'ProductPart', E'Supplementary Coverage - Terminal Illness' ) RETURNING id\n",
      "└ @ SearchLightPostgreSQL /home/mf/.julia/packages/SearchLightPostgreSQL/TgpHy/src/SearchLightPostgreSQL.jl:134\n",
      "┌ Info: SELECT \"productpartroles\".\"id\" AS \"productpartroles_id\", \"productpartroles\".\"domain\" AS \"productpartroles_domain\", \"productpartroles\".\"value\" AS \"productpartroles_value\" FROM \"productpartroles\" WHERE \"id\" = 3 ORDER BY productpartroles.id ASC\n",
      "└ @ SearchLightPostgreSQL /home/mf/.julia/packages/SearchLightPostgreSQL/TgpHy/src/SearchLightPostgreSQL.jl:134\n",
      "┌ Info: INSERT INTO productpartroles ( \"domain\", \"value\" ) VALUES ( E'ProductPart', E'Profit participation' ) RETURNING id\n",
      "└ @ SearchLightPostgreSQL /home/mf/.julia/packages/SearchLightPostgreSQL/TgpHy/src/SearchLightPostgreSQL.jl:134\n",
      "┌ Info: SELECT \"productpartroles\".\"id\" AS \"productpartroles_id\", \"productpartroles\".\"domain\" AS \"productpartroles_domain\", \"productpartroles\".\"value\" AS \"productpartroles_value\" FROM \"productpartroles\" WHERE \"id\" = 4 ORDER BY productpartroles.id ASC\n",
      "└ @ SearchLightPostgreSQL /home/mf/.julia/packages/SearchLightPostgreSQL/TgpHy/src/SearchLightPostgreSQL.jl:134\n",
      "┌ Info: SELECT \"contractpartnerroles\".\"id\" AS \"contractpartnerroles_id\", \"contractpartnerroles\".\"domain\" AS \"contractpartnerroles_domain\", \"contractpartnerroles\".\"value\" AS \"contractpartnerroles_value\" FROM \"contractpartnerroles\" ORDER BY contractpartnerroles.id ASC\n",
      "└ @ SearchLightPostgreSQL /home/mf/.julia/packages/SearchLightPostgreSQL/TgpHy/src/SearchLightPostgreSQL.jl:134\n",
      "┌ Info: SELECT \"tariffitempartnerroles\".\"id\" AS \"tariffitempartnerroles_id\", \"tariffitempartnerroles\".\"domain\" AS \"tariffitempartnerroles_domain\", \"tariffitempartnerroles\".\"value\" AS \"tariffitempartnerroles_value\" FROM \"tariffitempartnerroles\" ORDER BY tariffitempartnerroles.id ASC\n",
      "└ @ SearchLightPostgreSQL /home/mf/.julia/packages/SearchLightPostgreSQL/TgpHy/src/SearchLightPostgreSQL.jl:134\n"
     ]
    },
    {
     "name": "stderr",
     "output_type": "stream",
     "text": [
      "┌ Info: SELECT \"tariffitemroles\".\"id\" AS \"tariffitemroles_id\", \"tariffitemroles\".\"domain\" AS \"tariffitemroles_domain\", \"tariffitemroles\".\"value\" AS \"tariffitemroles_value\" FROM \"tariffitemroles\" ORDER BY tariffitemroles.id ASC\n",
      "└ @ SearchLightPostgreSQL /home/mf/.julia/packages/SearchLightPostgreSQL/TgpHy/src/SearchLightPostgreSQL.jl:134\n",
      "┌ Info: SELECT \"productpartroles\".\"id\" AS \"productpartroles_id\", \"productpartroles\".\"domain\" AS \"productpartroles_domain\", \"productpartroles\".\"value\" AS \"productpartroles_value\" FROM \"productpartroles\" ORDER BY productpartroles.id ASC\n",
      "└ @ SearchLightPostgreSQL /home/mf/.julia/packages/SearchLightPostgreSQL/TgpHy/src/SearchLightPostgreSQL.jl:134\n"
     ]
    },
    {
     "data": {
      "text/plain": [
       "4-element Vector{Int64}:\n",
       " 1\n",
       " 2\n",
       " 3\n",
       " 4"
      ]
     },
     "metadata": {},
     "output_type": "display_data"
    }
   ],
   "source": [
    "LifeInsuranceDataModel.load_model()\n",
    "\n",
    "cpRole = Dict{String,Int64}()\n",
    "map(find(LifeInsuranceDataModel.ContractPartnerRole)) do entry\n",
    "    cpRole[entry.value] = entry.id.value\n",
    "end\n",
    "tiprRole = Dict{String,Int64}()\n",
    "map(find(LifeInsuranceDataModel.TariffItemPartnerRole)) do entry\n",
    "    tiprRole[entry.value] = entry.id.value\n",
    "end\n",
    "titrRole = Dict{String,Int64}()\n",
    "map(find(LifeInsuranceDataModel.TariffItemRole)) do entry\n",
    "    titrRole[entry.value] = entry.id.value\n",
    "end\n",
    "\n",
    "ppRole = Dict{String,Int64}()\n",
    "map(find(LifeInsuranceDataModel.ProductPartRole)) do entry\n",
    "    ppRole[entry.value] = entry.id.value\n",
    "end\n"
   ]
  },
  {
   "cell_type": "markdown",
   "metadata": {},
   "source": [
    "Create a Partner"
   ]
  },
  {
   "cell_type": "code",
   "execution_count": 3,
   "metadata": {},
   "outputs": [
    {
     "name": "stderr",
     "output_type": "stream",
     "text": [
      "┌ Info: BEGIN\n",
      "└ @ SearchLightPostgreSQL /home/mf/.julia/packages/SearchLightPostgreSQL/TgpHy/src/SearchLightPostgreSQL.jl:134\n",
      "┌ Info: INSERT INTO histories ( \"dummy\" ) VALUES ( 0 ) RETURNING id\n",
      "└ @ SearchLightPostgreSQL /home/mf/.julia/packages/SearchLightPostgreSQL/TgpHy/src/SearchLightPostgreSQL.jl:134\n"
     ]
    },
    {
     "name": "stderr",
     "output_type": "stream",
     "text": [
      "┌ Info: SELECT \"histories\".\"id\" AS \"histories_id\", \"histories\".\"dummy\" AS \"histories_dummy\" FROM \"histories\" WHERE \"id\" = 1 ORDER BY histories.id ASC\n",
      "└ @ SearchLightPostgreSQL /home/mf/.julia/packages/SearchLightPostgreSQL/TgpHy/src/SearchLightPostgreSQL.jl:134\n"
     ]
    },
    {
     "name": "stderr",
     "output_type": "stream",
     "text": [
      "┌ Info: INSERT INTO versions ( \"ref_history\" ) VALUES ( E'1' ) RETURNING id\n",
      "└ @ SearchLightPostgreSQL /home/mf/.julia/packages/SearchLightPostgreSQL/TgpHy/src/SearchLightPostgreSQL.jl:134\n",
      "┌ Info: SELECT \"versions\".\"id\" AS \"versions_id\", \"versions\".\"ref_history\" AS \"versions_ref_history\" FROM \"versions\" WHERE \"id\" = 1 ORDER BY versions.id ASC\n",
      "└ @ SearchLightPostgreSQL /home/mf/.julia/packages/SearchLightPostgreSQL/TgpHy/src/SearchLightPostgreSQL.jl:134\n"
     ]
    },
    {
     "name": "stderr",
     "output_type": "stream",
     "text": [
      "┌ Info: INSERT INTO workflows ( \"ref_history\", \"ref_version\", \"tsdb_validfrom\", \"tsw_validfrom\", \"is_committed\" ) VALUES ( E'1', E'1', E'2038-01-19T03:14:06.999+00:00', E'2014-05-30T21:00:01.001+01:00', 0 ) RETURNING id\n",
      "└ @ SearchLightPostgreSQL /home/mf/.julia/packages/SearchLightPostgreSQL/TgpHy/src/SearchLightPostgreSQL.jl:134\n",
      "┌ Info: SELECT \"workflows\".\"id\" AS \"workflows_id\", \"workflows\".\"ref_history\" AS \"workflows_ref_history\", \"workflows\".\"ref_version\" AS \"workflows_ref_version\", \"workflows\".\"tsdb_validfrom\" AS \"workflows_tsdb_validfrom\", \"workflows\".\"tsw_validfrom\" AS \"workflows_tsw_validfrom\", \"workflows\".\"is_committed\" AS \"workflows_is_committed\" FROM \"workflows\" WHERE \"id\" = 1 ORDER BY workflows.id ASC\n",
      "└ @ SearchLightPostgreSQL /home/mf/.julia/packages/SearchLightPostgreSQL/TgpHy/src/SearchLightPostgreSQL.jl:134\n"
     ]
    },
    {
     "name": "stderr",
     "output_type": "stream",
     "text": [
      "┌ Info: INSERT INTO validityintervals ( \"ref_history\", \"ref_version\", \"tsdb_validfrom\", \"tsworld_validfrom\", \"tsdb_invalidfrom\", \"tsworld_invalidfrom\", \"is_committed\" ) VALUES ( E'1', E'1', E'2022-07-07T21:15:16.085+01:00', E'2014-05-30T20:00:01.001+00:00', E'2038-01-19T03:14:06.999+00:00', E'2038-01-19T03:14:06.999+00:00', 0 ) RETURNING id\n",
      "└ @ SearchLightPostgreSQL /home/mf/.julia/packages/SearchLightPostgreSQL/TgpHy/src/SearchLightPostgreSQL.jl:134\n",
      "NOTICE:  NEW: (1,1,1,\"2014-05-30 20:00:01.001+00\",\"2038-01-19 03:14:06.999+00\",\"2022-07-07 20:15:16.085+00\",\"2038-01-19 03:14:06.999+00\",,,0)\n",
      "┌ Info: SELECT \"validityintervals\".\"id\" AS \"validityintervals_id\", \"validityintervals\".\"ref_history\" AS \"validityintervals_ref_history\", \"validityintervals\".\"ref_version\" AS \"validityintervals_ref_version\", \"validityintervals\".\"tsdb_validfrom\" AS \"validityintervals_tsdb_validfrom\", \"validityintervals\".\"tsworld_validfrom\" AS \"validityintervals_tsworld_validfrom\", \"validityintervals\".\"tsdb_invalidfrom\" AS \"validityintervals_tsdb_invalidfrom\", \"validityintervals\".\"tsworld_invalidfrom\" AS \"validityintervals_tsworld_invalidfrom\", \"validityintervals\".\"is_committed\" AS \"validityintervals_is_committed\" FROM \"validityintervals\" WHERE \"id\" = 1 ORDER BY validityintervals.id ASC\n",
      "└ @ SearchLightPostgreSQL /home/mf/.julia/packages/SearchLightPostgreSQL/TgpHy/src/SearchLightPostgreSQL.jl:134\n"
     ]
    },
    {
     "name": "stderr",
     "output_type": "stream",
     "text": [
      "┌ Info: COMMIT\n",
      "└ @ SearchLightPostgreSQL /home/mf/.julia/packages/SearchLightPostgreSQL/TgpHy/src/SearchLightPostgreSQL.jl:134\n",
      "┌ Info: BEGIN\n",
      "└ @ SearchLightPostgreSQL /home/mf/.julia/packages/SearchLightPostgreSQL/TgpHy/src/SearchLightPostgreSQL.jl:134\n"
     ]
    },
    {
     "name": "stderr",
     "output_type": "stream",
     "text": [
      "┌ Info: INSERT INTO partners ( \"ref_history\", \"ref_version\" ) VALUES ( E'1', E'1' ) RETURNING id\n",
      "└ @ SearchLightPostgreSQL /home/mf/.julia/packages/SearchLightPostgreSQL/TgpHy/src/SearchLightPostgreSQL.jl:134\n",
      "┌ Info: SELECT \"partners\".\"id\" AS \"partners_id\", \"partners\".\"ref_history\" AS \"partners_ref_history\", \"partners\".\"ref_version\" AS \"partners_ref_version\" FROM \"partners\" WHERE \"id\" = 1 ORDER BY partners.id ASC\n",
      "└ @ SearchLightPostgreSQL /home/mf/.julia/packages/SearchLightPostgreSQL/TgpHy/src/SearchLightPostgreSQL.jl:134\n"
     ]
    },
    {
     "name": "stderr",
     "output_type": "stream",
     "text": [
      "┌ Info: INSERT INTO partnerrevisions ( \"ref_component\", \"ref_validfrom\", \"ref_invalidfrom\", \"description\" ) VALUES ( E'1', E'1', E'9223372036854775807', E'Partner 1' ) RETURNING id\n",
      "└ @ SearchLightPostgreSQL /home/mf/.julia/packages/SearchLightPostgreSQL/TgpHy/src/SearchLightPostgreSQL.jl:134\n",
      "NOTICE:  NEW: (1,1,1,9223372036854775807,,\"Partner 1\")\n",
      "┌ Info: SELECT \"partnerrevisions\".\"id\" AS \"partnerrevisions_id\", \"partnerrevisions\".\"ref_component\" AS \"partnerrevisions_ref_component\", \"partnerrevisions\".\"ref_validfrom\" AS \"partnerrevisions_ref_validfrom\", \"partnerrevisions\".\"ref_invalidfrom\" AS \"partnerrevisions_ref_invalidfrom\", \"partnerrevisions\".\"description\" AS \"partnerrevisions_description\" FROM \"partnerrevisions\" WHERE \"id\" = 1 ORDER BY partnerrevisions.id ASC\n",
      "└ @ SearchLightPostgreSQL /home/mf/.julia/packages/SearchLightPostgreSQL/TgpHy/src/SearchLightPostgreSQL.jl:134\n"
     ]
    },
    {
     "name": "stderr",
     "output_type": "stream",
     "text": [
      "┌ Info: COMMIT\n",
      "└ @ SearchLightPostgreSQL /home/mf/.julia/packages/SearchLightPostgreSQL/TgpHy/src/SearchLightPostgreSQL.jl:134\n",
      "┌ Info: BEGIN\n",
      "└ @ SearchLightPostgreSQL /home/mf/.julia/packages/SearchLightPostgreSQL/TgpHy/src/SearchLightPostgreSQL.jl:134\n"
     ]
    },
    {
     "name": "stderr",
     "output_type": "stream",
     "text": [
      "┌ Info: SELECT \"validityintervals\".\"id\" AS \"validityintervals_id\", \"validityintervals\".\"ref_history\" AS \"validityintervals_ref_history\", \"validityintervals\".\"ref_version\" AS \"validityintervals_ref_version\", \"validityintervals\".\"tsdb_validfrom\" AS \"validityintervals_tsdb_validfrom\", \"validityintervals\".\"tsworld_validfrom\" AS \"validityintervals_tsworld_validfrom\", \"validityintervals\".\"tsdb_invalidfrom\" AS \"validityintervals_tsdb_invalidfrom\", \"validityintervals\".\"tsworld_invalidfrom\" AS \"validityintervals_tsworld_invalidfrom\", \"validityintervals\".\"is_committed\" AS \"validityintervals_is_committed\" FROM \"validityintervals\" WHERE ref_version = E'1' AND is_committed = 0 ORDER BY validityintervals.id ASC\n",
      "└ @ SearchLightPostgreSQL /home/mf/.julia/packages/SearchLightPostgreSQL/TgpHy/src/SearchLightPostgreSQL.jl:134\n",
      "┌ Info: SELECT \"validityintervals\".\"id\" AS \"validityintervals_id\", \"validityintervals\".\"ref_history\" AS \"validityintervals_ref_history\", \"validityintervals\".\"ref_version\" AS \"validityintervals_ref_version\", \"validityintervals\".\"tsdb_validfrom\" AS \"validityintervals_tsdb_validfrom\", \"validityintervals\".\"tsworld_validfrom\" AS \"validityintervals_tsworld_validfrom\", \"validityintervals\".\"tsdb_invalidfrom\" AS \"validityintervals_tsdb_invalidfrom\", \"validityintervals\".\"tsworld_invalidfrom\" AS \"validityintervals_tsworld_invalidfrom\", \"validityintervals\".\"is_committed\" AS \"validityintervals_is_committed\" FROM \"validityintervals\" WHERE ref_history = E'1' AND tsrdb @> TIMESTAMPTZ E'2038-01-18T03:14:06.999+00:00' AND tsrworld <@ tstzrange(E'2014-05-31T20:00:01.001+00:00',E'2038-01-19T03:14:06.999+00:00') AND is_committed=1 ORDER BY validityintervals.id ASC\n",
      "└ @ SearchLightPostgreSQL /home/mf/.julia/packages/SearchLightPostgreSQL/TgpHy/src/SearchLightPostgreSQL.jl:134\n"
     ]
    },
    {
     "name": "stderr",
     "output_type": "stream",
     "text": [
      "┌ Info: SELECT \"validityintervals\".\"id\" AS \"validityintervals_id\", \"validityintervals\".\"ref_history\" AS \"validityintervals_ref_history\", \"validityintervals\".\"ref_version\" AS \"validityintervals_ref_version\", \"validityintervals\".\"tsdb_validfrom\" AS \"validityintervals_tsdb_validfrom\", \"validityintervals\".\"tsworld_validfrom\" AS \"validityintervals_tsworld_validfrom\", \"validityintervals\".\"tsdb_invalidfrom\" AS \"validityintervals_tsdb_invalidfrom\", \"validityintervals\".\"tsworld_invalidfrom\" AS \"validityintervals_tsworld_invalidfrom\", \"validityintervals\".\"is_committed\" AS \"validityintervals_is_committed\" FROM \"validityintervals\" WHERE ref_history = E'1' AND tsrdb @> TIMESTAMPTZ E'2038-01-18T03:14:06.999+00:00' AND tsrworld && tstzrange(E'2014-05-31T20:00:01.001+00:00',E'2038-01-19T03:14:06.999+00:00') AND is_committed=1 ORDER BY validityintervals.id ASC\n",
      "└ @ SearchLightPostgreSQL /home/mf/.julia/packages/SearchLightPostgreSQL/TgpHy/src/SearchLightPostgreSQL.jl:134\n",
      "┌ Info: UPDATE validityintervals SET  \"id\" = E'1', \"ref_history\" = E'1', \"ref_version\" = E'1', \"tsdb_validfrom\" = E'2022-07-07T21:15:20.072+01:00', \"tsworld_validfrom\" = E'2014-05-30T20:00:01.001+00:00', \"tsdb_invalidfrom\" = E'2038-01-19T03:14:06.999+00:00', \"tsworld_invalidfrom\" = E'2038-01-19T03:14:06.999+00:00', \"is_committed\" = 1 WHERE validityintervals.id = '1' RETURNING id\n",
      "└ @ SearchLightPostgreSQL /home/mf/.julia/packages/SearchLightPostgreSQL/TgpHy/src/SearchLightPostgreSQL.jl:134\n",
      "NOTICE:  NEW: (1,1,1,\"2014-05-30 20:00:01.001+00\",\"2038-01-19 03:14:06.999+00\",\"2022-07-07 20:15:20.072+00\",\"2038-01-19 03:14:06.999+00\",\"[\"\"2014-05-30 20:00:01.001+00\"\",\"\"2038-01-19 03:14:06.999+00\"\")\",\"[\"\"2022-07-07 20:15:16.085+00\"\",\"\"2038-01-19 03:14:06.999+00\"\")\",1)\n",
      "┌ Info: SELECT \"validityintervals\".\"id\" AS \"validityintervals_id\", \"validityintervals\".\"ref_history\" AS \"validityintervals_ref_history\", \"validityintervals\".\"ref_version\" AS \"validityintervals_ref_version\", \"validityintervals\".\"tsdb_validfrom\" AS \"validityintervals_tsdb_validfrom\", \"validityintervals\".\"tsworld_validfrom\" AS \"validityintervals_tsworld_validfrom\", \"validityintervals\".\"tsdb_invalidfrom\" AS \"validityintervals_tsdb_invalidfrom\", \"validityintervals\".\"tsworld_invalidfrom\" AS \"validityintervals_tsworld_invalidfrom\", \"validityintervals\".\"is_committed\" AS \"validityintervals_is_committed\" FROM \"validityintervals\" WHERE \"id\" = 1 ORDER BY validityintervals.id ASC\n",
      "└ @ SearchLightPostgreSQL /home/mf/.julia/packages/SearchLightPostgreSQL/TgpHy/src/SearchLightPostgreSQL.jl:134\n"
     ]
    },
    {
     "name": "stderr",
     "output_type": "stream",
     "text": [
      "┌ Info: UPDATE workflows SET  \"id\" = E'1', \"ref_history\" = E'1', \"ref_version\" = E'1', \"tsdb_validfrom\" = E'2022-07-07T21:15:20.072+01:00', \"tsw_validfrom\" = E'2014-05-30T20:00:01.001+00:00', \"is_committed\" = 1 WHERE workflows.id = '1' RETURNING id\n",
      "└ @ SearchLightPostgreSQL /home/mf/.julia/packages/SearchLightPostgreSQL/TgpHy/src/SearchLightPostgreSQL.jl:134\n",
      "┌ Info: SELECT \"workflows\".\"id\" AS \"workflows_id\", \"workflows\".\"ref_history\" AS \"workflows_ref_history\", \"workflows\".\"ref_version\" AS \"workflows_ref_version\", \"workflows\".\"tsdb_validfrom\" AS \"workflows_tsdb_validfrom\", \"workflows\".\"tsw_validfrom\" AS \"workflows_tsw_validfrom\", \"workflows\".\"is_committed\" AS \"workflows_is_committed\" FROM \"workflows\" WHERE \"id\" = 1 ORDER BY workflows.id ASC\n",
      "└ @ SearchLightPostgreSQL /home/mf/.julia/packages/SearchLightPostgreSQL/TgpHy/src/SearchLightPostgreSQL.jl:134\n",
      "┌ Info: COMMIT\n",
      "└ @ SearchLightPostgreSQL /home/mf/.julia/packages/SearchLightPostgreSQL/TgpHy/src/SearchLightPostgreSQL.jl:134\n"
     ]
    }
   ],
   "source": [
    "# create Partner\n",
    "p = LifeInsuranceDataModel.Partner()\n",
    "pr = LifeInsuranceDataModel.PartnerRevision(description=\"Partner 1\")\n",
    "w = Workflow(\n",
    "    tsw_validfrom=ZonedDateTime(2014, 5, 30, 21, 0, 1, 1, tz\"Africa/Porto-Novo\"),\n",
    ")\n",
    "create_entity!(w)\n",
    "create_component!(p, pr, w)\n",
    "commit_workflow!(w)"
   ]
  },
  {
   "cell_type": "code",
   "execution_count": 4,
   "metadata": {},
   "outputs": [
    {
     "name": "stderr",
     "output_type": "stream",
     "text": [
      "┌ Info: SELECT \"partners\".\"id\" AS \"partners_id\", \"partners\".\"ref_history\" AS \"partners_ref_history\", \"partners\".\"ref_version\" AS \"partners_ref_version\" FROM \"partners\" ORDER BY partners.id ASC\n",
      "└ @ SearchLightPostgreSQL /home/mf/.julia/packages/SearchLightPostgreSQL/TgpHy/src/SearchLightPostgreSQL.jl:134\n"
     ]
    },
    {
     "data": {
      "text/plain": [
       "1-element Vector{Partner}:\n",
       " Partner\n",
       "| KEY               | VALUE |\n",
       "|-------------------|-------|\n",
       "| id::DbId          | 1     |\n",
       "| ref_history::DbId | 1     |\n",
       "| ref_version::DbId | 1     |\n"
      ]
     },
     "metadata": {},
     "output_type": "display_data"
    }
   ],
   "source": [
    "find(Partner)"
   ]
  },
  {
   "cell_type": "markdown",
   "metadata": {},
   "source": [
    "Create tariffs"
   ]
  },
  {
   "cell_type": "code",
   "execution_count": 30,
   "metadata": {},
   "outputs": [
    {
     "name": "stderr",
     "output_type": "stream",
     "text": [
      "┌ Info: BEGIN\n",
      "└ @ SearchLightPostgreSQL /home/mf/.julia/packages/SearchLightPostgreSQL/TgpHy/src/SearchLightPostgreSQL.jl:134\n",
      "┌ Info: INSERT INTO histories ( \"dummy\" ) VALUES ( 0 ) RETURNING id\n",
      "└ @ SearchLightPostgreSQL /home/mf/.julia/packages/SearchLightPostgreSQL/TgpHy/src/SearchLightPostgreSQL.jl:134\n",
      "┌ Info: SELECT \"histories\".\"id\" AS \"histories_id\", \"histories\".\"dummy\" AS \"histories_dummy\" FROM \"histories\" WHERE \"id\" = 14 ORDER BY histories.id ASC\n",
      "└ @ SearchLightPostgreSQL /home/mf/.julia/packages/SearchLightPostgreSQL/TgpHy/src/SearchLightPostgreSQL.jl:134\n",
      "┌ Info: INSERT INTO versions ( \"ref_history\" ) VALUES ( E'14' ) RETURNING id\n",
      "└ @ SearchLightPostgreSQL /home/mf/.julia/packages/SearchLightPostgreSQL/TgpHy/src/SearchLightPostgreSQL.jl:134\n",
      "┌ Info: SELECT \"versions\".\"id\" AS \"versions_id\", \"versions\".\"ref_history\" AS \"versions_ref_history\" FROM \"versions\" WHERE \"id\" = 14 ORDER BY versions.id ASC\n",
      "└ @ SearchLightPostgreSQL /home/mf/.julia/packages/SearchLightPostgreSQL/TgpHy/src/SearchLightPostgreSQL.jl:134\n",
      "┌ Info: INSERT INTO workflows ( \"ref_history\", \"ref_version\", \"tsdb_validfrom\", \"tsw_validfrom\", \"is_committed\" ) VALUES ( E'14', E'14', E'2038-01-19T03:14:06.999+00:00', E'2014-05-30T21:00:01.001+01:00', 0 ) RETURNING id\n",
      "└ @ SearchLightPostgreSQL /home/mf/.julia/packages/SearchLightPostgreSQL/TgpHy/src/SearchLightPostgreSQL.jl:134\n",
      "┌ Info: SELECT \"workflows\".\"id\" AS \"workflows_id\", \"workflows\".\"ref_history\" AS \"workflows_ref_history\", \"workflows\".\"ref_version\" AS \"workflows_ref_version\", \"workflows\".\"tsdb_validfrom\" AS \"workflows_tsdb_validfrom\", \"workflows\".\"tsw_validfrom\" AS \"workflows_tsw_validfrom\", \"workflows\".\"is_committed\" AS \"workflows_is_committed\" FROM \"workflows\" WHERE \"id\" = 14 ORDER BY workflows.id ASC\n",
      "└ @ SearchLightPostgreSQL /home/mf/.julia/packages/SearchLightPostgreSQL/TgpHy/src/SearchLightPostgreSQL.jl:134\n",
      "┌ Info: INSERT INTO validityintervals ( \"ref_history\", \"ref_version\", \"tsdb_validfrom\", \"tsworld_validfrom\", \"tsdb_invalidfrom\", \"tsworld_invalidfrom\", \"is_committed\" ) VALUES ( E'14', E'14', E'2022-07-07T18:49:22.076+01:00', E'2014-05-30T20:00:01.001+00:00', E'2038-01-19T03:14:06.999+00:00', E'2038-01-19T03:14:06.999+00:00', 0 ) RETURNING id\n",
      "└ @ SearchLightPostgreSQL /home/mf/.julia/packages/SearchLightPostgreSQL/TgpHy/src/SearchLightPostgreSQL.jl:134\n",
      "NOTICE:  NEW: (14,14,14,\"2014-05-30 20:00:01.001+00\",\"2038-01-19 03:14:06.999+00\",\"2022-07-07 17:49:22.076+00\",\"2038-01-19 03:14:06.999+00\",,,0)\n",
      "┌ Info: SELECT \"validityintervals\".\"id\" AS \"validityintervals_id\", \"validityintervals\".\"ref_history\" AS \"validityintervals_ref_history\", \"validityintervals\".\"ref_version\" AS \"validityintervals_ref_version\", \"validityintervals\".\"tsdb_validfrom\" AS \"validityintervals_tsdb_validfrom\", \"validityintervals\".\"tsworld_validfrom\" AS \"validityintervals_tsworld_validfrom\", \"validityintervals\".\"tsdb_invalidfrom\" AS \"validityintervals_tsdb_invalidfrom\", \"validityintervals\".\"tsworld_invalidfrom\" AS \"validityintervals_tsworld_invalidfrom\", \"validityintervals\".\"is_committed\" AS \"validityintervals_is_committed\" FROM \"validityintervals\" WHERE \"id\" = 14 ORDER BY validityintervals.id ASC\n",
      "└ @ SearchLightPostgreSQL /home/mf/.julia/packages/SearchLightPostgreSQL/TgpHy/src/SearchLightPostgreSQL.jl:134\n",
      "┌ Info: COMMIT\n",
      "└ @ SearchLightPostgreSQL /home/mf/.julia/packages/SearchLightPostgreSQL/TgpHy/src/SearchLightPostgreSQL.jl:134\n",
      "┌ Info: BEGIN\n",
      "└ @ SearchLightPostgreSQL /home/mf/.julia/packages/SearchLightPostgreSQL/TgpHy/src/SearchLightPostgreSQL.jl:134\n",
      "┌ Info: INSERT INTO tariffs ( \"ref_history\", \"ref_version\" ) VALUES ( E'14', E'14' ) RETURNING id\n",
      "└ @ SearchLightPostgreSQL /home/mf/.julia/packages/SearchLightPostgreSQL/TgpHy/src/SearchLightPostgreSQL.jl:134\n",
      "┌ Info: SELECT \"tariffs\".\"id\" AS \"tariffs_id\", \"tariffs\".\"ref_history\" AS \"tariffs_ref_history\", \"tariffs\".\"ref_version\" AS \"tariffs_ref_version\" FROM \"tariffs\" WHERE \"id\" = 12 ORDER BY tariffs.id ASC\n",
      "└ @ SearchLightPostgreSQL /home/mf/.julia/packages/SearchLightPostgreSQL/TgpHy/src/SearchLightPostgreSQL.jl:134\n",
      "┌ Info: INSERT INTO tariffrevisions ( \"ref_component\", \"ref_validfrom\", \"ref_invalidfrom\", \"description\" ) VALUES ( E'12', E'14', E'9223372036854775807', E'Life Risk Insurance' ) RETURNING id\n",
      "└ @ SearchLightPostgreSQL /home/mf/.julia/packages/SearchLightPostgreSQL/TgpHy/src/SearchLightPostgreSQL.jl:134\n",
      "NOTICE:  NEW: (12,12,14,9223372036854775807,,\"Life Risk Insurance\")\n",
      "┌ Info: SELECT \"tariffrevisions\".\"id\" AS \"tariffrevisions_id\", \"tariffrevisions\".\"ref_component\" AS \"tariffrevisions_ref_component\", \"tariffrevisions\".\"ref_validfrom\" AS \"tariffrevisions_ref_validfrom\", \"tariffrevisions\".\"ref_invalidfrom\" AS \"tariffrevisions_ref_invalidfrom\", \"tariffrevisions\".\"description\" AS \"tariffrevisions_description\" FROM \"tariffrevisions\" WHERE \"id\" = 12 ORDER BY tariffrevisions.id ASC\n",
      "└ @ SearchLightPostgreSQL /home/mf/.julia/packages/SearchLightPostgreSQL/TgpHy/src/SearchLightPostgreSQL.jl:134\n",
      "┌ Info: COMMIT\n",
      "└ @ SearchLightPostgreSQL /home/mf/.julia/packages/SearchLightPostgreSQL/TgpHy/src/SearchLightPostgreSQL.jl:134\n",
      "┌ Info: BEGIN\n",
      "└ @ SearchLightPostgreSQL /home/mf/.julia/packages/SearchLightPostgreSQL/TgpHy/src/SearchLightPostgreSQL.jl:134\n",
      "┌ Info: SELECT \"validityintervals\".\"id\" AS \"validityintervals_id\", \"validityintervals\".\"ref_history\" AS \"validityintervals_ref_history\", \"validityintervals\".\"ref_version\" AS \"validityintervals_ref_version\", \"validityintervals\".\"tsdb_validfrom\" AS \"validityintervals_tsdb_validfrom\", \"validityintervals\".\"tsworld_validfrom\" AS \"validityintervals_tsworld_validfrom\", \"validityintervals\".\"tsdb_invalidfrom\" AS \"validityintervals_tsdb_invalidfrom\", \"validityintervals\".\"tsworld_invalidfrom\" AS \"validityintervals_tsworld_invalidfrom\", \"validityintervals\".\"is_committed\" AS \"validityintervals_is_committed\" FROM \"validityintervals\" WHERE ref_version = E'14' AND is_committed = 0 ORDER BY validityintervals.id ASC\n",
      "└ @ SearchLightPostgreSQL /home/mf/.julia/packages/SearchLightPostgreSQL/TgpHy/src/SearchLightPostgreSQL.jl:134\n",
      "┌ Info: SELECT \"validityintervals\".\"id\" AS \"validityintervals_id\", \"validityintervals\".\"ref_history\" AS \"validityintervals_ref_history\", \"validityintervals\".\"ref_version\" AS \"validityintervals_ref_version\", \"validityintervals\".\"tsdb_validfrom\" AS \"validityintervals_tsdb_validfrom\", \"validityintervals\".\"tsworld_validfrom\" AS \"validityintervals_tsworld_validfrom\", \"validityintervals\".\"tsdb_invalidfrom\" AS \"validityintervals_tsdb_invalidfrom\", \"validityintervals\".\"tsworld_invalidfrom\" AS \"validityintervals_tsworld_invalidfrom\", \"validityintervals\".\"is_committed\" AS \"validityintervals_is_committed\" FROM \"validityintervals\" WHERE ref_history = E'14' AND tsrdb @> TIMESTAMPTZ E'2038-01-18T03:14:06.999+00:00' AND tsrworld <@ tstzrange(E'2014-05-31T20:00:01.001+00:00',E'2038-01-19T03:14:06.999+00:00') AND is_committed=1 ORDER BY validityintervals.id ASC\n",
      "└ @ SearchLightPostgreSQL /home/mf/.julia/packages/SearchLightPostgreSQL/TgpHy/src/SearchLightPostgreSQL.jl:134\n",
      "┌ Info: SELECT \"validityintervals\".\"id\" AS \"validityintervals_id\", \"validityintervals\".\"ref_history\" AS \"validityintervals_ref_history\", \"validityintervals\".\"ref_version\" AS \"validityintervals_ref_version\", \"validityintervals\".\"tsdb_validfrom\" AS \"validityintervals_tsdb_validfrom\", \"validityintervals\".\"tsworld_validfrom\" AS \"validityintervals_tsworld_validfrom\", \"validityintervals\".\"tsdb_invalidfrom\" AS \"validityintervals_tsdb_invalidfrom\", \"validityintervals\".\"tsworld_invalidfrom\" AS \"validityintervals_tsworld_invalidfrom\", \"validityintervals\".\"is_committed\" AS \"validityintervals_is_committed\" FROM \"validityintervals\" WHERE ref_history = E'14' AND tsrdb @> TIMESTAMPTZ E'2038-01-18T03:14:06.999+00:00' AND tsrworld && tstzrange(E'2014-05-31T20:00:01.001+00:00',E'2038-01-19T03:14:06.999+00:00') AND is_committed=1 ORDER BY validityintervals.id ASC\n",
      "└ @ SearchLightPostgreSQL /home/mf/.julia/packages/SearchLightPostgreSQL/TgpHy/src/SearchLightPostgreSQL.jl:134\n",
      "┌ Info: UPDATE validityintervals SET  \"id\" = E'14', \"ref_history\" = E'14', \"ref_version\" = E'14', \"tsdb_validfrom\" = E'2022-07-07T18:49:22.102+01:00', \"tsworld_validfrom\" = E'2014-05-30T20:00:01.001+00:00', \"tsdb_invalidfrom\" = E'2038-01-19T03:14:06.999+00:00', \"tsworld_invalidfrom\" = E'2038-01-19T03:14:06.999+00:00', \"is_committed\" = 1 WHERE validityintervals.id = '14' RETURNING id\n",
      "└ @ SearchLightPostgreSQL /home/mf/.julia/packages/SearchLightPostgreSQL/TgpHy/src/SearchLightPostgreSQL.jl:134\n",
      "NOTICE:  NEW: (14,14,14,\"2014-05-30 20:00:01.001+00\",\"2038-01-19 03:14:06.999+00\",\"2022-07-07 17:49:22.102+00\",\"2038-01-19 03:14:06.999+00\",\"[\"\"2014-05-30 20:00:01.001+00\"\",\"\"2038-01-19 03:14:06.999+00\"\")\",\"[\"\"2022-07-07 17:49:22.076+00\"\",\"\"2038-01-19 03:14:06.999+00\"\")\",1)\n",
      "┌ Info: SELECT \"validityintervals\".\"id\" AS \"validityintervals_id\", \"validityintervals\".\"ref_history\" AS \"validityintervals_ref_history\", \"validityintervals\".\"ref_version\" AS \"validityintervals_ref_version\", \"validityintervals\".\"tsdb_validfrom\" AS \"validityintervals_tsdb_validfrom\", \"validityintervals\".\"tsworld_validfrom\" AS \"validityintervals_tsworld_validfrom\", \"validityintervals\".\"tsdb_invalidfrom\" AS \"validityintervals_tsdb_invalidfrom\", \"validityintervals\".\"tsworld_invalidfrom\" AS \"validityintervals_tsworld_invalidfrom\", \"validityintervals\".\"is_committed\" AS \"validityintervals_is_committed\" FROM \"validityintervals\" WHERE \"id\" = 14 ORDER BY validityintervals.id ASC\n",
      "└ @ SearchLightPostgreSQL /home/mf/.julia/packages/SearchLightPostgreSQL/TgpHy/src/SearchLightPostgreSQL.jl:134\n",
      "┌ Info: UPDATE workflows SET  \"id\" = E'14', \"ref_history\" = E'14', \"ref_version\" = E'14', \"tsdb_validfrom\" = E'2022-07-07T18:49:22.102+01:00', \"tsw_validfrom\" = E'2014-05-30T20:00:01.001+00:00', \"is_committed\" = 1 WHERE workflows.id = '14' RETURNING id\n",
      "└ @ SearchLightPostgreSQL /home/mf/.julia/packages/SearchLightPostgreSQL/TgpHy/src/SearchLightPostgreSQL.jl:134\n",
      "┌ Info: SELECT \"workflows\".\"id\" AS \"workflows_id\", \"workflows\".\"ref_history\" AS \"workflows_ref_history\", \"workflows\".\"ref_version\" AS \"workflows_ref_version\", \"workflows\".\"tsdb_validfrom\" AS \"workflows_tsdb_validfrom\", \"workflows\".\"tsw_validfrom\" AS \"workflows_tsw_validfrom\", \"workflows\".\"is_committed\" AS \"workflows_is_committed\" FROM \"workflows\" WHERE \"id\" = 14 ORDER BY workflows.id ASC\n",
      "└ @ SearchLightPostgreSQL /home/mf/.julia/packages/SearchLightPostgreSQL/TgpHy/src/SearchLightPostgreSQL.jl:134\n"
     ]
    },
    {
     "name": "stderr",
     "output_type": "stream",
     "text": [
      "┌ Info: COMMIT\n",
      "└ @ SearchLightPostgreSQL /home/mf/.julia/packages/SearchLightPostgreSQL/TgpHy/src/SearchLightPostgreSQL.jl:134\n",
      "┌ Info: BEGIN\n",
      "└ @ SearchLightPostgreSQL /home/mf/.julia/packages/SearchLightPostgreSQL/TgpHy/src/SearchLightPostgreSQL.jl:134\n",
      "┌ Info: INSERT INTO histories ( \"dummy\" ) VALUES ( 0 ) RETURNING id\n",
      "└ @ SearchLightPostgreSQL /home/mf/.julia/packages/SearchLightPostgreSQL/TgpHy/src/SearchLightPostgreSQL.jl:134\n",
      "┌ Info: SELECT \"histories\".\"id\" AS \"histories_id\", \"histories\".\"dummy\" AS \"histories_dummy\" FROM \"histories\" WHERE \"id\" = 15 ORDER BY histories.id ASC\n",
      "└ @ SearchLightPostgreSQL /home/mf/.julia/packages/SearchLightPostgreSQL/TgpHy/src/SearchLightPostgreSQL.jl:134\n",
      "┌ Info: INSERT INTO versions ( \"ref_history\" ) VALUES ( E'15' ) RETURNING id\n",
      "└ @ SearchLightPostgreSQL /home/mf/.julia/packages/SearchLightPostgreSQL/TgpHy/src/SearchLightPostgreSQL.jl:134\n",
      "┌ Info: SELECT \"versions\".\"id\" AS \"versions_id\", \"versions\".\"ref_history\" AS \"versions_ref_history\" FROM \"versions\" WHERE \"id\" = 15 ORDER BY versions.id ASC\n",
      "└ @ SearchLightPostgreSQL /home/mf/.julia/packages/SearchLightPostgreSQL/TgpHy/src/SearchLightPostgreSQL.jl:134\n",
      "┌ Info: INSERT INTO workflows ( \"ref_history\", \"ref_version\", \"tsdb_validfrom\", \"tsw_validfrom\", \"is_committed\" ) VALUES ( E'15', E'15', E'2038-01-19T03:14:06.999+00:00', E'2014-05-30T21:00:01.001+01:00', 0 ) RETURNING id\n",
      "└ @ SearchLightPostgreSQL /home/mf/.julia/packages/SearchLightPostgreSQL/TgpHy/src/SearchLightPostgreSQL.jl:134\n",
      "┌ Info: SELECT \"workflows\".\"id\" AS \"workflows_id\", \"workflows\".\"ref_history\" AS \"workflows_ref_history\", \"workflows\".\"ref_version\" AS \"workflows_ref_version\", \"workflows\".\"tsdb_validfrom\" AS \"workflows_tsdb_validfrom\", \"workflows\".\"tsw_validfrom\" AS \"workflows_tsw_validfrom\", \"workflows\".\"is_committed\" AS \"workflows_is_committed\" FROM \"workflows\" WHERE \"id\" = 15 ORDER BY workflows.id ASC\n",
      "└ @ SearchLightPostgreSQL /home/mf/.julia/packages/SearchLightPostgreSQL/TgpHy/src/SearchLightPostgreSQL.jl:134\n",
      "┌ Info: INSERT INTO validityintervals ( \"ref_history\", \"ref_version\", \"tsdb_validfrom\", \"tsworld_validfrom\", \"tsdb_invalidfrom\", \"tsworld_invalidfrom\", \"is_committed\" ) VALUES ( E'15', E'15', E'2022-07-07T18:49:22.120+01:00', E'2014-05-30T20:00:01.001+00:00', E'2038-01-19T03:14:06.999+00:00', E'2038-01-19T03:14:06.999+00:00', 0 ) RETURNING id\n",
      "└ @ SearchLightPostgreSQL /home/mf/.julia/packages/SearchLightPostgreSQL/TgpHy/src/SearchLightPostgreSQL.jl:134\n",
      "NOTICE:  NEW: (15,15,15,\"2014-05-30 20:00:01.001+00\",\"2038-01-19 03:14:06.999+00\",\"2022-07-07 17:49:22.12+00\",\"2038-01-19 03:14:06.999+00\",,,0)\n",
      "┌ Info: SELECT \"validityintervals\".\"id\" AS \"validityintervals_id\", \"validityintervals\".\"ref_history\" AS \"validityintervals_ref_history\", \"validityintervals\".\"ref_version\" AS \"validityintervals_ref_version\", \"validityintervals\".\"tsdb_validfrom\" AS \"validityintervals_tsdb_validfrom\", \"validityintervals\".\"tsworld_validfrom\" AS \"validityintervals_tsworld_validfrom\", \"validityintervals\".\"tsdb_invalidfrom\" AS \"validityintervals_tsdb_invalidfrom\", \"validityintervals\".\"tsworld_invalidfrom\" AS \"validityintervals_tsworld_invalidfrom\", \"validityintervals\".\"is_committed\" AS \"validityintervals_is_committed\" FROM \"validityintervals\" WHERE \"id\" = 15 ORDER BY validityintervals.id ASC\n",
      "└ @ SearchLightPostgreSQL /home/mf/.julia/packages/SearchLightPostgreSQL/TgpHy/src/SearchLightPostgreSQL.jl:134\n",
      "┌ Info: COMMIT\n",
      "└ @ SearchLightPostgreSQL /home/mf/.julia/packages/SearchLightPostgreSQL/TgpHy/src/SearchLightPostgreSQL.jl:134\n",
      "┌ Info: BEGIN\n",
      "└ @ SearchLightPostgreSQL /home/mf/.julia/packages/SearchLightPostgreSQL/TgpHy/src/SearchLightPostgreSQL.jl:134\n",
      "┌ Info: INSERT INTO tariffs ( \"ref_history\", \"ref_version\" ) VALUES ( E'15', E'15' ) RETURNING id\n",
      "└ @ SearchLightPostgreSQL /home/mf/.julia/packages/SearchLightPostgreSQL/TgpHy/src/SearchLightPostgreSQL.jl:134\n",
      "┌ Info: SELECT \"tariffs\".\"id\" AS \"tariffs_id\", \"tariffs\".\"ref_history\" AS \"tariffs_ref_history\", \"tariffs\".\"ref_version\" AS \"tariffs_ref_version\" FROM \"tariffs\" WHERE \"id\" = 13 ORDER BY tariffs.id ASC\n",
      "└ @ SearchLightPostgreSQL /home/mf/.julia/packages/SearchLightPostgreSQL/TgpHy/src/SearchLightPostgreSQL.jl:134\n",
      "┌ Info: INSERT INTO tariffrevisions ( \"ref_component\", \"ref_validfrom\", \"ref_invalidfrom\", \"description\" ) VALUES ( E'13', E'15', E'9223372036854775807', E'Terminal Illness' ) RETURNING id\n",
      "└ @ SearchLightPostgreSQL /home/mf/.julia/packages/SearchLightPostgreSQL/TgpHy/src/SearchLightPostgreSQL.jl:134\n",
      "NOTICE:  NEW: (13,13,15,9223372036854775807,,\"Terminal Illness\")\n",
      "┌ Info: SELECT \"tariffrevisions\".\"id\" AS \"tariffrevisions_id\", \"tariffrevisions\".\"ref_component\" AS \"tariffrevisions_ref_component\", \"tariffrevisions\".\"ref_validfrom\" AS \"tariffrevisions_ref_validfrom\", \"tariffrevisions\".\"ref_invalidfrom\" AS \"tariffrevisions_ref_invalidfrom\", \"tariffrevisions\".\"description\" AS \"tariffrevisions_description\" FROM \"tariffrevisions\" WHERE \"id\" = 13 ORDER BY tariffrevisions.id ASC\n",
      "└ @ SearchLightPostgreSQL /home/mf/.julia/packages/SearchLightPostgreSQL/TgpHy/src/SearchLightPostgreSQL.jl:134\n",
      "┌ Info: COMMIT\n",
      "└ @ SearchLightPostgreSQL /home/mf/.julia/packages/SearchLightPostgreSQL/TgpHy/src/SearchLightPostgreSQL.jl:134\n",
      "┌ Info: BEGIN\n",
      "└ @ SearchLightPostgreSQL /home/mf/.julia/packages/SearchLightPostgreSQL/TgpHy/src/SearchLightPostgreSQL.jl:134\n",
      "┌ Info: SELECT \"validityintervals\".\"id\" AS \"validityintervals_id\", \"validityintervals\".\"ref_history\" AS \"validityintervals_ref_history\", \"validityintervals\".\"ref_version\" AS \"validityintervals_ref_version\", \"validityintervals\".\"tsdb_validfrom\" AS \"validityintervals_tsdb_validfrom\", \"validityintervals\".\"tsworld_validfrom\" AS \"validityintervals_tsworld_validfrom\", \"validityintervals\".\"tsdb_invalidfrom\" AS \"validityintervals_tsdb_invalidfrom\", \"validityintervals\".\"tsworld_invalidfrom\" AS \"validityintervals_tsworld_invalidfrom\", \"validityintervals\".\"is_committed\" AS \"validityintervals_is_committed\" FROM \"validityintervals\" WHERE ref_version = E'15' AND is_committed = 0 ORDER BY validityintervals.id ASC\n",
      "└ @ SearchLightPostgreSQL /home/mf/.julia/packages/SearchLightPostgreSQL/TgpHy/src/SearchLightPostgreSQL.jl:134\n",
      "┌ Info: SELECT \"validityintervals\".\"id\" AS \"validityintervals_id\", \"validityintervals\".\"ref_history\" AS \"validityintervals_ref_history\", \"validityintervals\".\"ref_version\" AS \"validityintervals_ref_version\", \"validityintervals\".\"tsdb_validfrom\" AS \"validityintervals_tsdb_validfrom\", \"validityintervals\".\"tsworld_validfrom\" AS \"validityintervals_tsworld_validfrom\", \"validityintervals\".\"tsdb_invalidfrom\" AS \"validityintervals_tsdb_invalidfrom\", \"validityintervals\".\"tsworld_invalidfrom\" AS \"validityintervals_tsworld_invalidfrom\", \"validityintervals\".\"is_committed\" AS \"validityintervals_is_committed\" FROM \"validityintervals\" WHERE ref_history = E'15' AND tsrdb @> TIMESTAMPTZ E'2038-01-18T03:14:06.999+00:00' AND tsrworld <@ tstzrange(E'2014-05-31T20:00:01.001+00:00',E'2038-01-19T03:14:06.999+00:00') AND is_committed=1 ORDER BY validityintervals.id ASC\n",
      "└ @ SearchLightPostgreSQL /home/mf/.julia/packages/SearchLightPostgreSQL/TgpHy/src/SearchLightPostgreSQL.jl:134\n",
      "┌ Info: SELECT \"validityintervals\".\"id\" AS \"validityintervals_id\", \"validityintervals\".\"ref_history\" AS \"validityintervals_ref_history\", \"validityintervals\".\"ref_version\" AS \"validityintervals_ref_version\", \"validityintervals\".\"tsdb_validfrom\" AS \"validityintervals_tsdb_validfrom\", \"validityintervals\".\"tsworld_validfrom\" AS \"validityintervals_tsworld_validfrom\", \"validityintervals\".\"tsdb_invalidfrom\" AS \"validityintervals_tsdb_invalidfrom\", \"validityintervals\".\"tsworld_invalidfrom\" AS \"validityintervals_tsworld_invalidfrom\", \"validityintervals\".\"is_committed\" AS \"validityintervals_is_committed\" FROM \"validityintervals\" WHERE ref_history = E'15' AND tsrdb @> TIMESTAMPTZ E'2038-01-18T03:14:06.999+00:00' AND tsrworld && tstzrange(E'2014-05-31T20:00:01.001+00:00',E'2038-01-19T03:14:06.999+00:00') AND is_committed=1 ORDER BY validityintervals.id ASC\n",
      "└ @ SearchLightPostgreSQL /home/mf/.julia/packages/SearchLightPostgreSQL/TgpHy/src/SearchLightPostgreSQL.jl:134\n",
      "┌ Info: UPDATE validityintervals SET  \"id\" = E'15', \"ref_history\" = E'15', \"ref_version\" = E'15', \"tsdb_validfrom\" = E'2022-07-07T18:49:22.132+01:00', \"tsworld_validfrom\" = E'2014-05-30T20:00:01.001+00:00', \"tsdb_invalidfrom\" = E'2038-01-19T03:14:06.999+00:00', \"tsworld_invalidfrom\" = E'2038-01-19T03:14:06.999+00:00', \"is_committed\" = 1 WHERE validityintervals.id = '15' RETURNING id\n",
      "└ @ SearchLightPostgreSQL /home/mf/.julia/packages/SearchLightPostgreSQL/TgpHy/src/SearchLightPostgreSQL.jl:134\n",
      "NOTICE:  NEW: (15,15,15,\"2014-05-30 20:00:01.001+00\",\"2038-01-19 03:14:06.999+00\",\"2022-07-07 17:49:22.132+00\",\"2038-01-19 03:14:06.999+00\",\"[\"\"2014-05-30 20:00:01.001+00\"\",\"\"2038-01-19 03:14:06.999+00\"\")\",\"[\"\"2022-07-07 17:49:22.12+00\"\",\"\"2038-01-19 03:14:06.999+00\"\")\",1)\n",
      "┌ Info: SELECT \"validityintervals\".\"id\" AS \"validityintervals_id\", \"validityintervals\".\"ref_history\" AS \"validityintervals_ref_history\", \"validityintervals\".\"ref_version\" AS \"validityintervals_ref_version\", \"validityintervals\".\"tsdb_validfrom\" AS \"validityintervals_tsdb_validfrom\", \"validityintervals\".\"tsworld_validfrom\" AS \"validityintervals_tsworld_validfrom\", \"validityintervals\".\"tsdb_invalidfrom\" AS \"validityintervals_tsdb_invalidfrom\", \"validityintervals\".\"tsworld_invalidfrom\" AS \"validityintervals_tsworld_invalidfrom\", \"validityintervals\".\"is_committed\" AS \"validityintervals_is_committed\" FROM \"validityintervals\" WHERE \"id\" = 15 ORDER BY validityintervals.id ASC\n",
      "└ @ SearchLightPostgreSQL /home/mf/.julia/packages/SearchLightPostgreSQL/TgpHy/src/SearchLightPostgreSQL.jl:134\n",
      "┌ Info: UPDATE workflows SET  \"id\" = E'15', \"ref_history\" = E'15', \"ref_version\" = E'15', \"tsdb_validfrom\" = E'2022-07-07T18:49:22.132+01:00', \"tsw_validfrom\" = E'2014-05-30T20:00:01.001+00:00', \"is_committed\" = 1 WHERE workflows.id = '15' RETURNING id\n",
      "└ @ SearchLightPostgreSQL /home/mf/.julia/packages/SearchLightPostgreSQL/TgpHy/src/SearchLightPostgreSQL.jl:134\n",
      "┌ Info: SELECT \"workflows\".\"id\" AS \"workflows_id\", \"workflows\".\"ref_history\" AS \"workflows_ref_history\", \"workflows\".\"ref_version\" AS \"workflows_ref_version\", \"workflows\".\"tsdb_validfrom\" AS \"workflows_tsdb_validfrom\", \"workflows\".\"tsw_validfrom\" AS \"workflows_tsw_validfrom\", \"workflows\".\"is_committed\" AS \"workflows_is_committed\" FROM \"workflows\" WHERE \"id\" = 15 ORDER BY workflows.id ASC\n",
      "└ @ SearchLightPostgreSQL /home/mf/.julia/packages/SearchLightPostgreSQL/TgpHy/src/SearchLightPostgreSQL.jl:134\n"
     ]
    },
    {
     "name": "stderr",
     "output_type": "stream",
     "text": [
      "┌ Info: COMMIT\n",
      "└ @ SearchLightPostgreSQL /home/mf/.julia/packages/SearchLightPostgreSQL/TgpHy/src/SearchLightPostgreSQL.jl:134\n",
      "┌ Info: SELECT \"tariffrevisions\".\"id\" AS \"tariffrevisions_id\", \"tariffrevisions\".\"ref_component\" AS \"tariffrevisions_ref_component\", \"tariffrevisions\".\"ref_validfrom\" AS \"tariffrevisions_ref_validfrom\", \"tariffrevisions\".\"ref_invalidfrom\" AS \"tariffrevisions_ref_invalidfrom\", \"tariffrevisions\".\"description\" AS \"tariffrevisions_description\" FROM \"tariffrevisions\" ORDER BY tariffrevisions.id ASC\n",
      "└ @ SearchLightPostgreSQL /home/mf/.julia/packages/SearchLightPostgreSQL/TgpHy/src/SearchLightPostgreSQL.jl:134\n"
     ]
    },
    {
     "data": {
      "text/plain": [
       "2-element Vector{TariffRevision}:\n",
       " TariffRevision\n",
       "| KEY                   | VALUE               |\n",
       "|-----------------------|---------------------|\n",
       "| description::String   | Life Risk Insurance |\n",
       "| id::DbId              | 12                  |\n",
       "| ref_component::DbId   | 12                  |\n",
       "| ref_invalidfrom::DbId | 9223372036854775807 |\n",
       "| ref_validfrom::DbId   | 14                  |\n",
       "\n",
       " TariffRevision\n",
       "| KEY                   | VALUE               |\n",
       "|-----------------------|---------------------|\n",
       "| description::String   | Terminal Illness    |\n",
       "| id::DbId              | 13                  |\n",
       "| ref_component::DbId   | 13                  |\n",
       "| ref_invalidfrom::DbId | 9223372036854775807 |\n",
       "| ref_validfrom::DbId   | 15                  |\n"
      ]
     },
     "metadata": {},
     "output_type": "display_data"
    }
   ],
   "source": [
    "# create Tariffs\n",
    "function create_tariff(dsc)\n",
    "    t = LifeInsuranceDataModel.Tariff()\n",
    "    tr = LifeInsuranceDataModel.TariffRevision(description=dsc)\n",
    "    w = Workflow(\n",
    "        tsw_validfrom=ZonedDateTime(2014, 5, 30, 21, 0, 1, 1, tz\"Africa/Porto-Novo\"),\n",
    "    )\n",
    "    create_entity!(w)\n",
    "    create_component!(t, tr, w)\n",
    "    commit_workflow!(w)\n",
    "end\n",
    "\n",
    "\n",
    "create_tariff(\"Life Risk Insurance\")\n",
    "create_tariff(\"Terminal Illness\")\n",
    "\n",
    "find(TariffRevision)"
   ]
  },
  {
   "cell_type": "code",
   "execution_count": 29,
   "metadata": {},
   "outputs": [
    {
     "name": "stderr",
     "output_type": "stream",
     "text": [
      "┌ Info: SELECT \"tariffs\".\"id\" AS \"tariffs_id\", \"tariffs\".\"ref_history\" AS \"tariffs_ref_history\", \"tariffs\".\"ref_version\" AS \"tariffs_ref_version\" FROM \"tariffs\" ORDER BY tariffs.id ASC\n",
      "└ @ SearchLightPostgreSQL /home/mf/.julia/packages/SearchLightPostgreSQL/TgpHy/src/SearchLightPostgreSQL.jl:134\n",
      "┌ Info: DELETE FROM tariffs WHERE id = '10'\n",
      "└ @ SearchLightPostgreSQL /home/mf/.julia/packages/SearchLightPostgreSQL/TgpHy/src/SearchLightPostgreSQL.jl:134\n",
      "┌ Info: DELETE FROM tariffs WHERE id = '11'\n",
      "└ @ SearchLightPostgreSQL /home/mf/.julia/packages/SearchLightPostgreSQL/TgpHy/src/SearchLightPostgreSQL.jl:134\n",
      "┌ Info: SELECT \"tariffs\".\"id\" AS \"tariffs_id\", \"tariffs\".\"ref_history\" AS \"tariffs_ref_history\", \"tariffs\".\"ref_version\" AS \"tariffs_ref_version\" FROM \"tariffs\" ORDER BY tariffs.id ASC\n",
      "└ @ SearchLightPostgreSQL /home/mf/.julia/packages/SearchLightPostgreSQL/TgpHy/src/SearchLightPostgreSQL.jl:134\n"
     ]
    },
    {
     "data": {
      "text/plain": [
       "Tariff[]"
      ]
     },
     "metadata": {},
     "output_type": "display_data"
    }
   ],
   "source": [
    "\n",
    "\n",
    "map(find(Tariff)) do t\n",
    "    SearchLight.delete(t)\n",
    "end\n",
    "\n",
    "find(Tariff)\n",
    "\n",
    "#   t2 = Tariff()\n",
    "#   tr2 = TariffRevision(description=\"Terminal Illness\")\n",
    "#   w0 = Workflow(\n",
    "#       tsw_validfrom=ZonedDateTime(2014, 5, 30, 21, 0, 1, 1, tz\"Africa/Porto-Novo\"),\n",
    "#   )\n",
    "#   create_entity!(w0)\n",
    "#   create_component!(t2, tr2, w0)\n",
    "#   commit_workflow!(w0)\n",
    "#\n",
    "#   t3 = Tariff()\n",
    "#   tr3 = TariffRevision(description=\"Occupational Disability\")\n",
    "#   w0 = Workflow(\n",
    "#       tsw_validfrom=ZonedDateTime(2014, 5, 30, 21, 0, 1, 1, tz\"Africa/Porto-Novo\"),\n",
    "#   )\n",
    "#\n",
    "#   create_entity!(w0)\n",
    "#   create_component!(t3, tr3, w0)\n",
    "#   commit_workflow!(w0)\n",
    "#\n",
    "#   t4 = Tariff()\n",
    "#   tr4 = TariffRevision(description=\"Profit participation\")\n",
    "#   w0 = Workflow(\n",
    "#       tsw_validfrom=ZonedDateTime(2014, 5, 30, 21, 0, 1, 1, tz\"Africa/Porto-Novo\"),\n",
    "#   )\n",
    "#   create_entity!(w0)\n",
    "#   create_component!(t4, tr4, w0)\n",
    "#   commit_workflow!(w0)\n"
   ]
  },
  {
   "cell_type": "markdown",
   "metadata": {},
   "source": []
  },
  {
   "cell_type": "markdown",
   "metadata": {},
   "source": []
  }
 ],
 "metadata": {
  "kernelspec": {
   "display_name": "Julia 1.6.6",
   "language": "julia",
   "name": "julia-1.6"
  },
  "language_info": {
   "file_extension": ".jl",
   "mimetype": "application/julia",
   "name": "julia",
   "version": "1.6.6"
  },
  "orig_nbformat": 4
 },
 "nbformat": 4,
 "nbformat_minor": 2
}
